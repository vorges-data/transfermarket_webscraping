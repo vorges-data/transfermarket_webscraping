{
 "cells": [
  {
   "cell_type": "markdown",
   "id": "2f329828-9f63-476d-9c84-b4419ecf9f38",
   "metadata": {},
   "source": [
    "# Imports"
   ]
  },
  {
   "cell_type": "code",
   "execution_count": 1,
   "id": "dc72bb1d-864f-4680-a021-8c055f9dff0a",
   "metadata": {},
   "outputs": [],
   "source": [
    "import requests\n",
    "from bs4 import BeautifulSoup"
   ]
  },
  {
   "cell_type": "markdown",
   "id": "0f8525cd-3b42-42bd-befc-5ead9de3a0d9",
   "metadata": {},
   "source": [
    "# URL"
   ]
  },
  {
   "cell_type": "code",
   "execution_count": 2,
   "id": "8730caac-b105-4288-a944-4f820da06ba9",
   "metadata": {},
   "outputs": [],
   "source": [
    "url_base = \"https://www.transfermarkt.com.br/campeonato-brasileiro-serie-a/marktwerte/wettbewerb/BRA1/pos//detailpos/0/altersklasse/alle/plus/1/\"\n",
    "\n",
    "total_paginas = 4"
   ]
  },
  {
   "cell_type": "code",
   "execution_count": 3,
   "id": "74838e4c-f467-40f0-94e4-26716a1c0b52",
   "metadata": {},
   "outputs": [],
   "source": [
    "headers = {\n",
    "    'User-Agent': 'Mozilla/5.0 (Windows NT 10.0; Win64; x64) AppleWebKit/537.36 (KHTML, like Gecko) Chrome/58.0.3029.110 Safari/537.3'}\n",
    "\n",
    "response = requests.get(url_base, headers=headers)"
   ]
  },
  {
   "cell_type": "code",
   "execution_count": 29,
   "id": "adde128d-f8dd-44fd-ac47-fb46af7ca118",
   "metadata": {},
   "outputs": [
    {
     "data": {
      "text/plain": [
       "<Response [200]>"
      ]
     },
     "execution_count": 29,
     "metadata": {},
     "output_type": "execute_result"
    }
   ],
   "source": [
    "response"
   ]
  },
  {
   "cell_type": "code",
   "execution_count": 35,
   "id": "cf87aa3d-8343-495d-8c7b-fa3e76a1648d",
   "metadata": {},
   "outputs": [],
   "source": [
    "soup_player = BeautifulSoup(response.text , 'html.parser')"
   ]
  },
  {
   "cell_type": "markdown",
   "id": "39b70781-69f9-4087-a537-866fde82bf95",
   "metadata": {},
   "source": [
    "### Headers da tabela"
   ]
  },
  {
   "cell_type": "markdown",
   "id": "63b1a4c1-089d-4d5d-89e6-b9a001bcd409",
   "metadata": {},
   "source": [
    "#### Ranking jogadores"
   ]
  },
  {
   "cell_type": "code",
   "execution_count": 49,
   "id": "3cb279e3-8d6d-40b7-a146-4ea862431758",
   "metadata": {},
   "outputs": [
    {
     "data": {
      "text/plain": [
       "'#'"
      ]
     },
     "execution_count": 49,
     "metadata": {},
     "output_type": "execute_result"
    }
   ],
   "source": [
    "soup_player.find_all(id='yw1_c0')[0].text"
   ]
  },
  {
   "cell_type": "markdown",
   "id": "02579e0e-488c-4634-96d4-1e77d4cbba65",
   "metadata": {},
   "source": [
    "#### Jogador"
   ]
  },
  {
   "cell_type": "code",
   "execution_count": 50,
   "id": "0fb87dc3-71ef-4d7b-8b1a-b598ec246806",
   "metadata": {},
   "outputs": [
    {
     "data": {
      "text/plain": [
       "'Jogadores'"
      ]
     },
     "execution_count": 50,
     "metadata": {},
     "output_type": "execute_result"
    }
   ],
   "source": [
    "soup_player.find_all(id='yw1_c1')[0].text"
   ]
  },
  {
   "cell_type": "markdown",
   "id": "86c1ddde-b65c-488a-8bae-e950430b88ce",
   "metadata": {},
   "source": [
    "### Ranking"
   ]
  },
  {
   "cell_type": "code",
   "execution_count": 63,
   "id": "8399c245-c385-4df7-afa5-66cd172af51c",
   "metadata": {},
   "outputs": [],
   "source": [
    "items = soup_player.find(class_='items')"
   ]
  },
  {
   "cell_type": "markdown",
   "id": "64ead71b-068c-40fb-bcc3-9918e8ad53ad",
   "metadata": {},
   "source": [
    "Focando o HTML para extração da tabela"
   ]
  },
  {
   "cell_type": "code",
   "execution_count": 77,
   "id": "2b6ddc08-06a6-4ea4-bb3d-e105d7b8e327",
   "metadata": {},
   "outputs": [],
   "source": [
    "tbody = items.find('tbody')"
   ]
  },
  {
   "cell_type": "markdown",
   "id": "b8429db2-61d2-4a3d-b85d-7c7d6c4f3291",
   "metadata": {},
   "source": [
    "#### Classe Odd"
   ]
  },
  {
   "cell_type": "code",
   "execution_count": 194,
   "id": "106a847c-b0c0-413f-a138-8a98cd24c153",
   "metadata": {},
   "outputs": [],
   "source": [
    "odd = tbody.find(class_='odd')"
   ]
  },
  {
   "cell_type": "markdown",
   "id": "b0a9832c-4444-4210-a418-b3cb5c41b8c1",
   "metadata": {},
   "source": [
    "#### Classe Even"
   ]
  },
  {
   "cell_type": "code",
   "execution_count": 168,
   "id": "e641a0ee-f788-4943-9a79-91be1cfa9cdf",
   "metadata": {},
   "outputs": [],
   "source": [
    "even = tbody.find(class_='even')"
   ]
  },
  {
   "cell_type": "markdown",
   "id": "1b874fb2-e6b4-486f-9fe5-3b0ca996a401",
   "metadata": {},
   "source": [
    "#### Ranking"
   ]
  },
  {
   "cell_type": "code",
   "execution_count": 212,
   "id": "ba59aef7-3793-49e3-8f50-17a720182091",
   "metadata": {},
   "outputs": [
    {
     "data": {
      "text/plain": [
       "'1'"
      ]
     },
     "execution_count": 212,
     "metadata": {},
     "output_type": "execute_result"
    }
   ],
   "source": [
    "tbody.find_all(class_='odd')[0].find(class_='zentriert').text"
   ]
  },
  {
   "cell_type": "code",
   "execution_count": 213,
   "id": "55f4f57d-4125-41af-98cc-4d3a6fd5c7ad",
   "metadata": {},
   "outputs": [
    {
     "name": "stdout",
     "output_type": "stream",
     "text": [
      "1\n",
      "3\n",
      "5\n",
      "7\n",
      "9\n",
      "11\n",
      "13\n",
      "15\n",
      "17\n",
      "19\n",
      "21\n",
      "23\n",
      "25\n"
     ]
    }
   ],
   "source": [
    "for rank in tbody.find_all(class_='odd'):\n",
    "    \n",
    "    try:\n",
    "        print(rank.find(class_='zentriert').text)\n",
    "    except:\n",
    "        pass"
   ]
  },
  {
   "cell_type": "code",
   "execution_count": 214,
   "id": "3b104529-ef4f-4139-aad2-62cd15ac99dc",
   "metadata": {},
   "outputs": [
    {
     "data": {
      "text/plain": [
       "'2'"
      ]
     },
     "execution_count": 214,
     "metadata": {},
     "output_type": "execute_result"
    }
   ],
   "source": [
    "tbody.find_all(class_='even')[0].find(class_='zentriert').text"
   ]
  },
  {
   "cell_type": "code",
   "execution_count": 215,
   "id": "162e545c-9684-4126-aee9-0b6865205a35",
   "metadata": {},
   "outputs": [
    {
     "name": "stdout",
     "output_type": "stream",
     "text": [
      "2\n",
      "4\n",
      "6\n",
      "8\n",
      "10\n",
      "12\n",
      "14\n",
      "16\n",
      "18\n",
      "20\n",
      "22\n",
      "24\n"
     ]
    }
   ],
   "source": [
    "for rank in tbody.find_all(class_='even'):\n",
    "    \n",
    "    try:\n",
    "        print(rank.find(class_='zentriert').text)\n",
    "    except:\n",
    "        pass"
   ]
  },
  {
   "cell_type": "markdown",
   "id": "2aa417ba-c246-4bf1-adb3-0c8f85fc211d",
   "metadata": {},
   "source": [
    "#### Foto jogador"
   ]
  },
  {
   "cell_type": "code",
   "execution_count": 227,
   "id": "e12cc4f8-ae49-4e78-a97f-43949630aed5",
   "metadata": {},
   "outputs": [
    {
     "data": {
      "text/plain": [
       "'https://img.a.transfermarkt.technology/portrait/medium/971570-1682691107.jpg?lm=1'"
      ]
     },
     "execution_count": 227,
     "metadata": {},
     "output_type": "execute_result"
    }
   ],
   "source": [
    "tbody.find_all(class_='odd')[0].find(class_='bilderrahmen-fixed lazy lazy').get('data-src')"
   ]
  },
  {
   "cell_type": "code",
   "execution_count": 230,
   "id": "52514cb3-7e30-4f92-9369-6a906787c126",
   "metadata": {},
   "outputs": [
    {
     "name": "stdout",
     "output_type": "stream",
     "text": [
      "https://img.a.transfermarkt.technology/portrait/medium/971570-1682691107.jpg?lm=1\n",
      "https://img.a.transfermarkt.technology/portrait/medium/432895-1668696996.jpg?lm=1\n",
      "https://img.a.transfermarkt.technology/portrait/medium/991800-1676571608.jpg?lm=1\n",
      "https://img.a.transfermarkt.technology/portrait/medium/248410-1668501457.jpg?lm=1\n",
      "https://img.a.transfermarkt.technology/portrait/medium/489893-1643722952.png?lm=1\n",
      "https://img.a.transfermarkt.technology/portrait/medium/341705-1640777566.jpg?lm=1\n",
      "https://img.a.transfermarkt.technology/portrait/medium/496268-1706144655.jpg?lm=1\n",
      "https://img.a.transfermarkt.technology/portrait/medium/691906-1686753407.jpg?lm=1\n",
      "https://img.a.transfermarkt.technology/portrait/medium/371009-1582109366.jpg?lm=1\n",
      "https://img.a.transfermarkt.technology/portrait/medium/1056993-1680450154.jpg?lm=1\n",
      "https://img.a.transfermarkt.technology/portrait/medium/436385-1568147700.jpg?lm=1\n",
      "https://img.a.transfermarkt.technology/portrait/medium/588989-1699149020.jpg?lm=1\n",
      "https://img.a.transfermarkt.technology/portrait/medium/458710-1642081312.png?lm=1\n"
     ]
    }
   ],
   "source": [
    "for img in tbody.find_all(class_='odd'):\n",
    "    \n",
    "    try:\n",
    "        print(img.find(class_='bilderrahmen-fixed lazy lazy').get('data-src'))\n",
    "    except:\n",
    "        pass"
   ]
  },
  {
   "cell_type": "code",
   "execution_count": 231,
   "id": "7bc63683-8d7b-48ec-9fba-2368f94707c2",
   "metadata": {},
   "outputs": [
    {
     "name": "stdout",
     "output_type": "stream",
     "text": [
      "https://img.a.transfermarkt.technology/portrait/medium/800176-1699348390.jpg?lm=1\n",
      "https://img.a.transfermarkt.technology/portrait/medium/432953-1706144797.jpg?lm=1\n",
      "https://img.a.transfermarkt.technology/portrait/medium/244275-1660003081.jpg?lm=1\n",
      "https://img.a.transfermarkt.technology/portrait/medium/1086636-1706118752.jpg?lm=1\n",
      "https://img.a.transfermarkt.technology/portrait/medium/428791-1658913690.jpg?lm=1\n",
      "https://img.a.transfermarkt.technology/portrait/medium/397458-1625771741.png?lm=1\n",
      "https://img.a.transfermarkt.technology/portrait/medium/800175-1673262492.jpg?lm=1\n",
      "https://img.a.transfermarkt.technology/portrait/medium/892089-1649181461.jpg?lm=1\n",
      "https://img.a.transfermarkt.technology/portrait/medium/608216-1694617874.jpg?lm=1\n",
      "https://img.a.transfermarkt.technology/portrait/medium/346766-1662404116.jpg?lm=1\n",
      "https://img.a.transfermarkt.technology/portrait/medium/321239-1603795820.jpg?lm=1\n",
      "https://img.a.transfermarkt.technology/portrait/medium/468304-1690483898.jpg?lm=1\n"
     ]
    }
   ],
   "source": [
    "for img in tbody.find_all(class_='even'):\n",
    "    \n",
    "    try:\n",
    "        print(img.find(class_='bilderrahmen-fixed lazy lazy').get('data-src'))\n",
    "    except:\n",
    "        pass"
   ]
  },
  {
   "cell_type": "markdown",
   "id": "5ea81d4d-533b-4228-803c-115a6c9c89ce",
   "metadata": {},
   "source": [
    "#### Nome Jogador"
   ]
  },
  {
   "cell_type": "code",
   "execution_count": 237,
   "id": "944abe51-83a3-465c-a332-64ef903ef351",
   "metadata": {},
   "outputs": [
    {
     "data": {
      "text/plain": [
       "'Endrick'"
      ]
     },
     "execution_count": 237,
     "metadata": {},
     "output_type": "execute_result"
    }
   ],
   "source": [
    "tbody.find_all(class_='odd')[0].find('img').get('title')"
   ]
  },
  {
   "cell_type": "code",
   "execution_count": 238,
   "id": "637e4e17-8916-4c4e-8d45-18ea9fa0c4dd",
   "metadata": {},
   "outputs": [
    {
     "name": "stdout",
     "output_type": "stream",
     "text": [
      "Endrick\n",
      "Pedro\n",
      "Luis Guilherme\n",
      "Giorgian de Arrascaeta\n",
      "Yuri Alberto\n",
      "Gerson\n",
      "Joaquín Piquerez\n",
      "Bento\n",
      "Rony\n",
      "Estêvão\n",
      "Mathías Villasanti\n",
      "Jhon Arias\n",
      "Murilo\n"
     ]
    }
   ],
   "source": [
    "for name in tbody.find_all(class_='odd'):\n",
    "    \n",
    "    try:\n",
    "        print(name.find('img').get('title'))\n",
    "    except:\n",
    "        pass"
   ]
  },
  {
   "cell_type": "code",
   "execution_count": 239,
   "id": "2aff5637-54f0-4af2-ba8c-65f608f1df6e",
   "metadata": {},
   "outputs": [
    {
     "name": "stdout",
     "output_type": "stream",
     "text": [
      "André\n",
      "Raphael Veiga\n",
      "Gabriel Barbosa\n",
      "Gabriel Moscardo\n",
      "Paulinho\n",
      "Nicolás de la Cruz\n",
      "Luiz Henrique\n",
      "Pablo Maia\n",
      "Gabriel Menino\n",
      "Guilherme Arana\n",
      "Everton\n",
      "Rodrigo Nestor\n"
     ]
    }
   ],
   "source": [
    "for name in tbody.find_all(class_='even'):\n",
    "    \n",
    "    try:\n",
    "        print(name.find('img').get('title'))\n",
    "    except:\n",
    "        pass"
   ]
  },
  {
   "cell_type": "markdown",
   "id": "96976c34-5122-466c-8765-253e9675246d",
   "metadata": {},
   "source": [
    "#### Posição"
   ]
  },
  {
   "cell_type": "code",
   "execution_count": 258,
   "id": "21d8a271-6461-4704-b025-4eedacd120e8",
   "metadata": {},
   "outputs": [
    {
     "data": {
      "text/plain": [
       "'Centroavante'"
      ]
     },
     "execution_count": 258,
     "metadata": {},
     "output_type": "execute_result"
    }
   ],
   "source": [
    "tbody.find_all(class_='odd')[0].find_next().find_next().find_next().find_next().find_next().find_next().find_next().find_next().find_next().get_text(strip=True)"
   ]
  },
  {
   "cell_type": "code",
   "execution_count": 260,
   "id": "702a816a-2ed5-4550-bd87-2d0be0d6c173",
   "metadata": {},
   "outputs": [
    {
     "name": "stdout",
     "output_type": "stream",
     "text": [
      "Centroavante\n",
      "Centroavante\n",
      "Meia Ofensivo\n",
      "Meia Ofensivo\n",
      "Centroavante\n",
      "Meia Central\n",
      "Lateral Esq.\n",
      "Goleiro\n",
      "Centroavante\n",
      "Ponta Direita\n",
      "Volante\n",
      "Ponta Direita\n",
      "Zagueiro\n"
     ]
    }
   ],
   "source": [
    "for pos in tbody.find_all(class_='odd'):\n",
    "    \n",
    "    try:\n",
    "        print(pos.find_next().find_next().find_next().find_next().find_next().find_next().find_next().find_next().find_next().get_text(strip=True))\n",
    "    except:\n",
    "        pass"
   ]
  },
  {
   "cell_type": "code",
   "execution_count": 261,
   "id": "dcb4edaf-4e6a-455f-8983-700f4a878fa2",
   "metadata": {},
   "outputs": [
    {
     "name": "stdout",
     "output_type": "stream",
     "text": [
      "Volante\n",
      "Meia Ofensivo\n",
      "Centroavante\n",
      "Volante\n",
      "Ponta Esquerda\n",
      "Meia Ofensivo\n",
      "Ponta Direita\n",
      "Volante\n",
      "Meia Central\n",
      "Lateral Esq.\n",
      "Ponta Esquerda\n",
      "Meia Central\n"
     ]
    }
   ],
   "source": [
    "for pos in tbody.find_all(class_='even'):\n",
    "    \n",
    "    try:\n",
    "        print(pos.find_next().find_next().find_next().find_next().find_next().find_next().find_next().find_next().find_next().get_text(strip=True))\n",
    "    except:\n",
    "        pass"
   ]
  },
  {
   "cell_type": "markdown",
   "id": "d6b17ea0-e0bf-4205-9e06-f5d137c68260",
   "metadata": {},
   "source": [
    "#### Imagem nacionalidade"
   ]
  },
  {
   "cell_type": "code",
   "execution_count": 264,
   "id": "97a64786-ac5d-4878-a025-567ba56f96ad",
   "metadata": {},
   "outputs": [
    {
     "data": {
      "text/plain": [
       "'https://tmssl.akamaized.net/images/flagge/verysmall/26.png?lm=1520611569'"
      ]
     },
     "execution_count": 264,
     "metadata": {},
     "output_type": "execute_result"
    }
   ],
   "source": [
    "tbody.find_all(class_='odd')[0].find(class_='flaggenrahmen').get('src')"
   ]
  },
  {
   "cell_type": "code",
   "execution_count": 265,
   "id": "ec2caf80-c935-46c9-9666-fde0f2b5ecc6",
   "metadata": {},
   "outputs": [
    {
     "name": "stdout",
     "output_type": "stream",
     "text": [
      "https://tmssl.akamaized.net/images/flagge/verysmall/26.png?lm=1520611569\n",
      "https://tmssl.akamaized.net/images/flagge/verysmall/26.png?lm=1520611569\n",
      "https://tmssl.akamaized.net/images/flagge/verysmall/26.png?lm=1520611569\n",
      "https://tmssl.akamaized.net/images/flagge/verysmall/179.png?lm=1520611569\n",
      "https://tmssl.akamaized.net/images/flagge/verysmall/26.png?lm=1520611569\n",
      "https://tmssl.akamaized.net/images/flagge/verysmall/26.png?lm=1520611569\n",
      "https://tmssl.akamaized.net/images/flagge/verysmall/179.png?lm=1520611569\n",
      "https://tmssl.akamaized.net/images/flagge/verysmall/26.png?lm=1520611569\n",
      "https://tmssl.akamaized.net/images/flagge/verysmall/26.png?lm=1520611569\n",
      "https://tmssl.akamaized.net/images/flagge/verysmall/26.png?lm=1520611569\n",
      "https://tmssl.akamaized.net/images/flagge/verysmall/132.png?lm=1520611569\n",
      "https://tmssl.akamaized.net/images/flagge/verysmall/83.png?lm=1520611569\n",
      "https://tmssl.akamaized.net/images/flagge/verysmall/26.png?lm=1520611569\n"
     ]
    }
   ],
   "source": [
    "for img_nac in tbody.find_all(class_='odd'):\n",
    "    \n",
    "    try:\n",
    "        print(img_nac.find(class_='flaggenrahmen').get('src'))\n",
    "    except:\n",
    "        pass"
   ]
  },
  {
   "cell_type": "code",
   "execution_count": 266,
   "id": "af4522cb-e349-45c1-b957-309fb31e0776",
   "metadata": {},
   "outputs": [
    {
     "name": "stdout",
     "output_type": "stream",
     "text": [
      "https://tmssl.akamaized.net/images/flagge/verysmall/26.png?lm=1520611569\n",
      "https://tmssl.akamaized.net/images/flagge/verysmall/26.png?lm=1520611569\n",
      "https://tmssl.akamaized.net/images/flagge/verysmall/26.png?lm=1520611569\n",
      "https://tmssl.akamaized.net/images/flagge/verysmall/26.png?lm=1520611569\n",
      "https://tmssl.akamaized.net/images/flagge/verysmall/26.png?lm=1520611569\n",
      "https://tmssl.akamaized.net/images/flagge/verysmall/179.png?lm=1520611569\n",
      "https://tmssl.akamaized.net/images/flagge/verysmall/26.png?lm=1520611569\n",
      "https://tmssl.akamaized.net/images/flagge/verysmall/26.png?lm=1520611569\n",
      "https://tmssl.akamaized.net/images/flagge/verysmall/26.png?lm=1520611569\n",
      "https://tmssl.akamaized.net/images/flagge/verysmall/26.png?lm=1520611569\n",
      "https://tmssl.akamaized.net/images/flagge/verysmall/26.png?lm=1520611569\n",
      "https://tmssl.akamaized.net/images/flagge/verysmall/26.png?lm=1520611569\n"
     ]
    }
   ],
   "source": [
    "for img_nac in tbody.find_all(class_='even'):\n",
    "    \n",
    "    try:\n",
    "        print(img_nac.find(class_='flaggenrahmen').get('src'))\n",
    "    except:\n",
    "        pass"
   ]
  },
  {
   "cell_type": "markdown",
   "id": "873f7a36-5355-4a57-bd07-3f88de21c241",
   "metadata": {},
   "source": [
    "#### Nacionalidade"
   ]
  },
  {
   "cell_type": "code",
   "execution_count": 268,
   "id": "c0273953-cde3-4683-b1d1-26d28b0bfe27",
   "metadata": {},
   "outputs": [
    {
     "data": {
      "text/plain": [
       "'Brasil'"
      ]
     },
     "execution_count": 268,
     "metadata": {},
     "output_type": "execute_result"
    }
   ],
   "source": [
    "tbody.find_all(class_='odd')[0].find(class_='flaggenrahmen').get('title')"
   ]
  },
  {
   "cell_type": "code",
   "execution_count": null,
   "id": "d96cdeee-aa5e-4f44-90de-9b649ca8248b",
   "metadata": {},
   "outputs": [],
   "source": [
    "for img_nac in tbody.find_all(class_='odd'):\n",
    "    \n",
    "    try:\n",
    "        print(img_nac.find(class_='flaggenrahmen').get('src'))\n",
    "    except:\n",
    "        pass"
   ]
  },
  {
   "cell_type": "code",
   "execution_count": 145,
   "id": "4c0a0bc1-cad5-45c2-9671-f5bbc1a5c296",
   "metadata": {},
   "outputs": [
    {
     "data": {
      "text/plain": [
       "<td class=\"zentriert\">17</td>"
      ]
     },
     "execution_count": 145,
     "metadata": {},
     "output_type": "execute_result"
    }
   ],
   "source": [
    "odd.select_one('#yw1 > table > tbody > tr:nth-child(1) > td:nth-child(4)')"
   ]
  },
  {
   "cell_type": "code",
   "execution_count": 153,
   "id": "69af03c2-0982-4296-b60e-7b1a75009854",
   "metadata": {},
   "outputs": [
    {
     "data": {
      "text/plain": [
       "<bound method Tag.find_all of <tr class=\"odd\">\n",
       "<td class=\"zentriert\">1</td><td> <table class=\"inline-table\">\n",
       "<tr>\n",
       "<td rowspan=\"2\">\n",
       "<img alt=\"Endrick\" class=\"bilderrahmen-fixed lazy lazy\" data-src=\"https://img.a.transfermarkt.technology/portrait/medium/971570-1682691107.jpg?lm=1\" src=\"data:image/gif;base64,R0lGODlhAQABAIAAAMLCwgAAACH5BAAAAAAALAAAAAABAAEAAAICRAEAOw==\" title=\"Endrick\"/> </td>\n",
       "<td class=\"hauptlink\">\n",
       "<a href=\"/endrick/profil/spieler/971570\" title=\"Endrick\">Endrick</a> </td>\n",
       "</tr>\n",
       "<tr>\n",
       "<td>Centroavante</td>\n",
       "</tr>\n",
       "</table>\n",
       "</td><td class=\"zentriert\"><img alt=\"Brasil\" class=\"flaggenrahmen\" src=\"https://tmssl.akamaized.net/images/flagge/verysmall/26.png?lm=1520611569\" title=\"Brasil\"/></td><td class=\"zentriert\">17</td><td class=\"zentriert\"><a href=\"/se-palmeiras-sao-paulo/startseite/verein/1023/saison_id/2023\" title=\"SE Palmeiras\"><img alt=\"SE Palmeiras\" class=\"\" src=\"https://tmssl.akamaized.net/images/wappen/verysmall/1023.png?lm=1411204983\" title=\"SE Palmeiras\"/></a></td><td class=\"rechts\"><span class=\"cp\" title=\"11/12/2023\">45,00 mi. €</span></td><td class=\"zentriert\">11/12/2023</td><td class=\"rechts hauptlink\"><a href=\"/endrick/marktwertverlauf/spieler/971570\">45,00 mi. €</a> </td></tr>>"
      ]
     },
     "execution_count": 153,
     "metadata": {},
     "output_type": "execute_result"
    }
   ],
   "source": [
    "odd.find_all"
   ]
  },
  {
   "cell_type": "code",
   "execution_count": null,
   "id": "b80e98ef-0227-43e7-8ff2-69371b9d1b53",
   "metadata": {},
   "outputs": [],
   "source": []
  }
 ],
 "metadata": {
  "kernelspec": {
   "display_name": "Python 3 (ipykernel)",
   "language": "python",
   "name": "python3"
  },
  "language_info": {
   "codemirror_mode": {
    "name": "ipython",
    "version": 3
   },
   "file_extension": ".py",
   "mimetype": "text/x-python",
   "name": "python",
   "nbconvert_exporter": "python",
   "pygments_lexer": "ipython3",
   "version": "3.10.12"
  }
 },
 "nbformat": 4,
 "nbformat_minor": 5
}
