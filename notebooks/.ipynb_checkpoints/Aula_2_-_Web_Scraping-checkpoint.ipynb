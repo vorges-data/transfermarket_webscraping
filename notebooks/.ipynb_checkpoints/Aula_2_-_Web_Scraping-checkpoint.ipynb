{
 "cells": [
  {
   "cell_type": "markdown",
   "id": "9744494a",
   "metadata": {},
   "source": [
    "## Aula 36 - Web Scraping & Web Crawling"
   ]
  },
  {
   "cell_type": "markdown",
   "id": "3e770afb",
   "metadata": {},
   "source": [
    "# Selenium Webdriver\n",
    "\n",
    "É uma ferramenta de automação de teste utilizada principalmente para testar aplicativos web. Ele fornece uma interface de programação que permite interagir com os elementos de uma página web, como botões, links, formulários e outros elementos.\n",
    "\n",
    "O Selenium WebDriver é uma biblioteca de código aberto que oferece suporte a várias linguagens de programação, como Java, Python, C#, Ruby, entre outras. É possível simular o comportamento de um usuário interagindo com um aplicativo web, verificando se as páginas são exibidas corretamente, se os elementos funcionam conforme o esperado, clicando em elementos, digitando comandos do teclado e verificando se os dados são processados adequadamente.\n",
    "\n",
    "Além de fazer os testes automatizados, essa ferramenta nos permite escrever códigos em Python que vão interagir com o navegador, possibilitando extrair dados que estão protegidos por conteúdos dinâmicos.\n"
   ]
  },
  {
   "cell_type": "markdown",
   "id": "99d6c700",
   "metadata": {},
   "source": [
    "## Instalação\n",
    "\n",
    "\n",
    "\n",
    "Existem duas maneiras de utilizar o Selenium no Python, a primeira delas é baixando um Driver do navegador que irá ser utilizado, que é o que manda a documentação\n",
    "\n",
    "A segunda maneira é mais recente, a própria biblioteca sugere o uso pois a primeira maneira irá ser descontinuada."
   ]
  },
  {
   "cell_type": "markdown",
   "id": "6c62d375",
   "metadata": {},
   "source": [
    "###  Método atual"
   ]
  },
  {
   "cell_type": "markdown",
   "id": "e0c6ef0a",
   "metadata": {},
   "source": [
    "\n",
    "Além de instalar a biblioteca, precisamos baixar um Driver relacionado ao navegador que iremos utilizar, abaixo os links dos principais navegadores :\n",
    "\n",
    "Google Chrome: **[Google Chrome Webdriver](https://chromedriver.chromium.org/downloads)**\n",
    "\n",
    "Mozilla Firefox: **[Mozilla Webdriver](https://github.com/mozilla/geckodriver/releases)**\n",
    "\n",
    "Microsoft Edge: **[Edge Webdriver](https://developer.microsoft.com/en-us/microsoft-edge/tools/webdriver/)** \n"
   ]
  },
  {
   "cell_type": "code",
   "execution_count": null,
   "id": "b41fa296",
   "metadata": {},
   "outputs": [],
   "source": [
    "#!pip install selenium"
   ]
  },
  {
   "cell_type": "code",
   "execution_count": 9,
   "id": "831d3eff",
   "metadata": {},
   "outputs": [],
   "source": [
    "from selenium import webdriver"
   ]
  },
  {
   "cell_type": "code",
   "execution_count": 10,
   "id": "a767ee70",
   "metadata": {},
   "outputs": [],
   "source": [
    "#apontando para um driver\n",
    "\n",
    "from selenium import webdriver\n",
    "from selenium.webdriver.chrome.service import Service\n",
    "s=Service('C:/chromedriver/chromedriver.exe')\n",
    "browser = webdriver.Chrome(service=s)\n"
   ]
  },
  {
   "cell_type": "markdown",
   "id": "36ef0309",
   "metadata": {},
   "source": [
    "### Método novo"
   ]
  },
  {
   "cell_type": "code",
   "execution_count": null,
   "id": "556138d1",
   "metadata": {},
   "outputs": [],
   "source": [
    "#!pip install selenium"
   ]
  },
  {
   "cell_type": "code",
   "execution_count": null,
   "id": "fe879273",
   "metadata": {},
   "outputs": [],
   "source": [
    "#!pip install webdriver-manager"
   ]
  },
  {
   "cell_type": "code",
   "execution_count": 27,
   "id": "bcc695ba",
   "metadata": {},
   "outputs": [],
   "source": [
    "# Google Chrome\n",
    "\n",
    "from selenium import webdriver\n",
    "from selenium.webdriver.chrome.service import Service\n",
    "from webdriver_manager.chrome import ChromeDriverManager\n",
    "\n",
    "driver = webdriver.Chrome(service=Service(ChromeDriverManager().install()))"
   ]
  },
  {
   "cell_type": "code",
   "execution_count": null,
   "id": "ce0262c0",
   "metadata": {},
   "outputs": [],
   "source": [
    "# Mozilla Firefox\n",
    "\n",
    "from selenium.webdriver.firefox.service import Service\n",
    "from webdriver_manager.firefox import GeckoDriverManager\n",
    "\n",
    "driver = webdriver.Firefox(service=Service(executable_path=GeckoDriverManager().install()))"
   ]
  },
  {
   "cell_type": "markdown",
   "id": "349a2f29",
   "metadata": {},
   "source": [
    "## Enviando requisição GET para um website"
   ]
  },
  {
   "cell_type": "code",
   "execution_count": 12,
   "id": "b1ab3b42",
   "metadata": {},
   "outputs": [],
   "source": [
    "driver.get('https://www.google.com.br')"
   ]
  },
  {
   "cell_type": "code",
   "execution_count": 39,
   "id": "613c8be0",
   "metadata": {},
   "outputs": [],
   "source": [
    "\n"
   ]
  },
  {
   "cell_type": "code",
   "execution_count": null,
   "id": "1ede28f9",
   "metadata": {},
   "outputs": [],
   "source": []
  },
  {
   "cell_type": "code",
   "execution_count": null,
   "id": "8d7c1f78",
   "metadata": {},
   "outputs": [],
   "source": []
  },
  {
   "cell_type": "markdown",
   "id": "604daf72",
   "metadata": {},
   "source": [
    "## Exemplo de um conteúdo dinâmico"
   ]
  },
  {
   "cell_type": "code",
   "execution_count": 13,
   "id": "6c8df653",
   "metadata": {},
   "outputs": [],
   "source": [
    "import requests\n",
    "from bs4 import BeautifulSoup"
   ]
  },
  {
   "cell_type": "code",
   "execution_count": 14,
   "id": "3c3e17d4",
   "metadata": {},
   "outputs": [],
   "source": [
    "#exemplo - Requests \n",
    "\n",
    "req = requests.get('https://justcapital.com/companies/bank-of-america-corporation')\n",
    "\n",
    "soup = BeautifulSoup(req.text,'html.parser')\n",
    "\n"
   ]
  },
  {
   "cell_type": "code",
   "execution_count": 19,
   "id": "a64d52d0",
   "metadata": {},
   "outputs": [],
   "source": [
    "soup.find(class_='industry-average chart-marker visible')"
   ]
  },
  {
   "cell_type": "code",
   "execution_count": null,
   "id": "8473a9df",
   "metadata": {},
   "outputs": [],
   "source": []
  },
  {
   "cell_type": "code",
   "execution_count": null,
   "id": "6cd9b3f1",
   "metadata": {},
   "outputs": [],
   "source": []
  },
  {
   "cell_type": "code",
   "execution_count": 20,
   "id": "f8ce6518",
   "metadata": {},
   "outputs": [],
   "source": [
    "#exemplo - Selenium\n",
    "\n",
    "\n",
    "#método get do Selenium é um pouco diferente das libs convencionais ( requests, urllib)\n",
    "#ele espera até que todo conteúdo do site seja carregado ( AJAX, manifests) e depois manda a requisição GET.\n",
    "driver.get(\"https://justcapital.com/companies/bank-of-america-corporation\")\n",
    "\n",
    "\n"
   ]
  },
  {
   "cell_type": "code",
   "execution_count": 25,
   "id": "8d0ead47",
   "metadata": {},
   "outputs": [
    {
     "data": {
      "text/plain": [
       "<selenium.webdriver.remote.webelement.WebElement (session=\"22385b133cc43465ecd360cc13067e0a\", element=\"14F3F57D3B1D5BC9C68BB35EC307D987_element_75\")>"
      ]
     },
     "execution_count": 25,
     "metadata": {},
     "output_type": "execute_result"
    }
   ],
   "source": [
    "driver.find_element(By.CLASS_NAME,'industry-average.chart-marker.visible')"
   ]
  },
  {
   "cell_type": "code",
   "execution_count": null,
   "id": "41bfd096",
   "metadata": {},
   "outputs": [],
   "source": []
  },
  {
   "cell_type": "code",
   "execution_count": null,
   "id": "512ca3a3",
   "metadata": {},
   "outputs": [],
   "source": []
  },
  {
   "cell_type": "markdown",
   "id": "7da2e61c",
   "metadata": {},
   "source": [
    "## Fechando a conexão\n",
    "\n",
    "Cada vez que utilizamos o Webdriver, abrimos um processo do navegador utilizado (ex: chrome.exe ) \n",
    "É importante fechar as conexões para não manter diversos processos abertos consumindo recursos."
   ]
  },
  {
   "cell_type": "code",
   "execution_count": 26,
   "id": "9af0780e",
   "metadata": {},
   "outputs": [],
   "source": [
    "driver.close()"
   ]
  },
  {
   "cell_type": "code",
   "execution_count": null,
   "id": "2751636e",
   "metadata": {},
   "outputs": [],
   "source": []
  },
  {
   "cell_type": "markdown",
   "id": "4ce88dc4",
   "metadata": {},
   "source": [
    "## Encontrando elementos\n",
    "\n",
    "Para localizar elementos utilizando selenium, precisamos importar o método \"By\"\n",
    "\n"
   ]
  },
  {
   "cell_type": "code",
   "execution_count": 28,
   "id": "6417d316",
   "metadata": {},
   "outputs": [],
   "source": [
    "driver.get(\"https://justcapital.com/companies/bank-of-america-corporation\")"
   ]
  },
  {
   "cell_type": "code",
   "execution_count": 29,
   "id": "bef8de55",
   "metadata": {},
   "outputs": [],
   "source": [
    "from selenium.webdriver.common.by import By\n",
    "\n"
   ]
  },
  {
   "cell_type": "markdown",
   "id": "5866601f",
   "metadata": {},
   "source": [
    "### ID"
   ]
  },
  {
   "cell_type": "code",
   "execution_count": 32,
   "id": "6b4e9443",
   "metadata": {},
   "outputs": [
    {
     "data": {
      "text/plain": [
       "<selenium.webdriver.remote.webelement.WebElement (session=\"878941e7e00c6a25233ee3b15425b406\", element=\"FAD9B22C61FE40B29B844DDEF9ED185D_element_154\")>"
      ]
     },
     "execution_count": 32,
     "metadata": {},
     "output_type": "execute_result"
    }
   ],
   "source": [
    "driver.find_element(By.ID,'just-capital-css')"
   ]
  },
  {
   "cell_type": "code",
   "execution_count": null,
   "id": "7e5aa85b",
   "metadata": {},
   "outputs": [],
   "source": []
  },
  {
   "cell_type": "code",
   "execution_count": null,
   "id": "e7073700",
   "metadata": {},
   "outputs": [],
   "source": []
  },
  {
   "cell_type": "markdown",
   "id": "0f8a40a3",
   "metadata": {},
   "source": [
    "### CLASS_NAME"
   ]
  },
  {
   "cell_type": "code",
   "execution_count": 37,
   "id": "81cbedb3",
   "metadata": {},
   "outputs": [
    {
     "data": {
      "text/plain": [
       "'JUST Capital is the leading platform for measuring and improving corporate performance in the stakeholder economy.\\nConnect with us\\nGet Email Updates\\nDonate'"
      ]
     },
     "execution_count": 37,
     "metadata": {},
     "output_type": "execute_result"
    }
   ],
   "source": [
    "driver.find_element(By.CLASS_NAME,'footer__actions.container').text"
   ]
  },
  {
   "cell_type": "code",
   "execution_count": null,
   "id": "518557b7",
   "metadata": {},
   "outputs": [],
   "source": []
  },
  {
   "cell_type": "code",
   "execution_count": null,
   "id": "6e9cb704",
   "metadata": {},
   "outputs": [],
   "source": []
  },
  {
   "cell_type": "code",
   "execution_count": null,
   "id": "d2094151",
   "metadata": {},
   "outputs": [],
   "source": []
  },
  {
   "cell_type": "markdown",
   "id": "7ae493b6",
   "metadata": {},
   "source": [
    "### TAG_NAME"
   ]
  },
  {
   "cell_type": "code",
   "execution_count": 42,
   "id": "970fa77f",
   "metadata": {},
   "outputs": [
    {
     "data": {
      "text/plain": [
       "<selenium.webdriver.remote.webelement.WebElement (session=\"878941e7e00c6a25233ee3b15425b406\", element=\"FAD9B22C61FE40B29B844DDEF9ED185D_element_161\")>"
      ]
     },
     "execution_count": 42,
     "metadata": {},
     "output_type": "execute_result"
    }
   ],
   "source": [
    "driver.find_element(By.TAG_NAME,'title')"
   ]
  },
  {
   "cell_type": "code",
   "execution_count": null,
   "id": "e2693657",
   "metadata": {},
   "outputs": [],
   "source": []
  },
  {
   "cell_type": "code",
   "execution_count": null,
   "id": "b6f7ddc8",
   "metadata": {},
   "outputs": [],
   "source": []
  },
  {
   "cell_type": "markdown",
   "id": "43a72f67",
   "metadata": {},
   "source": [
    "### NAME"
   ]
  },
  {
   "cell_type": "code",
   "execution_count": 43,
   "id": "a3a00d50",
   "metadata": {},
   "outputs": [
    {
     "data": {
      "text/plain": [
       "<selenium.webdriver.remote.webelement.WebElement (session=\"878941e7e00c6a25233ee3b15425b406\", element=\"FAD9B22C61FE40B29B844DDEF9ED185D_element_163\")>"
      ]
     },
     "execution_count": 43,
     "metadata": {},
     "output_type": "execute_result"
    }
   ],
   "source": [
    "driver.find_element(By.NAME,'twitter:card')"
   ]
  },
  {
   "cell_type": "code",
   "execution_count": null,
   "id": "7d485e38",
   "metadata": {},
   "outputs": [],
   "source": []
  },
  {
   "cell_type": "markdown",
   "id": "1c52179a",
   "metadata": {},
   "source": [
    "### LINK_TEXT"
   ]
  },
  {
   "cell_type": "code",
   "execution_count": 54,
   "id": "e62c731e",
   "metadata": {},
   "outputs": [],
   "source": [
    "driver.get(\"https://www.kabum.com.br/\")"
   ]
  },
  {
   "cell_type": "code",
   "execution_count": 48,
   "id": "61c4dfd1",
   "metadata": {},
   "outputs": [
    {
     "data": {
      "text/plain": [
       "''"
      ]
     },
     "execution_count": 48,
     "metadata": {},
     "output_type": "execute_result"
    }
   ],
   "source": [
    "driver.find_element(By.TAG_NAME,'a').text"
   ]
  },
  {
   "cell_type": "code",
   "execution_count": 57,
   "id": "063a2ea6",
   "metadata": {},
   "outputs": [
    {
     "data": {
      "text/plain": [
       "'https://www.kabum.com.br/hotsite/mega-maio'"
      ]
     },
     "execution_count": 57,
     "metadata": {},
     "output_type": "execute_result"
    }
   ],
   "source": [
    "driver.find_element(By.LINK_TEXT,'Mega Maio').get_attribute('href')"
   ]
  },
  {
   "cell_type": "code",
   "execution_count": null,
   "id": "2e903dd6",
   "metadata": {},
   "outputs": [],
   "source": []
  },
  {
   "cell_type": "code",
   "execution_count": null,
   "id": "758d9a5b",
   "metadata": {},
   "outputs": [],
   "source": []
  },
  {
   "cell_type": "markdown",
   "id": "2024d22a",
   "metadata": {},
   "source": [
    "### PARTIAL_LINK_TEXT"
   ]
  },
  {
   "cell_type": "code",
   "execution_count": 59,
   "id": "2f6d3242",
   "metadata": {},
   "outputs": [
    {
     "data": {
      "text/plain": [
       "'https://www.kabum.com.br/hotsite/mega-maio'"
      ]
     },
     "execution_count": 59,
     "metadata": {},
     "output_type": "execute_result"
    }
   ],
   "source": [
    "driver.find_element(By.PARTIAL_LINK_TEXT,'Mega ').get_attribute('href')"
   ]
  },
  {
   "cell_type": "code",
   "execution_count": null,
   "id": "ce0c0fb7",
   "metadata": {},
   "outputs": [],
   "source": []
  },
  {
   "cell_type": "code",
   "execution_count": null,
   "id": "b4a7a112",
   "metadata": {},
   "outputs": [],
   "source": []
  },
  {
   "cell_type": "markdown",
   "id": "d63f5554",
   "metadata": {},
   "source": [
    "### CSS_SELECTOR"
   ]
  },
  {
   "cell_type": "code",
   "execution_count": 62,
   "id": "4ac534e6",
   "metadata": {},
   "outputs": [
    {
     "data": {
      "text/plain": [
       "'KaBuM! News\\nReceba ofertas\\nCADASTRAR'"
      ]
     },
     "execution_count": 62,
     "metadata": {},
     "output_type": "execute_result"
    }
   ],
   "source": [
    "driver.find_element(By.CSS_SELECTOR,'#secaoNewsletter').text"
   ]
  },
  {
   "cell_type": "code",
   "execution_count": 64,
   "id": "c0a806cc",
   "metadata": {},
   "outputs": [
    {
     "data": {
      "text/plain": [
       "\"1\\n2\\n3\\n4\\n5\\n6\\n7\\n8\\n9\\n10\\nDE FÉRIAS COM O PLAY\\nTERMINA EM:\\n07D 12 : 11 : 29\\n15%\\nRESTAM\\n568\\nUNID.\\n(60)\\nPlaca de Vídeo RTX 3060 Ventus 2X MSI NVIDIA GeForce, 12GB GDDR6, DLSS, Ray Tracing - RTX 3060 Ventus 2X 12G OC\\nR$ 2.632,21\\nR$ 1.999,99\\nÀ vista no PIX\\nTERMINA EM:\\n07D 12 : 11 : 30\\n13%\\nRESTAM\\n961\\nUNID.\\n(22)\\nNotebook Gamer Acer Nitro 5 AMD Ryzen 7-4800H, 8GB RAM, SSD 256GB, GeForce GTX 1650, HDD 1TB, 15.6 Full HD, Windows 11, Preto - AN515-44-R629\\nR$ 6.105,25\\nR$ 4.999,99\\nÀ vista no PIX\\nOPEN BOX\\nTERMINA EM:\\n07D 12 : 11 : 30\\n16%\\nRESTAM\\n966\\nUNID.\\n(535)\\nHeadset Gamer Havit, Drivers 53mm, Microfone Plugável, P2, PC, PS4, XBOX ONE, Preto - HV-H2002D\\nR$ 263,15\\nR$ 209,98\\nÀ vista no PIX\\nOPEN BOX\\nTERMINA EM:\\n07D 12 : 11 : 30\\n33%\\nRESTAM\\n29\\nUNID.\\nCadeira Gamer Husky Gaming Tempest 700, Preto e Vermelho, Com Almofadas, Descanso Para Pernas Retrátil, Reclinável - HGMA075\\nR$ 1.578,94\\nR$ 999,99\\nÀ vista no PIX\\nTERMINA EM:\\n07D 12 : 11 : 30\\nVER TODOS\\nDESTAQUES NINJA\\nVER TODOS\\n17%\\nRESTAM\\n38\\nUNID.\\n(12)\\nMonitor Gamer Asus ROG Swift 49' LED, Ultra Wide, 144 Hz, DFHD, FreeSync Premium, HDR 10, 100% sRGB, HDMI/DisplayPort, Som - XG49VQ\\nR$ 8.111,10\\nR$ 5.999,99\\nÀ vista no PIX\\nTERMINA EM:\\n07D 12 : 11 : 30\\n13%\\nRESTAM\\n961\\nUNID.\\n(22)\\nNotebook Gamer Acer Nitro 5 AMD Ryzen 7-4800H, 8GB RAM, SSD 256GB, GeForce GTX 1650, HDD 1TB, 15.6 Full HD, Windows 11, Preto - AN515-44-R629\\nR$ 6.105,25\\nR$ 4.999,99\\nÀ vista no PIX\\nTERMINA EM:\\n07D 12 : 11 : 30\\n33%\\nRESTAM\\n29\\nUNID.\\n(60)\\nCadeira Gamer Husky Gaming Tempest 700, Preto e Vermelho, Com Almofadas, Descanso Para Pernas Retrátil, Reclinável - HGMA075\\nR$ 1.578,94\\nR$ 999,99\\nÀ vista no PIX\\nTERMINA EM:\\n07D 12 : 11 : 30\\n5%\\nRESTAM\\n75\\nUNID.\\nSmart TV Samsung 85 Polegadas Crystal UHD 4K BU8000, 3 HDMI, 2 USB, Wi-Fi, Bluetooth, Alexa, Google, Tela Infinita - UN85BU8000GXZD\\nR$ 9.999,99\\nR$ 9.499,99\\nÀ vista no PIX\\nTERMINA EM:\\n07D 12 : 11 : 30\\n\\u200c\\n\\u200c\\n\\u200c\\n\\u200c\\n\\u200c\\n\\u200c\\n\\u200c\\n\\u200c\\n\\u200c\\n\\u200c\\n\\u200c\\n\\u200c\\n\\u200c\\n\\u200c\\n\\u200c\\n\\u200c\\n\\u200c\\n\\u200c\\nACABARAM DE CHEGAR\\nVER TODOS\\n(4)\\nCaixa de Som Hayom 6W, USB/P2, Controle de Volume, Preto - KM2501\\nR$ 18,99\\nÀ vista no PIX\\nR$ 18,04 com\\n(2)\\nRoteador TP-Link Deco Mesh M5, Dual Band AC1300, 2,4 GHz, WAN/LAN Gigabit, 4 Antenas Internas, 2 Peças, Branco - DECO M5(2-PACK)\\nR$ 849,99\\nÀ vista no PIX\\nCOMPRAR\\nGabinete Gamer Evolut Nord, Mid Tower, LED, M-ATX/ITX, Lateral e Frontal em Vidro Temperado, Preto - EG-815\\nR$ 199,99\\nÀ vista no PIX\\nR$ 193,99 com\\nCOMPRAR\\nMAIS VENDIDOS\\n(2)\\nGift Card Google Play: 15 Reais - Cartão Presente Digital\\nR$ 15,00\\nÀ vista no PIX\\nCOMPRAR\\n(3)\\nNotebook Gamer Acer Nitro 5 Intel Core i7-11800H, GeForce RTX 3050, 8GB RAM, SSD 512GB, 15.6 Full HD 144Hz, Win 11, Preto - AN515-57-73G1\\nR$ 7.599,99\\nÀ vista no PIX\\nOPEN BOX\\nCOMPRAR\\n21%\\nRESTAM\\n91\\nUNID.\\n(1)\\nSSD Adata Legend 710, 512GB, M.2 2280 PCIe GEN3x4, NVMe 1.4, Leitura: 2.400 MB/s e Gravação: 1.800 MB/s, Azul - ALEG-710-512GCS\\nR$ 270,58\\nR$ 179,99\\nÀ vista no PIX\\nTERMINA EM:\\n07D 12 : 11 : 30\\n11%\\nRESTAM\\n363\\nUNID.\\n(2)\\nPlaca de Vídeo RX 6750 XT Mech 2X 12G OC MSI AMD, 12 GB GDDR6 - XT MECH 2X 12G OC\\nR$ 3.222,21\\nR$ 2.559,99\\nÀ vista no PIX\\nTERMINA EM:\\n07D 12 : 11 : 30\\n28%\\nTeclado Mecânico Gamer HyperX Alloy MKW100, RGB, Switch Red, Full Size, US, Preto - 4P5E1AA#ABA\\nR$ 376,46\\nR$ 229,99\\nÀ vista no PIX\\nOPEN BOX\\nTECMASTERS\\nAs últimas notícias do mundo da Tecnologia.\\nCARTÃO KABUM!\\nSua compra mais Ninja, com anuidade ZERO.\\nSEJA UM PARCEIRO NINJA\\nClique e saiba mais\""
      ]
     },
     "execution_count": 64,
     "metadata": {},
     "output_type": "execute_result"
    }
   ],
   "source": [
    "driver.find_element(By.CSS_SELECTOR,'.sc-e6d65b04-0.kVmAkJ').text"
   ]
  },
  {
   "cell_type": "code",
   "execution_count": null,
   "id": "cf50456f",
   "metadata": {},
   "outputs": [],
   "source": []
  },
  {
   "cell_type": "code",
   "execution_count": null,
   "id": "a50f0f17",
   "metadata": {},
   "outputs": [],
   "source": []
  },
  {
   "cell_type": "markdown",
   "id": "5df277e4",
   "metadata": {},
   "source": [
    "### XPATH\n",
    "\n",
    "XPath é definido como caminho XML. É a sintaxe ou linguagem para procurar qualquer elemento em uma página web usando estrutura de HTML DOM. Para nosso uso, podemos comparar como um caminho absoluto do elemento HTML.\n",
    "\n",
    "Xpath=//nomedatag[@atributo='valor']\n",
    "\n",
    "\n",
    "XPATH Absoluto:\n",
    "\n",
    "é o caminho absoluto do elemento HTML, desde a tag HTML ( começa com /html)\n",
    "    \n",
    "/html/body/div/header/div/div[2]/div/ul[2]/li[1]/div[1]/pre/code\n",
    "\n",
    "\n",
    "XPATH relativo:\n",
    "\n",
    "é o caminho absoluto do elemento HTML, a partir do próprio elemento .\n",
    "\n",
    "//*[@id=\"dive-into-python\"]/ul[2]/li[1]/div[1]/pre/code    \n",
    "\n",
    "\n",
    "é preciso ter cuidado no uso da localização via XPATH , pois qualquer alteração, por menor que seja , na estrutura HTML do website, pode quebrar seu script de web scraping.\n"
   ]
  },
  {
   "cell_type": "markdown",
   "id": "3f8e7e49",
   "metadata": {},
   "source": [
    "#### caminho relativo"
   ]
  },
  {
   "cell_type": "code",
   "execution_count": 65,
   "id": "7b64f60f",
   "metadata": {},
   "outputs": [
    {
     "data": {
      "text/plain": [
       "<selenium.webdriver.remote.webelement.WebElement (session=\"878941e7e00c6a25233ee3b15425b406\", element=\"C6F4C960E2B780F4A09D6ED1CB6B763F_element_669\")>"
      ]
     },
     "execution_count": 65,
     "metadata": {},
     "output_type": "execute_result"
    }
   ],
   "source": [
    "driver.find_element(By.XPATH,'//*[@id=\"carousel-justArrived\"]/div[2]/div[2]/div/div[11]/div/div/a/img')"
   ]
  },
  {
   "cell_type": "code",
   "execution_count": null,
   "id": "e172fa92",
   "metadata": {},
   "outputs": [],
   "source": []
  },
  {
   "cell_type": "code",
   "execution_count": null,
   "id": "2296c64a",
   "metadata": {},
   "outputs": [],
   "source": []
  },
  {
   "cell_type": "markdown",
   "id": "ef0875ae",
   "metadata": {},
   "source": [
    "#### caminho absoluto\n"
   ]
  },
  {
   "cell_type": "code",
   "execution_count": null,
   "id": "a8d90731",
   "metadata": {},
   "outputs": [],
   "source": []
  },
  {
   "cell_type": "code",
   "execution_count": 66,
   "id": "be517e2f",
   "metadata": {},
   "outputs": [
    {
     "data": {
      "text/plain": [
       "<selenium.webdriver.remote.webelement.WebElement (session=\"878941e7e00c6a25233ee3b15425b406\", element=\"C6F4C960E2B780F4A09D6ED1CB6B763F_element_669\")>"
      ]
     },
     "execution_count": 66,
     "metadata": {},
     "output_type": "execute_result"
    }
   ],
   "source": [
    "driver.find_element(By.XPATH,'/html/body/div[1]/main/div[1]/section[2]/div/div[1]/div/div[2]/div/div[2]/div[2]/div/div[11]/div/div/a/img')"
   ]
  },
  {
   "cell_type": "markdown",
   "id": "7f8e8a38",
   "metadata": {},
   "source": [
    "#### capturando TAG + ATRIBUTO  \n",
    "\n"
   ]
  },
  {
   "cell_type": "code",
   "execution_count": 113,
   "id": "ab9cc688",
   "metadata": {},
   "outputs": [],
   "source": [
    "#Xpath=//nomedatag[@atributo='valor']"
   ]
  },
  {
   "cell_type": "code",
   "execution_count": 83,
   "id": "ef824da1",
   "metadata": {},
   "outputs": [
    {
     "data": {
      "text/plain": [
       "<selenium.webdriver.remote.webelement.WebElement (session=\"878941e7e00c6a25233ee3b15425b406\", element=\"C6F4C960E2B780F4A09D6ED1CB6B763F_element_791\")>"
      ]
     },
     "execution_count": 83,
     "metadata": {},
     "output_type": "execute_result"
    }
   ],
   "source": [
    "driver.find_element(By.XPATH,\"//span[@class='sc-3b515ca1-2 gybgF priceCard']\")"
   ]
  },
  {
   "cell_type": "code",
   "execution_count": null,
   "id": "477f7df8",
   "metadata": {},
   "outputs": [],
   "source": []
  },
  {
   "cell_type": "markdown",
   "id": "3cb8e8a1",
   "metadata": {},
   "source": [
    "### Encontrando textos contidos nas tags"
   ]
  },
  {
   "cell_type": "code",
   "execution_count": 89,
   "id": "70356f57",
   "metadata": {},
   "outputs": [
    {
     "data": {
      "text/plain": [
       "'R$\\xa01.999,99'"
      ]
     },
     "execution_count": 89,
     "metadata": {},
     "output_type": "execute_result"
    }
   ],
   "source": [
    "driver.find_element(By.XPATH,\"//span[@class='sc-3b515ca1-2 gybgF priceCard']\").get_attribute('innerText')"
   ]
  },
  {
   "cell_type": "code",
   "execution_count": 92,
   "id": "cd17b2de",
   "metadata": {},
   "outputs": [
    {
     "data": {
      "text/plain": [
       "'R$\\xa01.999,99'"
      ]
     },
     "execution_count": 92,
     "metadata": {},
     "output_type": "execute_result"
    }
   ],
   "source": [
    "driver.find_element(By.CSS_SELECTOR,'[class=\"sc-3b515ca1-2 gybgF priceCard\"]').get_attribute('innerText')"
   ]
  },
  {
   "cell_type": "markdown",
   "id": "e06680e7",
   "metadata": {},
   "source": [
    "### Capturando valor de um atributo"
   ]
  },
  {
   "cell_type": "code",
   "execution_count": 93,
   "id": "4d93a937",
   "metadata": {},
   "outputs": [
    {
     "data": {
      "text/plain": [
       "'R$\\xa01.999,99'"
      ]
     },
     "execution_count": 93,
     "metadata": {},
     "output_type": "execute_result"
    }
   ],
   "source": [
    "driver.find_element(By.CSS_SELECTOR,'[class=\"sc-3b515ca1-2 gybgF priceCard\"]').get_attribute('innerText')"
   ]
  },
  {
   "cell_type": "code",
   "execution_count": null,
   "id": "6fd8df43",
   "metadata": {},
   "outputs": [],
   "source": []
  },
  {
   "cell_type": "code",
   "execution_count": null,
   "id": "ce9d1abe",
   "metadata": {},
   "outputs": [],
   "source": []
  },
  {
   "cell_type": "markdown",
   "id": "eaa87c43",
   "metadata": {},
   "source": [
    "### Capturando todos os links de um website"
   ]
  },
  {
   "cell_type": "code",
   "execution_count": 95,
   "id": "6fe691cd",
   "metadata": {},
   "outputs": [
    {
     "name": "stdout",
     "output_type": "stream",
     "text": [
      "https://www.kabum.com.br/\n",
      "https://www.kabum.com.br/login?redirect_uri=https://www.kabum.com.br/\n",
      "https://www.kabum.com.br/cadastro\n",
      "https://www.kabum.com.br/faq\n",
      "https://www.kabum.com.br/minha-conta/favoritos\n",
      "https://www.kabum.com.br/carrinho\n",
      "https://www.kabum.com.br/monteoseupc\n",
      "https://www.kabum.com.br/ofertas/ofertadodia\n",
      "https://www.kabum.com.br/lancamentos\n",
      "https://www.kabum.com.br/promocao/MENU_PCGAMER\n",
      "https://www.kabum.com.br/hotsite/openbox\n",
      "https://www.kabum.com.br/hotsite/prime/\n",
      "https://www.kabum.com.br/hotsite/cartao\n",
      "https://www.kabum.com.br/hotsite/app/\n",
      "https://www.kabum.com.br/hotsite/giftcard/\n",
      "https://www.kabum.com.br/produto/291955/projetor-led-full-hd-husky-technologies-5810-ansi-lumens-bluetooth-android-preto-htcaj001\n",
      "https://www.kabum.com.br/ofertas/deferiascomoplay\n",
      "https://www.kabum.com.br/ofertas/ofertadodia\n",
      "https://www.kabum.com.br/promocao/ASUSOFERTA\n",
      "https://www.kabum.com.br/produto/191789/placa-de-video-rtx-3060-ti-1-click-oc-galax-nvidia-geforce-8gb-gddr6-lhr-dlss-ray-tracing-preto-36isl6md1vqw\n",
      "https://www.kabum.com.br/promocao/ESPACOGAMER\n",
      "https://www.kabum.com.br/promocao/SAMSUNGWEEK\n",
      "https://www.kabum.com.br/promocao/AUDIOEVIDEO\n",
      "https://www.kabum.com.br/promocao/cartaokabum\n",
      "https://www.kabum.com.br/hardware\n",
      "https://www.kabum.com.br/produto/291955/projetor-led-full-hd-husky-technologies-5810-ansi-lumens-bluetooth-android-preto-htcaj001\n",
      "https://www.kabum.com.br/ofertas/deferiascomoplay\n",
      "https://www.kabum.com.br/ofertas/ofertadodia\n",
      "https://www.kabum.com.br/promocao/ASUSOFERTA\n",
      "https://www.kabum.com.br/produto/191789/placa-de-video-rtx-3060-ti-1-click-oc-galax-nvidia-geforce-8gb-gddr6-lhr-dlss-ray-tracing-preto-36isl6md1vqw\n",
      "https://www.kabum.com.br/promocao/ESPACOGAMER\n",
      "https://www.kabum.com.br/promocao/SAMSUNGWEEK\n",
      "https://www.kabum.com.br/promocao/AUDIOEVIDEO\n",
      "https://www.kabum.com.br/promocao/cartaokabum\n",
      "https://www.kabum.com.br/hardware\n",
      "https://www.kabum.com.br/produto/291955/projetor-led-full-hd-husky-technologies-5810-ansi-lumens-bluetooth-android-preto-htcaj001\n",
      "https://www.kabum.com.br/produto/384627/placa-de-video-rtx-3060-ventus-2x-msi-nvidia-geforce-12gb-gddr6-dlss-ray-tracing-rtx-3060-ventus-2x-12g-oc\n",
      "https://www.kabum.com.br/produto/339504/notebook-gamer-acer-nitro-5-amd-ryzen-7-4800h-8gb-ram-ssd-256gb-geforce-gtx-1650-hdd-1tb-15-6-full-hd-windows-11-preto-an515-44-r629\n",
      "https://www.kabum.com.br/produto/102770/headset-gamer-havit-drivers-53mm-microfone-plugavel-p2-pc-ps4-xbox-one-preto-hv-h2002d\n",
      "https://www.kabum.com.br/produto/134177/cadeira-gamer-husky-gaming-tempest-700-preto-e-vermelho-com-almofadas-descanso-para-pernas-retratil-reclinavel-hgma075\n",
      "https://www.kabum.com.br/produto/333985/smartphone-moto-g52-128gb-4gb-ram-octa-core-camera-tripla-50mp-tela-de-6-6-azul-pau60034br\n",
      "https://www.kabum.com.br/produto/113905/smart-tv-samsung-43-polegadas-led-full-hd-2-hdmi-1-usb-wi-fi-hdr-un43t5300agxzd\n",
      "https://www.kabum.com.br/produto/93160/teclado-mecanico-gamer-redragon-kumara-rgb-switch-outemu-brown-pt-k552rgb-1-pt-brown-\n",
      "https://www.kabum.com.br/produto/157041/cadeira-gamer-dazz-galaxy-thunder-ate-100kg-rgb-retratil-e-reclinavel-preto-62000002\n",
      "https://www.kabum.com.br/produto/81434/multifuncional-hp-officejet-pro-7740-colorida-a3-wi-fi-110v-g5j38a\n",
      "https://www.kabum.com.br/produto/320797/processador-amd-ryzen-7-5700x-3-4ghz-4-6ghz-max-turbo-cache-36mb-am4-sem-video-100-100000926wof\n",
      "https://www.kabum.com.br/produto/315968/hd-interno-wd-gold-enterprise-class-6tb-7200-rpm-3-5-sata-wd6003fryz\n",
      "https://www.kabum.com.br/produto/438678/controle-pc-trust-joystick-gamepad-muta-gxt-541-preto-24789\n",
      "https://www.kabum.com.br/produto/115065/nobreak-weg-home-600-va-bivolt-15002058\n",
      "https://www.kabum.com.br/produto/156100/monitor-gamer-lg-ultra-gear-27-ips-wide-240-hz-full-hd-1ms-freesync-premium-hdr-10-99-srgb-hdmi-displayport-vesa-27gn750-b-awz\n",
      "https://www.kabum.com.br/produto/98244/mouse-gamer-logitech-g502-hero-com-rgb-lightsync-ajustes-de-peso-11-botoes-programaveis-sensor-hero-25k-910-005550\n",
      "https://www.kabum.com.br/produto/386956/caixa-de-som-jbl-boombox-3-bluetooth-usb-80w-rms-preto-28913624\n",
      "https://www.kabum.com.br/produto/103282/fonte-xpg-core-reactor-850w-80-plus-gold-modular\n",
      "https://www.kabum.com.br/produto/461264/soundbar-lg-xboom-sh7q-800w-rms-subwoofer-wireless-5-1-canais-al-sound-pro-sh7q\n",
      "https://www.kabum.com.br/produto/384627/placa-de-video-rtx-3060-ventus-2x-msi-nvidia-geforce-12gb-gddr6-dlss-ray-tracing-rtx-3060-ventus-2x-12g-oc\n",
      "https://www.kabum.com.br/produto/339504/notebook-gamer-acer-nitro-5-amd-ryzen-7-4800h-8gb-ram-ssd-256gb-geforce-gtx-1650-hdd-1tb-15-6-full-hd-windows-11-preto-an515-44-r629\n",
      "https://www.kabum.com.br/produto/102770/headset-gamer-havit-drivers-53mm-microfone-plugavel-p2-pc-ps4-xbox-one-preto-hv-h2002d\n",
      "https://www.kabum.com.br/produto/134177/cadeira-gamer-husky-gaming-tempest-700-preto-e-vermelho-com-almofadas-descanso-para-pernas-retratil-reclinavel-hgma075\n",
      "https://www.kabum.com.br/produto/333985/smartphone-moto-g52-128gb-4gb-ram-octa-core-camera-tripla-50mp-tela-de-6-6-azul-pau60034br\n",
      "https://www.kabum.com.br/produto/113905/smart-tv-samsung-43-polegadas-led-full-hd-2-hdmi-1-usb-wi-fi-hdr-un43t5300agxzd\n",
      "https://www.kabum.com.br/produto/93160/teclado-mecanico-gamer-redragon-kumara-rgb-switch-outemu-brown-pt-k552rgb-1-pt-brown-\n",
      "https://www.kabum.com.br/produto/157041/cadeira-gamer-dazz-galaxy-thunder-ate-100kg-rgb-retratil-e-reclinavel-preto-62000002\n",
      "https://www.kabum.com.br/produto/81434/multifuncional-hp-officejet-pro-7740-colorida-a3-wi-fi-110v-g5j38a\n",
      "https://www.kabum.com.br/produto/320797/processador-amd-ryzen-7-5700x-3-4ghz-4-6ghz-max-turbo-cache-36mb-am4-sem-video-100-100000926wof\n",
      "https://www.kabum.com.br/produto/315968/hd-interno-wd-gold-enterprise-class-6tb-7200-rpm-3-5-sata-wd6003fryz\n",
      "https://www.kabum.com.br/produto/438678/controle-pc-trust-joystick-gamepad-muta-gxt-541-preto-24789\n",
      "https://www.kabum.com.br/produto/115065/nobreak-weg-home-600-va-bivolt-15002058\n",
      "https://www.kabum.com.br/produto/156100/monitor-gamer-lg-ultra-gear-27-ips-wide-240-hz-full-hd-1ms-freesync-premium-hdr-10-99-srgb-hdmi-displayport-vesa-27gn750-b-awz\n",
      "https://www.kabum.com.br/produto/98244/mouse-gamer-logitech-g502-hero-com-rgb-lightsync-ajustes-de-peso-11-botoes-programaveis-sensor-hero-25k-910-005550\n",
      "https://www.kabum.com.br/produto/386956/caixa-de-som-jbl-boombox-3-bluetooth-usb-80w-rms-preto-28913624\n",
      "https://www.kabum.com.br/produto/103282/fonte-xpg-core-reactor-850w-80-plus-gold-modular\n",
      "https://www.kabum.com.br/produto/461264/soundbar-lg-xboom-sh7q-800w-rms-subwoofer-wireless-5-1-canais-al-sound-pro-sh7q\n",
      "https://www.kabum.com.br/produto/384627/placa-de-video-rtx-3060-ventus-2x-msi-nvidia-geforce-12gb-gddr6-dlss-ray-tracing-rtx-3060-ventus-2x-12g-oc\n",
      "https://www.kabum.com.br/produto/339504/notebook-gamer-acer-nitro-5-amd-ryzen-7-4800h-8gb-ram-ssd-256gb-geforce-gtx-1650-hdd-1tb-15-6-full-hd-windows-11-preto-an515-44-r629\n",
      "https://www.kabum.com.br/produto/102770/headset-gamer-havit-drivers-53mm-microfone-plugavel-p2-pc-ps4-xbox-one-preto-hv-h2002d\n",
      "https://www.kabum.com.br/produto/134177/cadeira-gamer-husky-gaming-tempest-700-preto-e-vermelho-com-almofadas-descanso-para-pernas-retratil-reclinavel-hgma075\n",
      "https://www.kabum.com.br/produto/333985/smartphone-moto-g52-128gb-4gb-ram-octa-core-camera-tripla-50mp-tela-de-6-6-azul-pau60034br\n",
      "https://www.kabum.com.br/produto/113905/smart-tv-samsung-43-polegadas-led-full-hd-2-hdmi-1-usb-wi-fi-hdr-un43t5300agxzd\n",
      "https://www.kabum.com.br/produto/93160/teclado-mecanico-gamer-redragon-kumara-rgb-switch-outemu-brown-pt-k552rgb-1-pt-brown-\n",
      "https://www.kabum.com.br/produto/157041/cadeira-gamer-dazz-galaxy-thunder-ate-100kg-rgb-retratil-e-reclinavel-preto-62000002\n",
      "https://www.kabum.com.br/produto/81434/multifuncional-hp-officejet-pro-7740-colorida-a3-wi-fi-110v-g5j38a\n",
      "https://www.kabum.com.br/produto/320797/processador-amd-ryzen-7-5700x-3-4ghz-4-6ghz-max-turbo-cache-36mb-am4-sem-video-100-100000926wof\n",
      "https://www.kabum.com.br/produto/315968/hd-interno-wd-gold-enterprise-class-6tb-7200-rpm-3-5-sata-wd6003fryz\n",
      "https://www.kabum.com.br/produto/438678/controle-pc-trust-joystick-gamepad-muta-gxt-541-preto-24789\n",
      "https://www.kabum.com.br/produto/115065/nobreak-weg-home-600-va-bivolt-15002058\n",
      "https://www.kabum.com.br/produto/156100/monitor-gamer-lg-ultra-gear-27-ips-wide-240-hz-full-hd-1ms-freesync-premium-hdr-10-99-srgb-hdmi-displayport-vesa-27gn750-b-awz\n",
      "https://www.kabum.com.br/produto/98244/mouse-gamer-logitech-g502-hero-com-rgb-lightsync-ajustes-de-peso-11-botoes-programaveis-sensor-hero-25k-910-005550\n",
      "https://www.kabum.com.br/produto/386956/caixa-de-som-jbl-boombox-3-bluetooth-usb-80w-rms-preto-28913624\n",
      "https://www.kabum.com.br/produto/103282/fonte-xpg-core-reactor-850w-80-plus-gold-modular\n",
      "https://www.kabum.com.br/produto/461264/soundbar-lg-xboom-sh7q-800w-rms-subwoofer-wireless-5-1-canais-al-sound-pro-sh7q\n",
      "https://www.kabum.com.br/ofertas/deferiascomoplay\n",
      "https://www.kabum.com.br/promocao/ASPIRADOR700\n",
      "https://www.kabum.com.br/promocao/PERIFERICOS\n"
     ]
    },
    {
     "name": "stdout",
     "output_type": "stream",
     "text": [
      "https://www.kabum.com.br/vitrine/destaques-ninja\n",
      "https://www.kabum.com.br/produto/103167/monitor-gamer-asus-rog-swift-49-led-ultra-wide-144-hz-dfhd-freesync-premium-hdr-10-100-srgb-hdmi-displayport-som-xg49vq\n",
      "https://www.kabum.com.br/produto/339504/notebook-gamer-acer-nitro-5-amd-ryzen-7-4800h-8gb-ram-ssd-256gb-geforce-gtx-1650-hdd-1tb-15-6-full-hd-windows-11-preto-an515-44-r629\n",
      "https://www.kabum.com.br/produto/134177/cadeira-gamer-husky-gaming-tempest-700-preto-e-vermelho-com-almofadas-descanso-para-pernas-retratil-reclinavel-hgma075\n",
      "https://www.kabum.com.br/produto/334887/smart-tv-samsung-85-polegadas-crystal-uhd-4k-bu8000-3-hdmi-2-usb-wi-fi-bluetooth-alexa-google-tela-infinita-un85bu8000gxzd\n",
      "https://www.kabum.com.br/produto/155444/robo-aspirador-de-po-kabum-smart-700-preto-mapeamento-ir-360-controle-via-aplicativo-google-assistant-e-alexa-kbsf003\n",
      "https://www.kabum.com.br/produto/99889/caixa-de-som-multimidia-logitech-z607-som-surround-5-1-bluetooth-e-3-5mm-radio-fm-usb-e-leitor-sd-980-001321\n",
      "https://www.kabum.com.br/produto/415889/computador-all-in-one-dell-inspiron-aio-i1200-a20-intel-core-i7-1255u-16gb-ram-ssd-512gb-23-8-full-hd-windows-11-branco-210-bghq\n",
      "https://www.kabum.com.br/produto/324516/gabinete-gamer-rise-mode-glass-06x-mid-tower-lateral-em-vidro-fume-e-frontal-em-vidro-temperado-preto-rm-ca-06x-fb\n",
      "https://www.kabum.com.br/produto/381328/hd-toshiba-surveillance-s300-4tb-sata-hdkpb08z0a01s\n",
      "https://www.kabum.com.br/produto/453627/pc-gamer-concordia-informatica-intel-core-i7-3770-16gb-geforce-gtx-1650-ssd-480gb-monitor-21-teclado-e-mouse-linux-preto-39767\n",
      "https://www.kabum.com.br/produto/103167/monitor-gamer-asus-rog-swift-49-led-ultra-wide-144-hz-dfhd-freesync-premium-hdr-10-100-srgb-hdmi-displayport-som-xg49vq\n",
      "https://www.kabum.com.br/produto/339504/notebook-gamer-acer-nitro-5-amd-ryzen-7-4800h-8gb-ram-ssd-256gb-geforce-gtx-1650-hdd-1tb-15-6-full-hd-windows-11-preto-an515-44-r629\n",
      "https://www.kabum.com.br/produto/134177/cadeira-gamer-husky-gaming-tempest-700-preto-e-vermelho-com-almofadas-descanso-para-pernas-retratil-reclinavel-hgma075\n",
      "https://www.kabum.com.br/produto/334887/smart-tv-samsung-85-polegadas-crystal-uhd-4k-bu8000-3-hdmi-2-usb-wi-fi-bluetooth-alexa-google-tela-infinita-un85bu8000gxzd\n",
      "https://www.kabum.com.br/produto/155444/robo-aspirador-de-po-kabum-smart-700-preto-mapeamento-ir-360-controle-via-aplicativo-google-assistant-e-alexa-kbsf003\n",
      "https://www.kabum.com.br/produto/99889/caixa-de-som-multimidia-logitech-z607-som-surround-5-1-bluetooth-e-3-5mm-radio-fm-usb-e-leitor-sd-980-001321\n",
      "https://www.kabum.com.br/produto/415889/computador-all-in-one-dell-inspiron-aio-i1200-a20-intel-core-i7-1255u-16gb-ram-ssd-512gb-23-8-full-hd-windows-11-branco-210-bghq\n",
      "https://www.kabum.com.br/produto/324516/gabinete-gamer-rise-mode-glass-06x-mid-tower-lateral-em-vidro-fume-e-frontal-em-vidro-temperado-preto-rm-ca-06x-fb\n",
      "https://www.kabum.com.br/produto/381328/hd-toshiba-surveillance-s300-4tb-sata-hdkpb08z0a01s\n",
      "https://www.kabum.com.br/produto/453627/pc-gamer-concordia-informatica-intel-core-i7-3770-16gb-geforce-gtx-1650-ssd-480gb-monitor-21-teclado-e-mouse-linux-preto-39767\n",
      "https://www.kabum.com.br/produto/103167/monitor-gamer-asus-rog-swift-49-led-ultra-wide-144-hz-dfhd-freesync-premium-hdr-10-100-srgb-hdmi-displayport-som-xg49vq\n",
      "https://www.kabum.com.br/produto/339504/notebook-gamer-acer-nitro-5-amd-ryzen-7-4800h-8gb-ram-ssd-256gb-geforce-gtx-1650-hdd-1tb-15-6-full-hd-windows-11-preto-an515-44-r629\n",
      "https://www.kabum.com.br/produto/134177/cadeira-gamer-husky-gaming-tempest-700-preto-e-vermelho-com-almofadas-descanso-para-pernas-retratil-reclinavel-hgma075\n",
      "https://www.kabum.com.br/produto/334887/smart-tv-samsung-85-polegadas-crystal-uhd-4k-bu8000-3-hdmi-2-usb-wi-fi-bluetooth-alexa-google-tela-infinita-un85bu8000gxzd\n",
      "https://www.kabum.com.br/produto/155444/robo-aspirador-de-po-kabum-smart-700-preto-mapeamento-ir-360-controle-via-aplicativo-google-assistant-e-alexa-kbsf003\n",
      "https://www.kabum.com.br/produto/99889/caixa-de-som-multimidia-logitech-z607-som-surround-5-1-bluetooth-e-3-5mm-radio-fm-usb-e-leitor-sd-980-001321\n",
      "https://www.kabum.com.br/produto/415889/computador-all-in-one-dell-inspiron-aio-i1200-a20-intel-core-i7-1255u-16gb-ram-ssd-512gb-23-8-full-hd-windows-11-branco-210-bghq\n",
      "https://www.kabum.com.br/produto/324516/gabinete-gamer-rise-mode-glass-06x-mid-tower-lateral-em-vidro-fume-e-frontal-em-vidro-temperado-preto-rm-ca-06x-fb\n",
      "https://www.kabum.com.br/produto/381328/hd-toshiba-surveillance-s300-4tb-sata-hdkpb08z0a01s\n",
      "https://www.kabum.com.br/produto/453627/pc-gamer-concordia-informatica-intel-core-i7-3770-16gb-geforce-gtx-1650-ssd-480gb-monitor-21-teclado-e-mouse-linux-preto-39767\n",
      "https://www.kabum.com.br/hardware\n",
      "https://www.kabum.com.br/perifericos\n",
      "https://www.kabum.com.br/gamer\n",
      "https://www.kabum.com.br/computadores\n",
      "https://www.kabum.com.br/tv\n",
      "https://www.kabum.com.br/celular-smartphone\n",
      "https://www.kabum.com.br/beneficio\n",
      "https://www.kabum.com.br/espaco-gamer\n",
      "https://www.kabum.com.br/servicos-digitais\n",
      "https://www.kabum.com.br/tablets-ipads-e-e-readers\n",
      "https://www.kabum.com.br/telefonia-fixa\n",
      "https://www.kabum.com.br/energia\n",
      "https://www.kabum.com.br/hardware\n",
      "https://www.kabum.com.br/perifericos\n",
      "https://www.kabum.com.br/gamer\n",
      "https://www.kabum.com.br/computadores\n",
      "https://www.kabum.com.br/tv\n",
      "https://www.kabum.com.br/celular-smartphone\n",
      "https://www.kabum.com.br/beneficio\n",
      "https://www.kabum.com.br/espaco-gamer\n",
      "https://www.kabum.com.br/servicos-digitais\n",
      "https://www.kabum.com.br/tablets-ipads-e-e-readers\n",
      "https://www.kabum.com.br/telefonia-fixa\n",
      "https://www.kabum.com.br/energia\n",
      "https://www.kabum.com.br/promocao/SAMSUNGCEL_DIADOSNAMORADOS\n",
      "https://www.kabum.com.br/maisprocurados\n",
      "https://www.kabum.com.br/produto/85197/ssd-240-gb-kingston-a400-sata-leitura-500mb-s-e-gravacao-350mb-s-sa400s37-240g\n",
      "https://www.kabum.com.br/produto/380745/ssd-1-tb-kingston-nv2-m-2-2280-pcie-nvme-leitura-3500-mb-s-e-gravacao-2100-mb-s-snv2s-1000g\n",
      "https://www.kabum.com.br/produto/102770/headset-gamer-havit-drivers-53mm-microfone-plugavel-p2-pc-ps4-xbox-one-preto-hv-h2002d\n",
      "https://www.kabum.com.br/produto/85198/ssd-480-gb-kingston-a400-sata-leitura-500mb-s-e-gravacao-450mb-s-sa400s37-480g\n",
      "https://www.kabum.com.br/produto/172365/memoria-kingston-fury-beast-8gb-3200mhz-ddr4-cl16-preto-kf432c16bb-8\n",
      "https://www.kabum.com.br/produto/103282/fonte-xpg-core-reactor-850w-80-plus-gold-modular\n",
      "https://www.kabum.com.br/produto/114222/memoria-gamer-husky-gaming-8gb-2666mhz-ddr4-cl19-preto-hgmf001\n",
      "https://www.kabum.com.br/produto/208371/carregador-de-tomada-apple-usb-c-para-iphone-e-ipad-20w-branco-85044021-2\n",
      "https://www.kabum.com.br/produto/49461/mouse-com-fio-usb-logitech-m90-com-design-ambidestro-e-facilidade-plug-and-play-910-004053\n",
      "https://www.kabum.com.br/produto/155514/memoria-xpg-gammix-d10-8gb-3200mhz-ddr4-cl16-preto-ax4u32008g16a-sb10\n",
      "https://www.kabum.com.br/produto/85197/ssd-240-gb-kingston-a400-sata-leitura-500mb-s-e-gravacao-350mb-s-sa400s37-240g\n",
      "https://www.kabum.com.br/produto/380745/ssd-1-tb-kingston-nv2-m-2-2280-pcie-nvme-leitura-3500-mb-s-e-gravacao-2100-mb-s-snv2s-1000g\n",
      "https://www.kabum.com.br/produto/102770/headset-gamer-havit-drivers-53mm-microfone-plugavel-p2-pc-ps4-xbox-one-preto-hv-h2002d\n",
      "https://www.kabum.com.br/produto/85198/ssd-480-gb-kingston-a400-sata-leitura-500mb-s-e-gravacao-450mb-s-sa400s37-480g\n",
      "https://www.kabum.com.br/produto/172365/memoria-kingston-fury-beast-8gb-3200mhz-ddr4-cl16-preto-kf432c16bb-8\n",
      "https://www.kabum.com.br/produto/103282/fonte-xpg-core-reactor-850w-80-plus-gold-modular\n",
      "https://www.kabum.com.br/produto/114222/memoria-gamer-husky-gaming-8gb-2666mhz-ddr4-cl19-preto-hgmf001\n",
      "https://www.kabum.com.br/produto/208371/carregador-de-tomada-apple-usb-c-para-iphone-e-ipad-20w-branco-85044021-2\n",
      "https://www.kabum.com.br/produto/49461/mouse-com-fio-usb-logitech-m90-com-design-ambidestro-e-facilidade-plug-and-play-910-004053\n",
      "https://www.kabum.com.br/produto/155514/memoria-xpg-gammix-d10-8gb-3200mhz-ddr4-cl16-preto-ax4u32008g16a-sb10\n",
      "https://www.kabum.com.br/produto/85197/ssd-240-gb-kingston-a400-sata-leitura-500mb-s-e-gravacao-350mb-s-sa400s37-240g\n",
      "https://www.kabum.com.br/produto/380745/ssd-1-tb-kingston-nv2-m-2-2280-pcie-nvme-leitura-3500-mb-s-e-gravacao-2100-mb-s-snv2s-1000g\n",
      "https://www.kabum.com.br/produto/102770/headset-gamer-havit-drivers-53mm-microfone-plugavel-p2-pc-ps4-xbox-one-preto-hv-h2002d\n",
      "https://www.kabum.com.br/produto/85198/ssd-480-gb-kingston-a400-sata-leitura-500mb-s-e-gravacao-450mb-s-sa400s37-480g\n",
      "https://www.kabum.com.br/produto/172365/memoria-kingston-fury-beast-8gb-3200mhz-ddr4-cl16-preto-kf432c16bb-8\n",
      "https://www.kabum.com.br/produto/103282/fonte-xpg-core-reactor-850w-80-plus-gold-modular\n",
      "https://www.kabum.com.br/produto/114222/memoria-gamer-husky-gaming-8gb-2666mhz-ddr4-cl19-preto-hgmf001\n",
      "https://www.kabum.com.br/produto/208371/carregador-de-tomada-apple-usb-c-para-iphone-e-ipad-20w-branco-85044021-2\n",
      "https://www.kabum.com.br/produto/49461/mouse-com-fio-usb-logitech-m90-com-design-ambidestro-e-facilidade-plug-and-play-910-004053\n",
      "https://www.kabum.com.br/produto/155514/memoria-xpg-gammix-d10-8gb-3200mhz-ddr4-cl16-preto-ax4u32008g16a-sb10\n"
     ]
    },
    {
     "name": "stdout",
     "output_type": "stream",
     "text": [
      "https://www.kabum.com.br/acabaramdechegar\n",
      "https://www.kabum.com.br/produto/157700/caixa-de-som-hayom-6w-usb-p2-controle-de-volume-preto-km2501\n",
      "https://www.kabum.com.br/produto/175297/roteador-tp-link-deco-mesh-m5-dual-band-ac1300-2-4-ghz-wan-lan-gigabit-4-antenas-internas-2-pecas-branco-deco-m5-2-pack-\n",
      "https://www.kabum.com.br/produto/404645/gabinete-gamer-evolut-nord-mid-tower-led-m-atx-itx-lateral-e-frontal-em-vidro-temperado-preto-eg-815\n",
      "https://www.kabum.com.br/produto/449297/fritadeira-air-fry-sem-oleo-eos-eaf30p-3l-127v-preto-b169143\n",
      "https://www.kabum.com.br/produto/449298/fritadeira-air-fry-sem-oleo-eos-eaf30p-3l-220v-preto-b169144\n",
      "https://www.kabum.com.br/produto/380402/water-cooler-kraken-z53-240mm-intel-e-amd-para-pc-branco-rl-krz53-rw\n",
      "https://www.kabum.com.br/produto/99444/bebedouro-compressor-philco-ate-20l-110v-branco-pbe02bf\n",
      "https://www.kabum.com.br/produto/95217/ssd-960-gb-kingston-a400-sata-leitura-500mb-s-e-gravacao-450mb-s-sa400s37-960g\n",
      "https://www.kabum.com.br/produto/172409/memoria-kingston-fury-beast-rgb-8gb-3200mhz-ddr4-cl16-preto-kf432c16bba-8\n",
      "https://www.kabum.com.br/produto/161547/memoria-husky-technologies-8gb-2666mhz-ddr4-cl19-para-notebook-htcq001\n",
      "https://www.kabum.com.br/produto/157700/caixa-de-som-hayom-6w-usb-p2-controle-de-volume-preto-km2501\n",
      "https://www.kabum.com.br/produto/175297/roteador-tp-link-deco-mesh-m5-dual-band-ac1300-2-4-ghz-wan-lan-gigabit-4-antenas-internas-2-pecas-branco-deco-m5-2-pack-\n",
      "https://www.kabum.com.br/produto/404645/gabinete-gamer-evolut-nord-mid-tower-led-m-atx-itx-lateral-e-frontal-em-vidro-temperado-preto-eg-815\n",
      "https://www.kabum.com.br/produto/449297/fritadeira-air-fry-sem-oleo-eos-eaf30p-3l-127v-preto-b169143\n",
      "https://www.kabum.com.br/produto/449298/fritadeira-air-fry-sem-oleo-eos-eaf30p-3l-220v-preto-b169144\n",
      "https://www.kabum.com.br/produto/380402/water-cooler-kraken-z53-240mm-intel-e-amd-para-pc-branco-rl-krz53-rw\n",
      "https://www.kabum.com.br/produto/99444/bebedouro-compressor-philco-ate-20l-110v-branco-pbe02bf\n",
      "https://www.kabum.com.br/produto/95217/ssd-960-gb-kingston-a400-sata-leitura-500mb-s-e-gravacao-450mb-s-sa400s37-960g\n",
      "https://www.kabum.com.br/produto/172409/memoria-kingston-fury-beast-rgb-8gb-3200mhz-ddr4-cl16-preto-kf432c16bba-8\n",
      "https://www.kabum.com.br/produto/161547/memoria-husky-technologies-8gb-2666mhz-ddr4-cl19-para-notebook-htcq001\n",
      "https://www.kabum.com.br/produto/157700/caixa-de-som-hayom-6w-usb-p2-controle-de-volume-preto-km2501\n",
      "https://www.kabum.com.br/produto/175297/roteador-tp-link-deco-mesh-m5-dual-band-ac1300-2-4-ghz-wan-lan-gigabit-4-antenas-internas-2-pecas-branco-deco-m5-2-pack-\n",
      "https://www.kabum.com.br/produto/404645/gabinete-gamer-evolut-nord-mid-tower-led-m-atx-itx-lateral-e-frontal-em-vidro-temperado-preto-eg-815\n",
      "https://www.kabum.com.br/produto/449297/fritadeira-air-fry-sem-oleo-eos-eaf30p-3l-127v-preto-b169143\n",
      "https://www.kabum.com.br/produto/449298/fritadeira-air-fry-sem-oleo-eos-eaf30p-3l-220v-preto-b169144\n",
      "https://www.kabum.com.br/produto/380402/water-cooler-kraken-z53-240mm-intel-e-amd-para-pc-branco-rl-krz53-rw\n",
      "https://www.kabum.com.br/produto/99444/bebedouro-compressor-philco-ate-20l-110v-branco-pbe02bf\n",
      "https://www.kabum.com.br/produto/95217/ssd-960-gb-kingston-a400-sata-leitura-500mb-s-e-gravacao-450mb-s-sa400s37-960g\n",
      "https://www.kabum.com.br/produto/172409/memoria-kingston-fury-beast-rgb-8gb-3200mhz-ddr4-cl16-preto-kf432c16bba-8\n",
      "https://www.kabum.com.br/produto/161547/memoria-husky-technologies-8gb-2666mhz-ddr4-cl19-para-notebook-htcq001\n",
      "https://www.kabum.com.br/promocao/SAMSUNG_EARLYORDER\n",
      "https://www.kabum.com.br/promocao/ssdwdblue\n",
      "https://www.kabum.com.br/escritorio/home-office/cadeira-de-escritorio\n",
      "https://www.kabum.com.br/produto/426194/gift-card-google-play-15-reais-cartao-presente-digital\n",
      "https://www.kabum.com.br/produto/382887/notebook-gamer-acer-nitro-5-intel-core-i7-11800h-geforce-rtx-3050-8gb-ram-ssd-512gb-15-6-full-hd-144hz-win-11-preto-an515-57-73g1\n",
      "https://www.kabum.com.br/produto/415885/ssd-adata-legend-710-512gb-m-2-2280-pcie-gen3x4-nvme-1-4-leitura-2-400-mb-s-e-gravacao-1-800-mb-s-azul-aleg-710-512gcs\n",
      "https://www.kabum.com.br/produto/417853/placa-de-video-rx-6750-xt-mech-2x-12g-oc-msi-amd-12-gb-gddr6-xt-mech-2x-12g-oc\n",
      "https://www.kabum.com.br/produto/371586/teclado-mecanico-gamer-hyperx-alloy-mkw100-rgb-switch-red-full-size-us-preto-4p5e1aa-aba\n",
      "https://www.kabum.com.br/produto/373931/notebook-gamer-lenovo-gaming-3i-intel-core-i5-11300h-geforce-gtx-1650-8gb-ram-ssd-512gb-15-6-full-hd-windows-11-preto-82mg0009br\n",
      "https://www.kabum.com.br/produto/380744/ssd-500-gb-kingston-nv2-m-2-2280-pcie-nvme-leitura-3500-mb-s-e-gravacao-2100-mb-s-snv2s-500g\n",
      "https://www.kabum.com.br/produto/380745/ssd-1-tb-kingston-nv2-m-2-2280-pcie-nvme-leitura-3500-mb-s-e-gravacao-2100-mb-s-snv2s-1000g\n",
      "https://www.kabum.com.br/produto/426194/gift-card-google-play-15-reais-cartao-presente-digital\n",
      "https://www.kabum.com.br/produto/382887/notebook-gamer-acer-nitro-5-intel-core-i7-11800h-geforce-rtx-3050-8gb-ram-ssd-512gb-15-6-full-hd-144hz-win-11-preto-an515-57-73g1\n",
      "https://www.kabum.com.br/produto/415885/ssd-adata-legend-710-512gb-m-2-2280-pcie-gen3x4-nvme-1-4-leitura-2-400-mb-s-e-gravacao-1-800-mb-s-azul-aleg-710-512gcs\n",
      "https://www.kabum.com.br/produto/417853/placa-de-video-rx-6750-xt-mech-2x-12g-oc-msi-amd-12-gb-gddr6-xt-mech-2x-12g-oc\n",
      "https://www.kabum.com.br/produto/371586/teclado-mecanico-gamer-hyperx-alloy-mkw100-rgb-switch-red-full-size-us-preto-4p5e1aa-aba\n",
      "https://www.kabum.com.br/produto/373931/notebook-gamer-lenovo-gaming-3i-intel-core-i5-11300h-geforce-gtx-1650-8gb-ram-ssd-512gb-15-6-full-hd-windows-11-preto-82mg0009br\n",
      "https://www.kabum.com.br/produto/380744/ssd-500-gb-kingston-nv2-m-2-2280-pcie-nvme-leitura-3500-mb-s-e-gravacao-2100-mb-s-snv2s-500g\n",
      "https://www.kabum.com.br/produto/380745/ssd-1-tb-kingston-nv2-m-2-2280-pcie-nvme-leitura-3500-mb-s-e-gravacao-2100-mb-s-snv2s-1000g\n",
      "https://www.kabum.com.br/produto/426194/gift-card-google-play-15-reais-cartao-presente-digital\n",
      "https://www.kabum.com.br/produto/382887/notebook-gamer-acer-nitro-5-intel-core-i7-11800h-geforce-rtx-3050-8gb-ram-ssd-512gb-15-6-full-hd-144hz-win-11-preto-an515-57-73g1\n",
      "https://www.kabum.com.br/produto/415885/ssd-adata-legend-710-512gb-m-2-2280-pcie-gen3x4-nvme-1-4-leitura-2-400-mb-s-e-gravacao-1-800-mb-s-azul-aleg-710-512gcs\n",
      "https://www.kabum.com.br/produto/417853/placa-de-video-rx-6750-xt-mech-2x-12g-oc-msi-amd-12-gb-gddr6-xt-mech-2x-12g-oc\n",
      "https://www.kabum.com.br/produto/371586/teclado-mecanico-gamer-hyperx-alloy-mkw100-rgb-switch-red-full-size-us-preto-4p5e1aa-aba\n",
      "https://www.kabum.com.br/produto/373931/notebook-gamer-lenovo-gaming-3i-intel-core-i5-11300h-geforce-gtx-1650-8gb-ram-ssd-512gb-15-6-full-hd-windows-11-preto-82mg0009br\n",
      "https://www.kabum.com.br/produto/380744/ssd-500-gb-kingston-nv2-m-2-2280-pcie-nvme-leitura-3500-mb-s-e-gravacao-2100-mb-s-snv2s-500g\n",
      "https://www.kabum.com.br/produto/380745/ssd-1-tb-kingston-nv2-m-2-2280-pcie-nvme-leitura-3500-mb-s-e-gravacao-2100-mb-s-snv2s-1000g\n",
      "https://tecmasters.com.br/?utm_source=kabum&utm_medium=referral&utm_campaign=footer_home&utm_content=banner_footer\n",
      "https://www.kabum.com.br/hotsite/cartao/?int_banner_name=KB_CARTAO_KABUM&int_banner_position=bannerfooter\n",
      "https://www.kabum.com.br/hotsite/parceironinja/\n",
      "https://www.kabum.com.br/hardware\n",
      "https://www.kabum.com.br/celular-smartphone\n",
      "https://www.kabum.com.br/perifericos\n",
      "https://www.kabum.com.br/perifericos/teclado-mouse\n",
      "https://www.kabum.com.br/computadores\n",
      "https://www.kabum.com.br/hardware/placa-de-video-vga\n",
      "https://www.kabum.com.br/computadores/monitores\n",
      "https://www.kabum.com.br/gamer\n",
      "https://www.kabum.com.br/audio\n",
      "https://www.kabum.com.br/tv\n",
      "https://www.kabum.com.br/moveis\n",
      "https://www.kabum.com.br/eletrodomesticos\n",
      "https://www.kabum.com.br/eletroportateis\n",
      "https://www.kabum.com.br/smart-home\n",
      "https://www.kabum.com.br/ferramentas\n",
      "https://www.kabum.com.br/ar-e-ventilacao\n",
      "https://www.kabum.com.br/seguranca\n",
      "https://www.kabum.com.br/computadores/notebooks\n",
      "https://www.kabum.com.br/cameras-e-drones\n",
      "https://www.kabum.com.br/conectividade\n",
      "https://www.kabum.com.br/hardware/processadores\n",
      "https://www.kabum.com.br/casa-e-decoracao\n",
      "https://www.kabum.com.br/esporte-e-lazer\n",
      "https://www.kabum.com.br/geek\n",
      "https://www.kabum.com.br/computadores\n",
      "https://www.kabum.com.br/escritorio\n",
      "https://www.kabum.com.br/energia\n",
      "https://www.kabum.com.br/servicos-digitais\n",
      "https://www.kabum.com.br/hotsite/prime\n",
      "https://www.kabum.com.br/hotsite/black-friday\n",
      "https://www.kabum.com.br/hotsite/mega-maio\n",
      "https://www.kabum.com.br/hotsite/julhogamer\n",
      "https://www.kabum.com.br/hotsite/pix\n",
      "https://www.kabum.com.br/hotsite/cartao\n",
      "https://www.kabum.com.br/ofertas/ofertadodia\n"
     ]
    },
    {
     "name": "stdout",
     "output_type": "stream",
     "text": [
      "https://www.kabum.com.br/hotsite/giftcard\n",
      "https://www.kabum.com.br/hotsite/openbox\n",
      "https://www.kabum.com.br/hotsite/supermaquina\n",
      "https://www.kabum.com.br/hotsite/selecao-ninja\n",
      "https://www.kabum.com.br/hotsite/5g\n",
      "https://www.kabum.com.br/hotsite/parceironinja\n",
      "https://www.kabum.com.br/hotsite/comprasegura\n",
      "https://www.kabum.com.br/sobre\n",
      "https://www.kabum.com.br/politicas\n",
      "https://www.kabum.com.br/politica-cookies\n",
      "https://www.kabum.com.br/privacidade\n",
      "https://carreiras.magazineluiza.com.br/times/KaBuM!/\n",
      "https://www.procon.df.gov.br/wp-content/uploads/2019/08/Codigo-do-consumidor-FINAL.pdf\n",
      "https://www.kabum.com.br/portaldeprivacidade\n",
      "https://static.kabum.com.br/conteudo/documentos/institucional/codigo-de-conduta-v4.pdf\n",
      "https://www.canalconfidencial.com.br/kabum/\n",
      "https://static.kabum.com.br/relatorio/relatorio_anual.pdf\n",
      "None\n",
      "https://www.kabum.com.br/minha-conta/meus-pedidos\n",
      "https://www.kabum.com.br/minha-conta/meus-dados\n",
      "https://www.facebook.com/kabum.com.br/\n",
      "https://www.instagram.com/kabum.com.br/\n",
      "https://twitter.com/kabumcombr\n",
      "https://www.youtube.com/kabumtv\n",
      "https://www.linkedin.com/company/3060887/\n",
      "https://www.tiktok.com/@kabumcombr\n",
      "https://play.google.com/store/apps/details?id:br.com.kabum.webviewapp\n",
      "https://apps.apple.com/br/app/kabum-as-melhores-ofertas/id1411546631\n",
      "https://transparencyreport.google.com/safe-browsing/search?url=kabum.com.br&hl=pt-PT\n",
      "https://www.kabum.com.br/#\n",
      "https://www.compreconfie.com.br/103388\n",
      "https://www.kabum.com.br/politicas\n",
      "https://www.kabum.com.br/privacidade\n",
      "https://www.kabum.com.br/privacidade\n",
      "https://www.onetrust.com/products/cookie-consent/\n"
     ]
    }
   ],
   "source": [
    "for url in driver.find_elements(By.TAG_NAME,'a'):\n",
    "    \n",
    "    print(url.get_attribute('href'))"
   ]
  },
  {
   "cell_type": "code",
   "execution_count": null,
   "id": "1a893a07",
   "metadata": {},
   "outputs": [],
   "source": []
  },
  {
   "cell_type": "code",
   "execution_count": null,
   "id": "ac49e821",
   "metadata": {},
   "outputs": [],
   "source": []
  },
  {
   "cell_type": "markdown",
   "id": "f399fd7d",
   "metadata": {},
   "source": [
    "## Interagindo com o Website"
   ]
  },
  {
   "cell_type": "markdown",
   "id": "3717420f",
   "metadata": {},
   "source": [
    "### Enviando comandos de texto"
   ]
  },
  {
   "cell_type": "code",
   "execution_count": 96,
   "id": "4852119e",
   "metadata": {},
   "outputs": [],
   "source": [
    "driver.get(\"https://www.google.com.br\")"
   ]
  },
  {
   "cell_type": "code",
   "execution_count": 107,
   "id": "6d7a16cf",
   "metadata": {},
   "outputs": [],
   "source": [
    "search_bar = driver.find_element(By.ID,'APjFqb')"
   ]
  },
  {
   "cell_type": "code",
   "execution_count": 108,
   "id": "0d5a8915",
   "metadata": {},
   "outputs": [],
   "source": [
    "import time\n",
    "\n",
    "\n",
    "time.sleep(4)\n",
    "\n",
    "\n",
    "search_bar.send_keys('chatgpt')"
   ]
  },
  {
   "cell_type": "markdown",
   "id": "c99b0d43",
   "metadata": {},
   "source": [
    "### Enviando comandos do teclado\n",
    "\n",
    "Para enviar comandos do teclado, temos que importar as \"Keys\"\n",
    "\n"
   ]
  },
  {
   "cell_type": "code",
   "execution_count": 102,
   "id": "b864d471",
   "metadata": {},
   "outputs": [],
   "source": [
    "from selenium.webdriver.common.keys import Keys"
   ]
  },
  {
   "cell_type": "code",
   "execution_count": 88,
   "id": "0b84015d",
   "metadata": {},
   "outputs": [],
   "source": [
    "#driver.get(\"https://www.google.com.br\")"
   ]
  },
  {
   "cell_type": "code",
   "execution_count": 103,
   "id": "43f3755c",
   "metadata": {},
   "outputs": [],
   "source": [
    "botao_busca = driver.find_element(By.CLASS_NAME,'gNO89b')"
   ]
  },
  {
   "cell_type": "code",
   "execution_count": 105,
   "id": "3d95c6f4",
   "metadata": {},
   "outputs": [],
   "source": [
    "time.sleep(3)\n",
    "\n",
    "search_bar.send_keys(Keys.ENTER)"
   ]
  },
  {
   "cell_type": "code",
   "execution_count": null,
   "id": "61cf4184",
   "metadata": {},
   "outputs": [],
   "source": []
  },
  {
   "cell_type": "code",
   "execution_count": null,
   "id": "e2d2615e",
   "metadata": {},
   "outputs": [],
   "source": []
  },
  {
   "cell_type": "markdown",
   "id": "e7a8c382",
   "metadata": {},
   "source": [
    "### Limpando conteúdo de um elemento"
   ]
  },
  {
   "cell_type": "code",
   "execution_count": 109,
   "id": "4ed6441a",
   "metadata": {},
   "outputs": [],
   "source": [
    "search_bar.clear()"
   ]
  },
  {
   "cell_type": "code",
   "execution_count": null,
   "id": "bf60680d",
   "metadata": {},
   "outputs": [],
   "source": []
  },
  {
   "cell_type": "code",
   "execution_count": null,
   "id": "db33d9ce",
   "metadata": {},
   "outputs": [],
   "source": []
  },
  {
   "cell_type": "markdown",
   "id": "8497680c",
   "metadata": {},
   "source": [
    "### Avançando / Voltando Páginas"
   ]
  },
  {
   "cell_type": "code",
   "execution_count": 155,
   "id": "870feb24",
   "metadata": {},
   "outputs": [],
   "source": [
    "#driver.get(\"https://www.google.com.br\")"
   ]
  },
  {
   "cell_type": "code",
   "execution_count": 110,
   "id": "9031d119",
   "metadata": {},
   "outputs": [],
   "source": [
    "driver.find_element(By.ID,'APjFqb').send_keys('teste')"
   ]
  },
  {
   "cell_type": "code",
   "execution_count": 111,
   "id": "5e44b21a",
   "metadata": {},
   "outputs": [],
   "source": [
    "driver.find_element(By.ID,'APjFqb').send_keys(Keys.ENTER)"
   ]
  },
  {
   "cell_type": "code",
   "execution_count": 112,
   "id": "090dd4b7",
   "metadata": {},
   "outputs": [],
   "source": [
    "#volta a página anterior\n",
    "driver.back()"
   ]
  },
  {
   "cell_type": "code",
   "execution_count": 113,
   "id": "d7ccba18",
   "metadata": {},
   "outputs": [],
   "source": [
    "#avança para a próxima página\n",
    "driver.forward()"
   ]
  },
  {
   "cell_type": "code",
   "execution_count": null,
   "id": "cd480a91",
   "metadata": {},
   "outputs": [],
   "source": []
  },
  {
   "cell_type": "markdown",
   "id": "9d38bde4",
   "metadata": {},
   "source": [
    "### Action Chains\n",
    "\n",
    "ActionChains é uma função do selenium que permite automatizar interações com o HTML,como: movimentação do mouse,ações com os botões do mouse,pressionar teclas,etc. \n",
    "É útil para realizar funções mais complexas, como drag and drop.\n",
    "Quando voce chama uma ação do ActionChains, ela é armazenada em uma fila de ações. Quando usar perform(), os eventos são disparados na ordem que foram chamados.\n",
    "\n",
    "Documentação: **[Action Chains](https://www.selenium.dev/selenium/docs/api/py/webdriver/selenium.webdriver.common.action_chains.html)**\n"
   ]
  },
  {
   "cell_type": "code",
   "execution_count": 114,
   "id": "a0fd8417",
   "metadata": {},
   "outputs": [],
   "source": [
    "from selenium.webdriver import ActionChains\n",
    "\n",
    "actions = ActionChains(driver)\n",
    "\n"
   ]
  },
  {
   "cell_type": "code",
   "execution_count": 115,
   "id": "dd70d4e0",
   "metadata": {},
   "outputs": [],
   "source": [
    "driver.get(\"https://orteil.dashnet.org/cookieclicker/\")"
   ]
  },
  {
   "cell_type": "markdown",
   "id": "54eed84e",
   "metadata": {},
   "source": [
    "#### Clicar com o botão esquerdo"
   ]
  },
  {
   "cell_type": "code",
   "execution_count": 116,
   "id": "bb2c21c8",
   "metadata": {},
   "outputs": [],
   "source": [
    "#algumas funções não precisam do Action Chains, como o click\n",
    "\n",
    "cookie = driver.find_element(By.ID,'bigCookie')\n",
    "\n"
   ]
  },
  {
   "cell_type": "code",
   "execution_count": 118,
   "id": "a05e9cbc",
   "metadata": {},
   "outputs": [
    {
     "name": "stdout",
     "output_type": "stream",
     "text": [
      "0\n",
      "1\n",
      "2\n",
      "3\n",
      "4\n",
      "5\n",
      "6\n",
      "7\n",
      "8\n",
      "9\n"
     ]
    }
   ],
   "source": [
    "for i in range(0,10):\n",
    "    \n",
    "    cookie.click()\n",
    "    time.sleep(0.5)\n",
    "    print(i)"
   ]
  },
  {
   "cell_type": "code",
   "execution_count": null,
   "id": "32688929",
   "metadata": {},
   "outputs": [],
   "source": []
  },
  {
   "cell_type": "markdown",
   "id": "19617939",
   "metadata": {},
   "source": [
    "#### Clicar com o botão direito"
   ]
  },
  {
   "cell_type": "code",
   "execution_count": 120,
   "id": "bb77b140",
   "metadata": {},
   "outputs": [],
   "source": [
    "actions.context_click(cookie).perform()"
   ]
  },
  {
   "cell_type": "code",
   "execution_count": null,
   "id": "dcfb07e9",
   "metadata": {},
   "outputs": [],
   "source": []
  },
  {
   "cell_type": "markdown",
   "id": "5e1f72a7",
   "metadata": {},
   "source": [
    "#### Clicar e segurar "
   ]
  },
  {
   "cell_type": "code",
   "execution_count": null,
   "id": "58f880de",
   "metadata": {},
   "outputs": [],
   "source": [
    "#click_and_hold , perform, release"
   ]
  },
  {
   "cell_type": "code",
   "execution_count": 124,
   "id": "a3af230d",
   "metadata": {},
   "outputs": [],
   "source": [
    "actions.click_and_hold(cookie).perform()\n",
    "\n"
   ]
  },
  {
   "cell_type": "code",
   "execution_count": 125,
   "id": "afbde8de",
   "metadata": {},
   "outputs": [
    {
     "data": {
      "text/plain": [
       "<selenium.webdriver.common.action_chains.ActionChains at 0x1726630f640>"
      ]
     },
     "execution_count": 125,
     "metadata": {},
     "output_type": "execute_result"
    }
   ],
   "source": [
    "actions.release(cookie)"
   ]
  },
  {
   "cell_type": "markdown",
   "id": "908e75b9",
   "metadata": {},
   "source": [
    "#### Duplo clique"
   ]
  },
  {
   "cell_type": "code",
   "execution_count": 127,
   "id": "bb14e63e",
   "metadata": {},
   "outputs": [],
   "source": [
    "actions.double_click(cookie).perform()"
   ]
  },
  {
   "cell_type": "code",
   "execution_count": null,
   "id": "69ee067f",
   "metadata": {},
   "outputs": [],
   "source": []
  },
  {
   "cell_type": "markdown",
   "id": "70d3f2a5",
   "metadata": {},
   "source": [
    "#### Clicar e arrastar objetos"
   ]
  },
  {
   "cell_type": "code",
   "execution_count": null,
   "id": "db38198b",
   "metadata": {},
   "outputs": [],
   "source": [
    "#drag_and_drop"
   ]
  },
  {
   "cell_type": "code",
   "execution_count": 131,
   "id": "e4212312",
   "metadata": {},
   "outputs": [],
   "source": [
    "driver.get('https://www.w3schools.com/howto/howto_js_draggable.asp')"
   ]
  },
  {
   "cell_type": "code",
   "execution_count": 132,
   "id": "940cd536",
   "metadata": {},
   "outputs": [],
   "source": [
    "object_to_move = driver.find_element(By.ID,'mydivheader')"
   ]
  },
  {
   "cell_type": "code",
   "execution_count": 133,
   "id": "40468756",
   "metadata": {},
   "outputs": [],
   "source": [
    "object_destination = driver.find_element(By.CLASS_NAME,'w3-clear.nextprev')"
   ]
  },
  {
   "cell_type": "code",
   "execution_count": 134,
   "id": "dcf4681b",
   "metadata": {},
   "outputs": [],
   "source": [
    "time.sleep(2)\n",
    "actions.drag_and_drop(object_to_move,object_destination).perform()"
   ]
  },
  {
   "cell_type": "markdown",
   "id": "f76effea",
   "metadata": {},
   "source": [
    "#### Combinação de teclas "
   ]
  },
  {
   "cell_type": "code",
   "execution_count": 135,
   "id": "ce42117c",
   "metadata": {},
   "outputs": [],
   "source": [
    "driver.get('https://ctrl.vi/')"
   ]
  },
  {
   "cell_type": "code",
   "execution_count": 140,
   "id": "6ea4448f",
   "metadata": {},
   "outputs": [
    {
     "data": {
      "text/plain": [
       "<selenium.webdriver.common.action_chains.ActionChains at 0x1726630f640>"
      ]
     },
     "execution_count": 140,
     "metadata": {},
     "output_type": "execute_result"
    }
   ],
   "source": [
    "time.sleep(2)\n",
    "\n",
    "actions.key_down(Keys.CONTROL).perform()\n",
    "\n",
    "actions.send_keys(\"v\")\n",
    "\n",
    "#actions.key_up(Keys.CONTROL).perform()"
   ]
  },
  {
   "cell_type": "markdown",
   "id": "4fcd1aaf",
   "metadata": {},
   "source": [
    "### Esperas ( Waits )\n",
    "\n",
    "Atualmente, a maioria dos aplicativos da web está usando técnicas AJAX. Quando uma página é carregada pelo navegador, os elementos dessa página podem ser carregados em diferentes intervalos de tempo. Isso dificulta a localização de elementos: se um elemento ainda não estiver presente no DOM, uma exceção é disparada. Usando esperas, podemos resolver esse problema. A espera fornece alguma folga entre as ações executadas - principalmente localizar um elemento ou qualquer outra operação com o elemento.\n",
    "\n",
    "O Selenium Webdriver fornece dois tipos de espera - implícito e explícito. "
   ]
  },
  {
   "cell_type": "code",
   "execution_count": 141,
   "id": "fe5887ff",
   "metadata": {},
   "outputs": [],
   "source": [
    "#from selenium import webdriver\n",
    "from selenium.webdriver.support.ui import WebDriverWait\n",
    "from selenium.webdriver.support import expected_conditions as EC\n",
    "import time"
   ]
  },
  {
   "cell_type": "markdown",
   "id": "7a1f4b35",
   "metadata": {},
   "source": [
    "#### Implícito\n",
    "\n",
    "Uma espera implícita faz com que o WebDriver pesquise o DOM por um determinado período de tempo ao tentar localizar um elemento."
   ]
  },
  {
   "cell_type": "code",
   "execution_count": 148,
   "id": "53d58587",
   "metadata": {},
   "outputs": [],
   "source": [
    "#driver.implicitly_wait(10) # seconds\n",
    "\n",
    "driver.get(\"https://justcapital.com/companies/bank-of-america-corporation\")\n",
    "time.sleep(5)"
   ]
  },
  {
   "cell_type": "code",
   "execution_count": 150,
   "id": "d4ca9aaa",
   "metadata": {},
   "outputs": [],
   "source": []
  },
  {
   "cell_type": "code",
   "execution_count": null,
   "id": "7f45bb7c",
   "metadata": {},
   "outputs": [],
   "source": []
  },
  {
   "cell_type": "markdown",
   "id": "237f7cd4",
   "metadata": {},
   "source": [
    "#### Explícito\n",
    "\n",
    "Uma espera explícita faz com que o WebDriver espere que uma determinada condição ocorra antes de prosseguir com a execução. \n",
    "\n",
    "Condições Possíveis : \n",
    "\n",
    "title_is(title): Verifica se o título da página é exatamente igual a title.\n",
    "\n",
    "title_contains(text): Verifica se o título da página contém a text especificada.\n",
    "\n",
    "presence_of_element_located(locator): Verifica se há pelo menos um elemento presente no DOM (Modelo de Objeto do Documento) que corresponde ao localizador especificado.\n",
    "\n",
    "visibility_of_element_located(locator): Verifica se há pelo menos um elemento e está visível para o usuário. Ele não apenas verifica a presença do elemento, mas também se ele possui uma largura e altura maiores que zero e está visível na janela de exibição.\n",
    "\n",
    "visibility_of(element): Verifica se o elemento fornecido está visível na página. Isso significa que o elemento possui uma largura e altura maiores que zero e está visível na janela de exibição.\n",
    "\n",
    "presence_of_all_elements_located(locator): Verifica se todos os elementos correspondentes ao localizador especificado estão presentes no DOM.\n",
    "\n",
    "text_to_be_present_in_element(locator, text): Verifica se o texto especificado está presente no elemento correspondente ao localizador fornecido.\n",
    "\n",
    "text_to_be_present_in_element_value(locator, text): Verifica se o valor do atributo \"value\" do elemento correspondente ao localizador fornecido contém o texto especificado.\n",
    "\n",
    "frame_to_be_available_and_switch_to_it(locator): Verifica se o frame (quadro) especificado pelo localizador está disponível e muda o contexto atual para esse frame.\n",
    "\n",
    "invisibility_of_element_located(locator): Verifica se o elemento correspondente ao localizador fornecido não está visível na página. Isso inclui casos em que o elemento está ausente do DOM ou tem uma propriedade \"display\" definida como \"none\".\n",
    "\n",
    "element_to_be_clickable(locator): Verifica se o elemento correspondente ao localizador fornecido está visível e habilitado para clicar. Ou seja, o elemento está presente no DOM, visível e não está desativado.\n",
    "\n",
    "staleness_of(element): Verifica se o elemento fornecido não está mais ligado ao DOM da página. Isso pode acontecer quando o elemento é removido ou atualizado dinamicamente.\n",
    "\n",
    "element_to_be_selected(element): Verifica se o elemento fornecido está selecionado. Isso é aplicável a elementos de entrada, como caixas de seleção e botões de rádio.\n",
    "\n",
    "element_located_to_be_selected(locator): Verifica se o elemento correspondente ao localizador fornecido está selecionado.\n",
    "\n",
    "element_selection_state_to_be(element, is_selected): Verifica se o estado de seleção do elemento fornecido corresponde ao estado especificado (True para selecionado, False para não selecionado).\n",
    "\n",
    "element_located_selection_state_to_be(locator, is_selected): Verifica se o estado de seleção do elemento correspondente ao localizador fornecido corresponde ao estado especificado (True para selecionado, False para não selecionado).\n",
    "\n",
    "alert_is_present(): Verifica se um alerta está presente na página. Isso é usado para lidar com caixas de diálogo de alerta do JavaScript."
   ]
  },
  {
   "cell_type": "code",
   "execution_count": 180,
   "id": "0c42c879",
   "metadata": {},
   "outputs": [],
   "source": [
    "driver.get(\"https://justcapital.com/companies/bank-of-america-corporation\")"
   ]
  },
  {
   "cell_type": "code",
   "execution_count": 181,
   "id": "a63201d5",
   "metadata": {},
   "outputs": [
    {
     "data": {
      "text/plain": [
       "<selenium.webdriver.remote.webelement.WebElement (session=\"878941e7e00c6a25233ee3b15425b406\", element=\"451525FEF8C5C02193C4A33C43A5BE75_element_718\")>"
      ]
     },
     "execution_count": 181,
     "metadata": {},
     "output_type": "execute_result"
    }
   ],
   "source": [
    "WebDriverWait(driver,10).until(EC.presence_of_element_located((By.CLASS_NAME, \"chart-bar.visible\")))"
   ]
  },
  {
   "cell_type": "code",
   "execution_count": 175,
   "id": "90d52d3f",
   "metadata": {},
   "outputs": [],
   "source": [
    "chart = driver.find_element(By.CLASS_NAME,'chart-bar.visible')"
   ]
  },
  {
   "cell_type": "code",
   "execution_count": 176,
   "id": "10a6cfb8",
   "metadata": {},
   "outputs": [],
   "source": [
    "elemento2 = WebDriverWait(driver,10).until(EC.presence_of_element_located((By.CLASS_NAME, \"industry-average.chart-marker.visible\")))"
   ]
  },
  {
   "cell_type": "code",
   "execution_count": 177,
   "id": "78913f4e",
   "metadata": {},
   "outputs": [
    {
     "data": {
      "text/plain": [
       "'66'"
      ]
     },
     "execution_count": 177,
     "metadata": {},
     "output_type": "execute_result"
    }
   ],
   "source": [
    "chart.find_element(By.CLASS_NAME,'industry-average.chart-marker.visible').get_attribute('innerText')"
   ]
  },
  {
   "cell_type": "markdown",
   "id": "2bd32480",
   "metadata": {},
   "source": [
    "### Screenshot "
   ]
  },
  {
   "cell_type": "code",
   "execution_count": 182,
   "id": "beacba4b",
   "metadata": {},
   "outputs": [],
   "source": [
    "driver.get(\"https://justcapital.com/companies/bank-of-america-corporation\")"
   ]
  },
  {
   "cell_type": "code",
   "execution_count": 183,
   "id": "a75efd69",
   "metadata": {},
   "outputs": [
    {
     "data": {
      "text/plain": [
       "True"
      ]
     },
     "execution_count": 183,
     "metadata": {},
     "output_type": "execute_result"
    }
   ],
   "source": [
    "driver.save_screenshot('print_capital.png')"
   ]
  },
  {
   "cell_type": "markdown",
   "id": "05239bb3",
   "metadata": {},
   "source": [
    "### Executando código Javascript"
   ]
  },
  {
   "cell_type": "markdown",
   "id": "5c5be404",
   "metadata": {},
   "source": [
    "#### Scroll-Down "
   ]
  },
  {
   "cell_type": "code",
   "execution_count": 184,
   "id": "d5387c9e",
   "metadata": {},
   "outputs": [],
   "source": [
    "driver.get(\"https://scrollmagic.io/examples/advanced/infinite_scrolling.html\")"
   ]
  },
  {
   "cell_type": "code",
   "execution_count": 185,
   "id": "a7c95a00",
   "metadata": {},
   "outputs": [],
   "source": [
    "time.sleep(3)\n",
    "\n",
    "# Scroll down\n",
    "driver.execute_script(\"window.scrollTo(0, document.body.scrollHeight);\")\n"
   ]
  },
  {
   "cell_type": "code",
   "execution_count": 186,
   "id": "4e912fd3",
   "metadata": {},
   "outputs": [],
   "source": [
    "import time\n",
    "for i in range(0,5):\n",
    "    \n",
    "    driver.execute_script(\"window.scrollTo(0, document.body.scrollHeight);\")\n",
    "    \n",
    "    time.sleep(2)"
   ]
  },
  {
   "cell_type": "code",
   "execution_count": null,
   "id": "81e0a57d",
   "metadata": {},
   "outputs": [],
   "source": []
  },
  {
   "cell_type": "markdown",
   "id": "835741d5",
   "metadata": {},
   "source": [
    "#### Clique com Javascript\n",
    "\n",
    "Existem elementos que não são clicados apenas pelo método .click() do Selenium, para esses casos podemos usar o click via Javascript, ele é muito simples e funcional."
   ]
  },
  {
   "cell_type": "code",
   "execution_count": 187,
   "id": "79e6e102",
   "metadata": {},
   "outputs": [],
   "source": [
    "driver.get(\"https://www.google.com.br\")"
   ]
  },
  {
   "cell_type": "code",
   "execution_count": 188,
   "id": "a101fe58",
   "metadata": {},
   "outputs": [],
   "source": [
    "buscar = driver.find_element(By.CLASS_NAME,\"RNmpXc\")"
   ]
  },
  {
   "cell_type": "code",
   "execution_count": 189,
   "id": "74c58de5",
   "metadata": {},
   "outputs": [],
   "source": [
    "\n",
    "time.sleep(2)\n",
    "\n",
    "driver.execute_script(\"arguments[0].click();\", buscar)"
   ]
  },
  {
   "cell_type": "code",
   "execution_count": null,
   "id": "035bf3e2",
   "metadata": {},
   "outputs": [],
   "source": []
  },
  {
   "cell_type": "code",
   "execution_count": null,
   "id": "d55c7eae",
   "metadata": {},
   "outputs": [],
   "source": []
  },
  {
   "cell_type": "markdown",
   "id": "aedd7c31",
   "metadata": {},
   "source": [
    "### Acessando Frames\n",
    "\n",
    "Muitas vezes precisamos acessar dados que se encontram dentro de Frames no HTML , e para que o Driver acesse o frame, temos que fazer alguns procedimentos."
   ]
  },
  {
   "cell_type": "code",
   "execution_count": 234,
   "id": "fe786beb",
   "metadata": {},
   "outputs": [],
   "source": [
    "driver.get(\"https://www.w3schools.com/html/tryit.asp?filename=tryhtml_iframe_height_width\")"
   ]
  },
  {
   "cell_type": "code",
   "execution_count": null,
   "id": "41ec12dd",
   "metadata": {},
   "outputs": [],
   "source": [
    "#switch_to.frame\n",
    "#switch_to.default_content"
   ]
  },
  {
   "cell_type": "code",
   "execution_count": 193,
   "id": "20397ae0",
   "metadata": {},
   "outputs": [
    {
     "data": {
      "text/plain": [
       "19"
      ]
     },
     "execution_count": 193,
     "metadata": {},
     "output_type": "execute_result"
    }
   ],
   "source": [
    "len(driver.find_elements(By.TAG_NAME,'iframe'))"
   ]
  },
  {
   "cell_type": "code",
   "execution_count": 222,
   "id": "00d13cb6",
   "metadata": {},
   "outputs": [],
   "source": [
    "container = driver.find_element(By.ID,'iframecontainer')"
   ]
  },
  {
   "cell_type": "code",
   "execution_count": 224,
   "id": "e420695c",
   "metadata": {},
   "outputs": [],
   "source": [
    "frame_1 = container.find_element(By.ID,'iframeResult')"
   ]
  },
  {
   "cell_type": "code",
   "execution_count": 225,
   "id": "2de65e9d",
   "metadata": {},
   "outputs": [],
   "source": [
    "driver.switch_to.frame(frame_1)"
   ]
  },
  {
   "cell_type": "code",
   "execution_count": 229,
   "id": "9be5e075",
   "metadata": {},
   "outputs": [],
   "source": [
    "frame2 = driver.find_element(By.TAG_NAME,'iframe')"
   ]
  },
  {
   "cell_type": "code",
   "execution_count": 233,
   "id": "25770fb8",
   "metadata": {},
   "outputs": [
    {
     "ename": "StaleElementReferenceException",
     "evalue": "Message: stale element reference: stale element not found\n  (Session info: chrome=114.0.5735.110); For documentation on this error, please visit: https://www.selenium.dev/documentation/webdriver/troubleshooting/errors#stale-element-reference-exception\nStacktrace:\nBacktrace:\n\tGetHandleVerifier [0x009EA813+48355]\n\t(No symbol) [0x0097C4B1]\n\t(No symbol) [0x00885358]\n\t(No symbol) [0x0088E5A3]\n\t(No symbol) [0x00888A78]\n\t(No symbol) [0x00887C03]\n\t(No symbol) [0x008899E1]\n\t(No symbol) [0x00889A80]\n\t(No symbol) [0x008B1F0E]\n\t(No symbol) [0x008DD9E7]\n\t(No symbol) [0x008CA73C]\n\t(No symbol) [0x008DC922]\n\t(No symbol) [0x008CA536]\n\t(No symbol) [0x008A82DC]\n\t(No symbol) [0x008A93DD]\n\tGetHandleVerifier [0x00C4AABD+2539405]\n\tGetHandleVerifier [0x00C8A78F+2800735]\n\tGetHandleVerifier [0x00C8456C+2775612]\n\tGetHandleVerifier [0x00A751E0+616112]\n\t(No symbol) [0x00985F8C]\n\t(No symbol) [0x00982328]\n\t(No symbol) [0x0098240B]\n\t(No symbol) [0x00974FF7]\n\tBaseThreadInitThunk [0x75B800C9+25]\n\tRtlGetAppContainerNamedObjectPath [0x77D27B4E+286]\n\tRtlGetAppContainerNamedObjectPath [0x77D27B1E+238]\n",
     "output_type": "error",
     "traceback": [
      "\u001b[1;31m---------------------------------------------------------------------------\u001b[0m",
      "\u001b[1;31mStaleElementReferenceException\u001b[0m            Traceback (most recent call last)",
      "Input \u001b[1;32mIn [233]\u001b[0m, in \u001b[0;36m<cell line: 1>\u001b[1;34m()\u001b[0m\n\u001b[1;32m----> 1\u001b[0m \u001b[43mdriver\u001b[49m\u001b[38;5;241;43m.\u001b[39;49m\u001b[43mswitch_to\u001b[49m\u001b[38;5;241;43m.\u001b[39;49m\u001b[43mframe\u001b[49m\u001b[43m(\u001b[49m\u001b[43mframe2\u001b[49m\u001b[43m)\u001b[49m\n",
      "File \u001b[1;32m~\\anaconda3\\envs\\vendamaisgov\\lib\\site-packages\\selenium\\webdriver\\remote\\switch_to.py:92\u001b[0m, in \u001b[0;36mSwitchTo.frame\u001b[1;34m(self, frame_reference)\u001b[0m\n\u001b[0;32m     89\u001b[0m         \u001b[38;5;28;01mexcept\u001b[39;00m NoSuchElementException:\n\u001b[0;32m     90\u001b[0m             \u001b[38;5;28;01mraise\u001b[39;00m NoSuchFrameException(frame_reference)\n\u001b[1;32m---> 92\u001b[0m \u001b[38;5;28;43mself\u001b[39;49m\u001b[38;5;241;43m.\u001b[39;49m\u001b[43m_driver\u001b[49m\u001b[38;5;241;43m.\u001b[39;49m\u001b[43mexecute\u001b[49m\u001b[43m(\u001b[49m\u001b[43mCommand\u001b[49m\u001b[38;5;241;43m.\u001b[39;49m\u001b[43mSWITCH_TO_FRAME\u001b[49m\u001b[43m,\u001b[49m\u001b[43m \u001b[49m\u001b[43m{\u001b[49m\u001b[38;5;124;43m\"\u001b[39;49m\u001b[38;5;124;43mid\u001b[39;49m\u001b[38;5;124;43m\"\u001b[39;49m\u001b[43m:\u001b[49m\u001b[43m \u001b[49m\u001b[43mframe_reference\u001b[49m\u001b[43m}\u001b[49m\u001b[43m)\u001b[49m\n",
      "File \u001b[1;32m~\\anaconda3\\envs\\vendamaisgov\\lib\\site-packages\\selenium\\webdriver\\remote\\webdriver.py:346\u001b[0m, in \u001b[0;36mWebDriver.execute\u001b[1;34m(self, driver_command, params)\u001b[0m\n\u001b[0;32m    344\u001b[0m response \u001b[38;5;241m=\u001b[39m \u001b[38;5;28mself\u001b[39m\u001b[38;5;241m.\u001b[39mcommand_executor\u001b[38;5;241m.\u001b[39mexecute(driver_command, params)\n\u001b[0;32m    345\u001b[0m \u001b[38;5;28;01mif\u001b[39;00m response:\n\u001b[1;32m--> 346\u001b[0m     \u001b[38;5;28;43mself\u001b[39;49m\u001b[38;5;241;43m.\u001b[39;49m\u001b[43merror_handler\u001b[49m\u001b[38;5;241;43m.\u001b[39;49m\u001b[43mcheck_response\u001b[49m\u001b[43m(\u001b[49m\u001b[43mresponse\u001b[49m\u001b[43m)\u001b[49m\n\u001b[0;32m    347\u001b[0m     response[\u001b[38;5;124m\"\u001b[39m\u001b[38;5;124mvalue\u001b[39m\u001b[38;5;124m\"\u001b[39m] \u001b[38;5;241m=\u001b[39m \u001b[38;5;28mself\u001b[39m\u001b[38;5;241m.\u001b[39m_unwrap_value(response\u001b[38;5;241m.\u001b[39mget(\u001b[38;5;124m\"\u001b[39m\u001b[38;5;124mvalue\u001b[39m\u001b[38;5;124m\"\u001b[39m, \u001b[38;5;28;01mNone\u001b[39;00m))\n\u001b[0;32m    348\u001b[0m     \u001b[38;5;28;01mreturn\u001b[39;00m response\n",
      "File \u001b[1;32m~\\anaconda3\\envs\\vendamaisgov\\lib\\site-packages\\selenium\\webdriver\\remote\\errorhandler.py:245\u001b[0m, in \u001b[0;36mErrorHandler.check_response\u001b[1;34m(self, response)\u001b[0m\n\u001b[0;32m    243\u001b[0m         alert_text \u001b[38;5;241m=\u001b[39m value[\u001b[38;5;124m\"\u001b[39m\u001b[38;5;124malert\u001b[39m\u001b[38;5;124m\"\u001b[39m]\u001b[38;5;241m.\u001b[39mget(\u001b[38;5;124m\"\u001b[39m\u001b[38;5;124mtext\u001b[39m\u001b[38;5;124m\"\u001b[39m)\n\u001b[0;32m    244\u001b[0m     \u001b[38;5;28;01mraise\u001b[39;00m exception_class(message, screen, stacktrace, alert_text)  \u001b[38;5;66;03m# type: ignore[call-arg]  # mypy is not smart enough here\u001b[39;00m\n\u001b[1;32m--> 245\u001b[0m \u001b[38;5;28;01mraise\u001b[39;00m exception_class(message, screen, stacktrace)\n",
      "\u001b[1;31mStaleElementReferenceException\u001b[0m: Message: stale element reference: stale element not found\n  (Session info: chrome=114.0.5735.110); For documentation on this error, please visit: https://www.selenium.dev/documentation/webdriver/troubleshooting/errors#stale-element-reference-exception\nStacktrace:\nBacktrace:\n\tGetHandleVerifier [0x009EA813+48355]\n\t(No symbol) [0x0097C4B1]\n\t(No symbol) [0x00885358]\n\t(No symbol) [0x0088E5A3]\n\t(No symbol) [0x00888A78]\n\t(No symbol) [0x00887C03]\n\t(No symbol) [0x008899E1]\n\t(No symbol) [0x00889A80]\n\t(No symbol) [0x008B1F0E]\n\t(No symbol) [0x008DD9E7]\n\t(No symbol) [0x008CA73C]\n\t(No symbol) [0x008DC922]\n\t(No symbol) [0x008CA536]\n\t(No symbol) [0x008A82DC]\n\t(No symbol) [0x008A93DD]\n\tGetHandleVerifier [0x00C4AABD+2539405]\n\tGetHandleVerifier [0x00C8A78F+2800735]\n\tGetHandleVerifier [0x00C8456C+2775612]\n\tGetHandleVerifier [0x00A751E0+616112]\n\t(No symbol) [0x00985F8C]\n\t(No symbol) [0x00982328]\n\t(No symbol) [0x0098240B]\n\t(No symbol) [0x00974FF7]\n\tBaseThreadInitThunk [0x75B800C9+25]\n\tRtlGetAppContainerNamedObjectPath [0x77D27B4E+286]\n\tRtlGetAppContainerNamedObjectPath [0x77D27B1E+238]\n"
     ]
    }
   ],
   "source": [
    "driver.switch_to.frame(frame2)"
   ]
  },
  {
   "cell_type": "code",
   "execution_count": 235,
   "id": "dedbb6ad",
   "metadata": {},
   "outputs": [
    {
     "ename": "NoSuchElementException",
     "evalue": "Message: no such element: Unable to locate element: {\"method\":\"tag name\",\"selector\":\"h1\"}\n  (Session info: chrome=114.0.5735.110); For documentation on this error, please visit: https://www.selenium.dev/documentation/webdriver/troubleshooting/errors#no-such-element-exception\nStacktrace:\nBacktrace:\n\tGetHandleVerifier [0x009EA813+48355]\n\t(No symbol) [0x0097C4B1]\n\t(No symbol) [0x00885358]\n\t(No symbol) [0x008B09A5]\n\t(No symbol) [0x008B0B3B]\n\t(No symbol) [0x008DE232]\n\t(No symbol) [0x008CA784]\n\t(No symbol) [0x008DC922]\n\t(No symbol) [0x008CA536]\n\t(No symbol) [0x008A82DC]\n\t(No symbol) [0x008A93DD]\n\tGetHandleVerifier [0x00C4AABD+2539405]\n\tGetHandleVerifier [0x00C8A78F+2800735]\n\tGetHandleVerifier [0x00C8456C+2775612]\n\tGetHandleVerifier [0x00A751E0+616112]\n\t(No symbol) [0x00985F8C]\n\t(No symbol) [0x00982328]\n\t(No symbol) [0x0098240B]\n\t(No symbol) [0x00974FF7]\n\tBaseThreadInitThunk [0x75B800C9+25]\n\tRtlGetAppContainerNamedObjectPath [0x77D27B4E+286]\n\tRtlGetAppContainerNamedObjectPath [0x77D27B1E+238]\n",
     "output_type": "error",
     "traceback": [
      "\u001b[1;31m---------------------------------------------------------------------------\u001b[0m",
      "\u001b[1;31mNoSuchElementException\u001b[0m                    Traceback (most recent call last)",
      "Input \u001b[1;32mIn [235]\u001b[0m, in \u001b[0;36m<cell line: 1>\u001b[1;34m()\u001b[0m\n\u001b[1;32m----> 1\u001b[0m \u001b[43mdriver\u001b[49m\u001b[38;5;241;43m.\u001b[39;49m\u001b[43mfind_element\u001b[49m\u001b[43m(\u001b[49m\u001b[43mBy\u001b[49m\u001b[38;5;241;43m.\u001b[39;49m\u001b[43mTAG_NAME\u001b[49m\u001b[43m,\u001b[49m\u001b[38;5;124;43m'\u001b[39;49m\u001b[38;5;124;43mh1\u001b[39;49m\u001b[38;5;124;43m'\u001b[39;49m\u001b[43m)\u001b[49m\u001b[38;5;241m.\u001b[39mtext\n",
      "File \u001b[1;32m~\\anaconda3\\envs\\vendamaisgov\\lib\\site-packages\\selenium\\webdriver\\remote\\webdriver.py:740\u001b[0m, in \u001b[0;36mWebDriver.find_element\u001b[1;34m(self, by, value)\u001b[0m\n\u001b[0;32m    737\u001b[0m     by \u001b[38;5;241m=\u001b[39m By\u001b[38;5;241m.\u001b[39mCSS_SELECTOR\n\u001b[0;32m    738\u001b[0m     value \u001b[38;5;241m=\u001b[39m \u001b[38;5;124mf\u001b[39m\u001b[38;5;124m'\u001b[39m\u001b[38;5;124m[name=\u001b[39m\u001b[38;5;124m\"\u001b[39m\u001b[38;5;132;01m{\u001b[39;00mvalue\u001b[38;5;132;01m}\u001b[39;00m\u001b[38;5;124m\"\u001b[39m\u001b[38;5;124m]\u001b[39m\u001b[38;5;124m'\u001b[39m\n\u001b[1;32m--> 740\u001b[0m \u001b[38;5;28;01mreturn\u001b[39;00m \u001b[38;5;28;43mself\u001b[39;49m\u001b[38;5;241;43m.\u001b[39;49m\u001b[43mexecute\u001b[49m\u001b[43m(\u001b[49m\u001b[43mCommand\u001b[49m\u001b[38;5;241;43m.\u001b[39;49m\u001b[43mFIND_ELEMENT\u001b[49m\u001b[43m,\u001b[49m\u001b[43m \u001b[49m\u001b[43m{\u001b[49m\u001b[38;5;124;43m\"\u001b[39;49m\u001b[38;5;124;43musing\u001b[39;49m\u001b[38;5;124;43m\"\u001b[39;49m\u001b[43m:\u001b[49m\u001b[43m \u001b[49m\u001b[43mby\u001b[49m\u001b[43m,\u001b[49m\u001b[43m \u001b[49m\u001b[38;5;124;43m\"\u001b[39;49m\u001b[38;5;124;43mvalue\u001b[39;49m\u001b[38;5;124;43m\"\u001b[39;49m\u001b[43m:\u001b[49m\u001b[43m \u001b[49m\u001b[43mvalue\u001b[49m\u001b[43m}\u001b[49m\u001b[43m)\u001b[49m[\u001b[38;5;124m\"\u001b[39m\u001b[38;5;124mvalue\u001b[39m\u001b[38;5;124m\"\u001b[39m]\n",
      "File \u001b[1;32m~\\anaconda3\\envs\\vendamaisgov\\lib\\site-packages\\selenium\\webdriver\\remote\\webdriver.py:346\u001b[0m, in \u001b[0;36mWebDriver.execute\u001b[1;34m(self, driver_command, params)\u001b[0m\n\u001b[0;32m    344\u001b[0m response \u001b[38;5;241m=\u001b[39m \u001b[38;5;28mself\u001b[39m\u001b[38;5;241m.\u001b[39mcommand_executor\u001b[38;5;241m.\u001b[39mexecute(driver_command, params)\n\u001b[0;32m    345\u001b[0m \u001b[38;5;28;01mif\u001b[39;00m response:\n\u001b[1;32m--> 346\u001b[0m     \u001b[38;5;28;43mself\u001b[39;49m\u001b[38;5;241;43m.\u001b[39;49m\u001b[43merror_handler\u001b[49m\u001b[38;5;241;43m.\u001b[39;49m\u001b[43mcheck_response\u001b[49m\u001b[43m(\u001b[49m\u001b[43mresponse\u001b[49m\u001b[43m)\u001b[49m\n\u001b[0;32m    347\u001b[0m     response[\u001b[38;5;124m\"\u001b[39m\u001b[38;5;124mvalue\u001b[39m\u001b[38;5;124m\"\u001b[39m] \u001b[38;5;241m=\u001b[39m \u001b[38;5;28mself\u001b[39m\u001b[38;5;241m.\u001b[39m_unwrap_value(response\u001b[38;5;241m.\u001b[39mget(\u001b[38;5;124m\"\u001b[39m\u001b[38;5;124mvalue\u001b[39m\u001b[38;5;124m\"\u001b[39m, \u001b[38;5;28;01mNone\u001b[39;00m))\n\u001b[0;32m    348\u001b[0m     \u001b[38;5;28;01mreturn\u001b[39;00m response\n",
      "File \u001b[1;32m~\\anaconda3\\envs\\vendamaisgov\\lib\\site-packages\\selenium\\webdriver\\remote\\errorhandler.py:245\u001b[0m, in \u001b[0;36mErrorHandler.check_response\u001b[1;34m(self, response)\u001b[0m\n\u001b[0;32m    243\u001b[0m         alert_text \u001b[38;5;241m=\u001b[39m value[\u001b[38;5;124m\"\u001b[39m\u001b[38;5;124malert\u001b[39m\u001b[38;5;124m\"\u001b[39m]\u001b[38;5;241m.\u001b[39mget(\u001b[38;5;124m\"\u001b[39m\u001b[38;5;124mtext\u001b[39m\u001b[38;5;124m\"\u001b[39m)\n\u001b[0;32m    244\u001b[0m     \u001b[38;5;28;01mraise\u001b[39;00m exception_class(message, screen, stacktrace, alert_text)  \u001b[38;5;66;03m# type: ignore[call-arg]  # mypy is not smart enough here\u001b[39;00m\n\u001b[1;32m--> 245\u001b[0m \u001b[38;5;28;01mraise\u001b[39;00m exception_class(message, screen, stacktrace)\n",
      "\u001b[1;31mNoSuchElementException\u001b[0m: Message: no such element: Unable to locate element: {\"method\":\"tag name\",\"selector\":\"h1\"}\n  (Session info: chrome=114.0.5735.110); For documentation on this error, please visit: https://www.selenium.dev/documentation/webdriver/troubleshooting/errors#no-such-element-exception\nStacktrace:\nBacktrace:\n\tGetHandleVerifier [0x009EA813+48355]\n\t(No symbol) [0x0097C4B1]\n\t(No symbol) [0x00885358]\n\t(No symbol) [0x008B09A5]\n\t(No symbol) [0x008B0B3B]\n\t(No symbol) [0x008DE232]\n\t(No symbol) [0x008CA784]\n\t(No symbol) [0x008DC922]\n\t(No symbol) [0x008CA536]\n\t(No symbol) [0x008A82DC]\n\t(No symbol) [0x008A93DD]\n\tGetHandleVerifier [0x00C4AABD+2539405]\n\tGetHandleVerifier [0x00C8A78F+2800735]\n\tGetHandleVerifier [0x00C8456C+2775612]\n\tGetHandleVerifier [0x00A751E0+616112]\n\t(No symbol) [0x00985F8C]\n\t(No symbol) [0x00982328]\n\t(No symbol) [0x0098240B]\n\t(No symbol) [0x00974FF7]\n\tBaseThreadInitThunk [0x75B800C9+25]\n\tRtlGetAppContainerNamedObjectPath [0x77D27B4E+286]\n\tRtlGetAppContainerNamedObjectPath [0x77D27B1E+238]\n"
     ]
    }
   ],
   "source": [
    "driver.find_element(By.TAG_NAME,'h1').text"
   ]
  },
  {
   "cell_type": "code",
   "execution_count": 201,
   "id": "92c98284",
   "metadata": {},
   "outputs": [],
   "source": [
    "frame = container.find_element(By.TAG_NAME,'iframe')"
   ]
  },
  {
   "cell_type": "code",
   "execution_count": 221,
   "id": "b7cf59a0",
   "metadata": {},
   "outputs": [
    {
     "data": {
      "text/plain": [
       "''"
      ]
     },
     "execution_count": 221,
     "metadata": {},
     "output_type": "execute_result"
    }
   ],
   "source": [
    "container.get_attribute('innerText')"
   ]
  },
  {
   "cell_type": "code",
   "execution_count": 203,
   "id": "3372a54a",
   "metadata": {},
   "outputs": [],
   "source": [
    "driver.switch_to.frame(frame)"
   ]
  },
  {
   "cell_type": "code",
   "execution_count": 213,
   "id": "059b25ed",
   "metadata": {},
   "outputs": [],
   "source": [
    "driver.switch_to.default_content()"
   ]
  },
  {
   "cell_type": "code",
   "execution_count": 207,
   "id": "7a961fbe",
   "metadata": {},
   "outputs": [
    {
     "ename": "NoSuchElementException",
     "evalue": "Message: no such element: Unable to locate element: {\"method\":\"tag name\",\"selector\":\"h1\"}\n  (Session info: chrome=114.0.5735.110); For documentation on this error, please visit: https://www.selenium.dev/documentation/webdriver/troubleshooting/errors#no-such-element-exception\nStacktrace:\nBacktrace:\n\tGetHandleVerifier [0x009EA813+48355]\n\t(No symbol) [0x0097C4B1]\n\t(No symbol) [0x00885358]\n\t(No symbol) [0x008B09A5]\n\t(No symbol) [0x008B0B3B]\n\t(No symbol) [0x008DE232]\n\t(No symbol) [0x008CA784]\n\t(No symbol) [0x008DC922]\n\t(No symbol) [0x008CA536]\n\t(No symbol) [0x008A82DC]\n\t(No symbol) [0x008A93DD]\n\tGetHandleVerifier [0x00C4AABD+2539405]\n\tGetHandleVerifier [0x00C8A78F+2800735]\n\tGetHandleVerifier [0x00C8456C+2775612]\n\tGetHandleVerifier [0x00A751E0+616112]\n\t(No symbol) [0x00985F8C]\n\t(No symbol) [0x00982328]\n\t(No symbol) [0x0098240B]\n\t(No symbol) [0x00974FF7]\n\tBaseThreadInitThunk [0x75B800C9+25]\n\tRtlGetAppContainerNamedObjectPath [0x77D27B4E+286]\n\tRtlGetAppContainerNamedObjectPath [0x77D27B1E+238]\n",
     "output_type": "error",
     "traceback": [
      "\u001b[1;31m---------------------------------------------------------------------------\u001b[0m",
      "\u001b[1;31mNoSuchElementException\u001b[0m                    Traceback (most recent call last)",
      "Input \u001b[1;32mIn [207]\u001b[0m, in \u001b[0;36m<cell line: 1>\u001b[1;34m()\u001b[0m\n\u001b[1;32m----> 1\u001b[0m \u001b[43mdriver\u001b[49m\u001b[38;5;241;43m.\u001b[39;49m\u001b[43mfind_element\u001b[49m\u001b[43m(\u001b[49m\u001b[43mBy\u001b[49m\u001b[38;5;241;43m.\u001b[39;49m\u001b[43mTAG_NAME\u001b[49m\u001b[43m,\u001b[49m\u001b[38;5;124;43m'\u001b[39;49m\u001b[38;5;124;43mh1\u001b[39;49m\u001b[38;5;124;43m'\u001b[39;49m\u001b[43m)\u001b[49m\n",
      "File \u001b[1;32m~\\anaconda3\\envs\\vendamaisgov\\lib\\site-packages\\selenium\\webdriver\\remote\\webdriver.py:740\u001b[0m, in \u001b[0;36mWebDriver.find_element\u001b[1;34m(self, by, value)\u001b[0m\n\u001b[0;32m    737\u001b[0m     by \u001b[38;5;241m=\u001b[39m By\u001b[38;5;241m.\u001b[39mCSS_SELECTOR\n\u001b[0;32m    738\u001b[0m     value \u001b[38;5;241m=\u001b[39m \u001b[38;5;124mf\u001b[39m\u001b[38;5;124m'\u001b[39m\u001b[38;5;124m[name=\u001b[39m\u001b[38;5;124m\"\u001b[39m\u001b[38;5;132;01m{\u001b[39;00mvalue\u001b[38;5;132;01m}\u001b[39;00m\u001b[38;5;124m\"\u001b[39m\u001b[38;5;124m]\u001b[39m\u001b[38;5;124m'\u001b[39m\n\u001b[1;32m--> 740\u001b[0m \u001b[38;5;28;01mreturn\u001b[39;00m \u001b[38;5;28;43mself\u001b[39;49m\u001b[38;5;241;43m.\u001b[39;49m\u001b[43mexecute\u001b[49m\u001b[43m(\u001b[49m\u001b[43mCommand\u001b[49m\u001b[38;5;241;43m.\u001b[39;49m\u001b[43mFIND_ELEMENT\u001b[49m\u001b[43m,\u001b[49m\u001b[43m \u001b[49m\u001b[43m{\u001b[49m\u001b[38;5;124;43m\"\u001b[39;49m\u001b[38;5;124;43musing\u001b[39;49m\u001b[38;5;124;43m\"\u001b[39;49m\u001b[43m:\u001b[49m\u001b[43m \u001b[49m\u001b[43mby\u001b[49m\u001b[43m,\u001b[49m\u001b[43m \u001b[49m\u001b[38;5;124;43m\"\u001b[39;49m\u001b[38;5;124;43mvalue\u001b[39;49m\u001b[38;5;124;43m\"\u001b[39;49m\u001b[43m:\u001b[49m\u001b[43m \u001b[49m\u001b[43mvalue\u001b[49m\u001b[43m}\u001b[49m\u001b[43m)\u001b[49m[\u001b[38;5;124m\"\u001b[39m\u001b[38;5;124mvalue\u001b[39m\u001b[38;5;124m\"\u001b[39m]\n",
      "File \u001b[1;32m~\\anaconda3\\envs\\vendamaisgov\\lib\\site-packages\\selenium\\webdriver\\remote\\webdriver.py:346\u001b[0m, in \u001b[0;36mWebDriver.execute\u001b[1;34m(self, driver_command, params)\u001b[0m\n\u001b[0;32m    344\u001b[0m response \u001b[38;5;241m=\u001b[39m \u001b[38;5;28mself\u001b[39m\u001b[38;5;241m.\u001b[39mcommand_executor\u001b[38;5;241m.\u001b[39mexecute(driver_command, params)\n\u001b[0;32m    345\u001b[0m \u001b[38;5;28;01mif\u001b[39;00m response:\n\u001b[1;32m--> 346\u001b[0m     \u001b[38;5;28;43mself\u001b[39;49m\u001b[38;5;241;43m.\u001b[39;49m\u001b[43merror_handler\u001b[49m\u001b[38;5;241;43m.\u001b[39;49m\u001b[43mcheck_response\u001b[49m\u001b[43m(\u001b[49m\u001b[43mresponse\u001b[49m\u001b[43m)\u001b[49m\n\u001b[0;32m    347\u001b[0m     response[\u001b[38;5;124m\"\u001b[39m\u001b[38;5;124mvalue\u001b[39m\u001b[38;5;124m\"\u001b[39m] \u001b[38;5;241m=\u001b[39m \u001b[38;5;28mself\u001b[39m\u001b[38;5;241m.\u001b[39m_unwrap_value(response\u001b[38;5;241m.\u001b[39mget(\u001b[38;5;124m\"\u001b[39m\u001b[38;5;124mvalue\u001b[39m\u001b[38;5;124m\"\u001b[39m, \u001b[38;5;28;01mNone\u001b[39;00m))\n\u001b[0;32m    348\u001b[0m     \u001b[38;5;28;01mreturn\u001b[39;00m response\n",
      "File \u001b[1;32m~\\anaconda3\\envs\\vendamaisgov\\lib\\site-packages\\selenium\\webdriver\\remote\\errorhandler.py:245\u001b[0m, in \u001b[0;36mErrorHandler.check_response\u001b[1;34m(self, response)\u001b[0m\n\u001b[0;32m    243\u001b[0m         alert_text \u001b[38;5;241m=\u001b[39m value[\u001b[38;5;124m\"\u001b[39m\u001b[38;5;124malert\u001b[39m\u001b[38;5;124m\"\u001b[39m]\u001b[38;5;241m.\u001b[39mget(\u001b[38;5;124m\"\u001b[39m\u001b[38;5;124mtext\u001b[39m\u001b[38;5;124m\"\u001b[39m)\n\u001b[0;32m    244\u001b[0m     \u001b[38;5;28;01mraise\u001b[39;00m exception_class(message, screen, stacktrace, alert_text)  \u001b[38;5;66;03m# type: ignore[call-arg]  # mypy is not smart enough here\u001b[39;00m\n\u001b[1;32m--> 245\u001b[0m \u001b[38;5;28;01mraise\u001b[39;00m exception_class(message, screen, stacktrace)\n",
      "\u001b[1;31mNoSuchElementException\u001b[0m: Message: no such element: Unable to locate element: {\"method\":\"tag name\",\"selector\":\"h1\"}\n  (Session info: chrome=114.0.5735.110); For documentation on this error, please visit: https://www.selenium.dev/documentation/webdriver/troubleshooting/errors#no-such-element-exception\nStacktrace:\nBacktrace:\n\tGetHandleVerifier [0x009EA813+48355]\n\t(No symbol) [0x0097C4B1]\n\t(No symbol) [0x00885358]\n\t(No symbol) [0x008B09A5]\n\t(No symbol) [0x008B0B3B]\n\t(No symbol) [0x008DE232]\n\t(No symbol) [0x008CA784]\n\t(No symbol) [0x008DC922]\n\t(No symbol) [0x008CA536]\n\t(No symbol) [0x008A82DC]\n\t(No symbol) [0x008A93DD]\n\tGetHandleVerifier [0x00C4AABD+2539405]\n\tGetHandleVerifier [0x00C8A78F+2800735]\n\tGetHandleVerifier [0x00C8456C+2775612]\n\tGetHandleVerifier [0x00A751E0+616112]\n\t(No symbol) [0x00985F8C]\n\t(No symbol) [0x00982328]\n\t(No symbol) [0x0098240B]\n\t(No symbol) [0x00974FF7]\n\tBaseThreadInitThunk [0x75B800C9+25]\n\tRtlGetAppContainerNamedObjectPath [0x77D27B4E+286]\n\tRtlGetAppContainerNamedObjectPath [0x77D27B1E+238]\n"
     ]
    }
   ],
   "source": [
    "driver.find_element(By.TAG_NAME,'h1')"
   ]
  },
  {
   "cell_type": "code",
   "execution_count": null,
   "id": "565ba844",
   "metadata": {},
   "outputs": [],
   "source": []
  },
  {
   "cell_type": "code",
   "execution_count": null,
   "id": "0da4105d",
   "metadata": {},
   "outputs": [],
   "source": []
  },
  {
   "cell_type": "markdown",
   "id": "6c23d416",
   "metadata": {},
   "source": [
    "## Extraindo um website com Selenium"
   ]
  },
  {
   "cell_type": "code",
   "execution_count": null,
   "id": "c56a7745",
   "metadata": {},
   "outputs": [],
   "source": [
    "driver.get(\"https://justcapital.com/companies/bank-of-america-corporation\")"
   ]
  },
  {
   "cell_type": "code",
   "execution_count": 236,
   "id": "3e00c977",
   "metadata": {},
   "outputs": [],
   "source": [
    "driver.get(\"https://www.pichau.com.br/perifericos/microfones\")"
   ]
  },
  {
   "cell_type": "code",
   "execution_count": 259,
   "id": "e0fe31c0",
   "metadata": {},
   "outputs": [],
   "source": [
    "classe_produtos = driver.find_element(By.CLASS_NAME,'MuiGrid-root.jss37.MuiGrid-container.MuiGrid-spacing-xs-3')"
   ]
  },
  {
   "cell_type": "code",
   "execution_count": 239,
   "id": "e3be2d9c",
   "metadata": {},
   "outputs": [
    {
     "name": "stdout",
     "output_type": "stream",
     "text": [
      "Microfone Streamplify Tripad, USB, RGB, Preto, MIC-48-RGB-TP-BK\n",
      "Microfone Streamplify Mic Arm, RGB, USB, Preto, MIC-48-RGB-MA-BK\n",
      "Microfone JBL PBM 100, P10, Preto, JBLPBM100BLK\n",
      "Microfone HyperX QuadCast, LED, USB, Preto e Vermelho, 4P5P6AA\n",
      "Microfone HyperX Solocast, USB, Preto, 4P5P8AA\n",
      "Microfone Mancer Horcrux PFT, RGB, USB, Preto, MCR-HCRPFT-BL01\n",
      "Microfone TGT Anzer, USB, Preto, TGT-ANZR-BL01\n",
      "Microfone Pichau Polaris, USB, Preto, PG-PLRIS-BL01\n",
      "Suporte Para Microfone Zinnia SMZ100, ZNO-SMZ100-BL01\n",
      "Microfone DT3 BYT, USB, Preto, 12982-2\n",
      "Microfone JBL Quantum Stream, USB, Preto, JBLQSTREAMBLK\n",
      "Microfone DT3 Boss, USB, Preto, 12986-6\n",
      "Microfone HyperX QuadCast, LED, USB, Preto, HX-MICQC-BK\n",
      "Microfone Trust GXT 215 Zabi, Led Vermelho, USB, T23800\n",
      "Microfone Trust GXT 258W Fyru 4-in-1 Branco, T24257\n",
      "Microfone de Lapela Audio Technica USB, ATR4650-USB\n",
      "Microfone Condensador Blue Yeti X USB, 988-000105\n",
      "Microfone Condensador Audio Technica, AT2020\n",
      "Microfone de Lapela Mancer Para Celular, MCR-MLP-002\n",
      "Microfone Trust Emita Plus GXT 252 Com Braço Articulado Preto, T22400\n",
      "Microfone Razer Seiren Mini Mercury, RZ19-03450300-R3M1\n",
      "Microfone Razer Seiren Mini Quartz, RZ19-03450200-R3M1\n",
      "Microfone Trust Primo, T21674\n",
      "Microfone Trust GXT 242 Lance, T22614\n",
      "Microfone Trust GXT 212 Mico Preto/Vermelho, T23791\n",
      "Microfone Trust Mico Preto/Azul, T23790\n",
      "Microfone Trust GXT 258 Fyru 4-in-1 Led Multicor, T23465\n",
      "Microfone Trust GXT 256 Exxo RGB, T23510\n",
      "Microfone Trust GXT 244 Buzz, T23466\n",
      "Microfone Trust GXT 239 Nepa, T23467\n",
      "Microfone Trust Starzz, T21671\n",
      "Microfone Trust Scorp, T20688\n",
      "Microfone Condensador Blue Yeti Silver, 988-000103\n",
      "Microfone Condensador Blue Yeti Nano Shadow Gray, 988-000088\n",
      "Microfone Razer Seiren Emote, RZ19-03060100-R3U1\n",
      "Microfone Razer Seiren X Mercury, RZ19-02290400-R3M1\n"
     ]
    }
   ],
   "source": [
    "for nome_produto in classe_produtos.find_elements(By.CLASS_NAME,'MuiTypography-root.jss78.jss79.MuiTypography-h6'):\n",
    "    \n",
    "    print(nome_produto.text)\n",
    "    "
   ]
  },
  {
   "cell_type": "code",
   "execution_count": 263,
   "id": "cd0381ca",
   "metadata": {},
   "outputs": [
    {
     "data": {
      "text/plain": [
       "34"
      ]
     },
     "execution_count": 263,
     "metadata": {},
     "output_type": "execute_result"
    }
   ],
   "source": [
    "len(classe_produtos.find_elements(By.CLASS_NAME,'jss90'))"
   ]
  },
  {
   "cell_type": "code",
   "execution_count": 277,
   "id": "4743772b",
   "metadata": {},
   "outputs": [
    {
     "data": {
      "text/plain": [
       "'https://www.pichau.com.br/microfone-streamplify-tripad-usb-rgb-preto-mic-48-rgb-tp-bk'"
      ]
     },
     "execution_count": 277,
     "metadata": {},
     "output_type": "execute_result"
    }
   ],
   "source": [
    "produtos[0].find_element(By.TAG_NAME,'a').get_attribute('href')"
   ]
  },
  {
   "cell_type": "code",
   "execution_count": 278,
   "id": "c709b583",
   "metadata": {},
   "outputs": [
    {
     "name": "stdout",
     "output_type": "stream",
     "text": [
      "https://www.pichau.com.br/microfone-streamplify-tripad-usb-rgb-preto-mic-48-rgb-tp-bk\n",
      "https://www.pichau.com.br/microfone-streamplify-mic-arm-rgb-usb-preto-mic-48-rgb-ma-bk\n",
      "https://www.pichau.com.br/microfone-jbl-pbm-100-p10-preto-jblpbm100blk\n",
      "https://www.pichau.com.br/microfone-hyperx-quadcast-led-usb-preto-e-vermelho-4p5p6aa\n",
      "https://www.pichau.com.br/microfone-hyperx-solocast-usb-preto-4p5p8aa\n",
      "https://www.pichau.com.br/microfone-mancer-horcrux-pft-rgb-usb-preto-mcr-hcrpft-bl01\n",
      "https://www.pichau.com.br/microfone-tgt-anzer-usb-preto-tgt-anzr-bl01\n",
      "https://www.pichau.com.br/microfone-pichau-polaris-usb-preto-pg-plris-bl01\n",
      "https://www.pichau.com.br/suporte-para-microfone-zinnia-smz100-zno-smz100-bl01\n",
      "https://www.pichau.com.br/microfone-dt3-byt-usb-preto-12982-2\n",
      "https://www.pichau.com.br/microfone-jbl-quantum-stream-usb-preto-jblqstreamblk\n",
      "https://www.pichau.com.br/microfone-dt3-boss-usb-preto-12986-6\n",
      "https://www.pichau.com.br/microfone-hyperx-quadcast-led-usb-preto-hx-micqc-bk\n",
      "https://www.pichau.com.br/microfone-trust-gxt-215-zabi-led-vermelho-usb-t23800\n",
      "https://www.pichau.com.br/microfone-trust-gxt-258w-fyru-4-in-1-branco-t24257\n",
      "https://www.pichau.com.br/microfone-de-lapela-audio-technica-usb-atr4650-usb\n",
      "https://www.pichau.com.br/microfone-condensador-blue-yeti-x-usb-988-000105\n",
      "https://www.pichau.com.br/microfone-condensador-audio-technica-at2020\n",
      "https://www.pichau.com.br/microfone-de-lapela-mancer-para-celular-mcr-mlp-002\n",
      "https://www.pichau.com.br/microfone-trust-emita-plus-gxt-252-com-braco-articulado-preto-t22400\n",
      "https://www.pichau.com.br/microfone-razer-seiren-mini-mercury-rz19-03450300-r3m1\n",
      "https://www.pichau.com.br/microfone-razer-seiren-mini-quartz-rz19-03450200-r3m1\n",
      "https://www.pichau.com.br/microfone-trust-primo-t21674\n",
      "https://www.pichau.com.br/microfone-trust-gxt-242-lance-t22614\n",
      "https://www.pichau.com.br/microfone-trust-gxt-212-mico-preto-vermelho-t23791\n",
      "https://www.pichau.com.br/microfone-trust-mico-preto-azul-t23790\n",
      "https://www.pichau.com.br/microfone-trust-gxt-258-fyru-4-in-1-led-multicor-t23465\n",
      "https://www.pichau.com.br/microfone-trust-gxt-256-exxo-rgb-t23510\n",
      "https://www.pichau.com.br/microfone-trust-gxt-244-buzz-t23466\n",
      "https://www.pichau.com.br/microfone-trust-gxt-239-nepa-t23467\n",
      "https://www.pichau.com.br/microfone-trust-starzz-t21671\n",
      "https://www.pichau.com.br/microfone-trust-scorp-t20688\n",
      "https://www.pichau.com.br/microfone-condensador-blue-yeti-silver-988-000103\n",
      "https://www.pichau.com.br/microfone-condensador-blue-yeti-nano-shadow-gray-988-000088\n",
      "https://www.pichau.com.br/microfone-razer-seiren-emote-rz19-03060100-r3u1\n",
      "https://www.pichau.com.br/microfone-razer-seiren-x-mercury-rz19-02290400-r3m1\n"
     ]
    }
   ],
   "source": [
    "for url in produtos:\n",
    "    \n",
    "    print(url.find_element(By.TAG_NAME,\"a\").get_attribute('href') )"
   ]
  },
  {
   "cell_type": "code",
   "execution_count": 255,
   "id": "8138a742",
   "metadata": {},
   "outputs": [],
   "source": [
    "produtos = classe_produtos.find_elements(By.CLASS_NAME,'MuiGrid-root.MuiGrid-item.MuiGrid-grid-xs-6.MuiGrid-grid-sm-6.MuiGrid-grid-md-4.MuiGrid-grid-lg-3.MuiGrid-grid-xl-2')"
   ]
  },
  {
   "cell_type": "code",
   "execution_count": 281,
   "id": "2d26eae4",
   "metadata": {},
   "outputs": [],
   "source": []
  },
  {
   "cell_type": "code",
   "execution_count": 286,
   "id": "e4526e97",
   "metadata": {},
   "outputs": [
    {
     "name": "stdout",
     "output_type": "stream",
     "text": [
      "<class 'dict'>\n",
      "<class 'dict'>\n",
      "<class 'dict'>\n",
      "<class 'dict'>\n",
      "<class 'dict'>\n",
      "<class 'dict'>\n",
      "<class 'dict'>\n",
      "<class 'dict'>\n",
      "<class 'dict'>\n",
      "<class 'dict'>\n",
      "<class 'dict'>\n",
      "<class 'dict'>\n",
      "<class 'dict'>\n",
      "<class 'dict'>\n",
      "<class 'dict'>\n",
      "<class 'dict'>\n",
      "<class 'dict'>\n",
      "<class 'dict'>\n",
      "<class 'dict'>\n",
      "<class 'dict'>\n",
      "<class 'dict'>\n",
      "<class 'dict'>\n",
      "<class 'dict'>\n",
      "<class 'dict'>\n",
      "<class 'dict'>\n",
      "<class 'dict'>\n",
      "<class 'dict'>\n",
      "<class 'dict'>\n",
      "<class 'dict'>\n",
      "<class 'dict'>\n",
      "<class 'dict'>\n",
      "<class 'dict'>\n",
      "<class 'dict'>\n",
      "<class 'dict'>\n",
      "<class 'dict'>\n",
      "<class 'dict'>\n"
     ]
    }
   ],
   "source": [
    "import pandas as pd \n",
    "\n",
    "dict_produtos = {}\n",
    "df = pd.DataFrame()\n",
    "for produto in produtos:\n",
    "    \n",
    "    dict_produtos['url_imagem_produto'] = produto.find_element(By.CLASS_NAME,'jss63').get_attribute('src')\n",
    "    dict_produtos['preco_a_vista'] = produto.find_element(By.CLASS_NAME,'jss81').text\n",
    "    try:\n",
    "        dict_produtos['preco_inicial'] = produto.find_element(By.CLASS_NAME,'jss90').text\n",
    "    except:\n",
    "        dict_produtos['preco_inicial'] = ''\n",
    "    dict_produtos['url_produto'] = produto.find_element(By.TAG_NAME,\"a\").get_attribute('href')\n",
    "    \n",
    "\n",
    "    \n",
    "    df  = pd.concat([pd.DataFrame([dict_produtos]),df])\n",
    "    \n",
    "\n",
    "    "
   ]
  },
  {
   "cell_type": "code",
   "execution_count": null,
   "id": "4b92fa10",
   "metadata": {},
   "outputs": [],
   "source": [
    "#Xpath=//nomedatag[@atributo='valor']"
   ]
  },
  {
   "cell_type": "code",
   "execution_count": 291,
   "id": "ff9d9be1",
   "metadata": {},
   "outputs": [],
   "source": [
    "driver.find_element(By.XPATH,'//button[@aria-label=\"Go to next page\"]').click()"
   ]
  },
  {
   "cell_type": "code",
   "execution_count": 294,
   "id": "a9755995",
   "metadata": {},
   "outputs": [],
   "source": [
    "import pandas as pd \n",
    "\n",
    "dict_produtos = {}\n",
    "df = pd.DataFrame()\n",
    "\n",
    "classe_produtos = driver.find_element(By.CLASS_NAME,'MuiGrid-root.jss37.MuiGrid-container.MuiGrid-spacing-xs-3')\n",
    "produtos = classe_produtos.find_elements(By.CLASS_NAME,'MuiGrid-root.MuiGrid-item.MuiGrid-grid-xs-6.MuiGrid-grid-sm-6.MuiGrid-grid-md-4.MuiGrid-grid-lg-3.MuiGrid-grid-xl-2')\n",
    "for produto in produtos:\n",
    "    \n",
    "    dict_produtos['url_imagem_produto'] = produto.find_element(By.CLASS_NAME,'jss63').get_attribute('src')\n",
    "    try:\n",
    "        dict_produtos['preco_a_vista'] = produto.find_element(By.CLASS_NAME,'jss81').text\n",
    "    except:\n",
    "        dict_produtos['preco_a_vista'] = ''\n",
    "    try:\n",
    "        dict_produtos['preco_inicial'] = produto.find_element(By.CLASS_NAME,'jss90').text\n",
    "    except:\n",
    "        dict_produtos['preco_inicial'] = ''\n",
    "    dict_produtos['url_produto'] = produto.find_element(By.TAG_NAME,\"a\").get_attribute('href')\n",
    "    \n",
    "\n",
    "    \n",
    "    df  = pd.concat([pd.DataFrame([dict_produtos]),df])"
   ]
  },
  {
   "cell_type": "code",
   "execution_count": 295,
   "id": "ef5991ae",
   "metadata": {},
   "outputs": [
    {
     "data": {
      "text/html": [
       "<div>\n",
       "<style scoped>\n",
       "    .dataframe tbody tr th:only-of-type {\n",
       "        vertical-align: middle;\n",
       "    }\n",
       "\n",
       "    .dataframe tbody tr th {\n",
       "        vertical-align: top;\n",
       "    }\n",
       "\n",
       "    .dataframe thead th {\n",
       "        text-align: right;\n",
       "    }\n",
       "</style>\n",
       "<table border=\"1\" class=\"dataframe\">\n",
       "  <thead>\n",
       "    <tr style=\"text-align: right;\">\n",
       "      <th></th>\n",
       "      <th>url_imagem_produto</th>\n",
       "      <th>preco_a_vista</th>\n",
       "      <th>preco_inicial</th>\n",
       "      <th>url_produto</th>\n",
       "    </tr>\n",
       "  </thead>\n",
       "  <tbody>\n",
       "    <tr>\n",
       "      <th>0</th>\n",
       "      <td>https://media.pichau.com.br/media/catalog/prod...</td>\n",
       "      <td></td>\n",
       "      <td></td>\n",
       "      <td>https://www.pichau.com.br/microfone-havit-game...</td>\n",
       "    </tr>\n",
       "    <tr>\n",
       "      <th>0</th>\n",
       "      <td>https://media.pichau.com.br/media/catalog/prod...</td>\n",
       "      <td></td>\n",
       "      <td></td>\n",
       "      <td>https://www.pichau.com.br/microfone-condensado...</td>\n",
       "    </tr>\n",
       "    <tr>\n",
       "      <th>0</th>\n",
       "      <td>https://media.pichau.com.br/media/catalog/prod...</td>\n",
       "      <td></td>\n",
       "      <td></td>\n",
       "      <td>https://www.pichau.com.br/microfone-akg-ultra-...</td>\n",
       "    </tr>\n",
       "    <tr>\n",
       "      <th>0</th>\n",
       "      <td>https://media.pichau.com.br/media/catalog/prod...</td>\n",
       "      <td></td>\n",
       "      <td></td>\n",
       "      <td>https://www.pichau.com.br/microfone-razer-seir...</td>\n",
       "    </tr>\n",
       "    <tr>\n",
       "      <th>0</th>\n",
       "      <td>https://media.pichau.com.br/media/catalog/prod...</td>\n",
       "      <td></td>\n",
       "      <td></td>\n",
       "      <td>https://www.pichau.com.br/microfone-trust-gxt-...</td>\n",
       "    </tr>\n",
       "    <tr>\n",
       "      <th>0</th>\n",
       "      <td>https://media.pichau.com.br/media/catalog/prod...</td>\n",
       "      <td></td>\n",
       "      <td></td>\n",
       "      <td>https://www.pichau.com.br/microfone-condensado...</td>\n",
       "    </tr>\n",
       "    <tr>\n",
       "      <th>0</th>\n",
       "      <td>https://media.pichau.com.br/media/catalog/prod...</td>\n",
       "      <td></td>\n",
       "      <td></td>\n",
       "      <td>https://www.pichau.com.br/microfone-audio-tech...</td>\n",
       "    </tr>\n",
       "    <tr>\n",
       "      <th>0</th>\n",
       "      <td>https://media.pichau.com.br/media/catalog/prod...</td>\n",
       "      <td></td>\n",
       "      <td></td>\n",
       "      <td>https://www.pichau.com.br/microfone-audio-tech...</td>\n",
       "    </tr>\n",
       "    <tr>\n",
       "      <th>0</th>\n",
       "      <td>https://media.pichau.com.br/media/catalog/prod...</td>\n",
       "      <td></td>\n",
       "      <td></td>\n",
       "      <td>https://www.pichau.com.br/microfone-audio-tech...</td>\n",
       "    </tr>\n",
       "    <tr>\n",
       "      <th>0</th>\n",
       "      <td>https://media.pichau.com.br/media/catalog/prod...</td>\n",
       "      <td></td>\n",
       "      <td></td>\n",
       "      <td>https://www.pichau.com.br/microfone-trust-gxt-...</td>\n",
       "    </tr>\n",
       "    <tr>\n",
       "      <th>0</th>\n",
       "      <td>https://media.pichau.com.br/media/catalog/prod...</td>\n",
       "      <td></td>\n",
       "      <td></td>\n",
       "      <td>https://www.pichau.com.br/microfone-audio-tech...</td>\n",
       "    </tr>\n",
       "    <tr>\n",
       "      <th>0</th>\n",
       "      <td>https://media.pichau.com.br/media/catalog/prod...</td>\n",
       "      <td></td>\n",
       "      <td></td>\n",
       "      <td>https://www.pichau.com.br/microfone-audio-tech...</td>\n",
       "    </tr>\n",
       "    <tr>\n",
       "      <th>0</th>\n",
       "      <td>https://media.pichau.com.br/media/catalog/prod...</td>\n",
       "      <td></td>\n",
       "      <td></td>\n",
       "      <td>https://www.pichau.com.br/microfone-audio-tech...</td>\n",
       "    </tr>\n",
       "    <tr>\n",
       "      <th>0</th>\n",
       "      <td>https://media.pichau.com.br/media/catalog/prod...</td>\n",
       "      <td></td>\n",
       "      <td></td>\n",
       "      <td>https://www.pichau.com.br/microfone-audio-tech...</td>\n",
       "    </tr>\n",
       "    <tr>\n",
       "      <th>0</th>\n",
       "      <td>https://media.pichau.com.br/media/catalog/prod...</td>\n",
       "      <td></td>\n",
       "      <td></td>\n",
       "      <td>https://www.pichau.com.br/microfone-condensado...</td>\n",
       "    </tr>\n",
       "    <tr>\n",
       "      <th>0</th>\n",
       "      <td>https://media.pichau.com.br/media/catalog/prod...</td>\n",
       "      <td></td>\n",
       "      <td></td>\n",
       "      <td>https://www.pichau.com.br/microfone-condensado...</td>\n",
       "    </tr>\n",
       "    <tr>\n",
       "      <th>0</th>\n",
       "      <td>https://media.pichau.com.br/media/catalog/prod...</td>\n",
       "      <td></td>\n",
       "      <td></td>\n",
       "      <td>https://www.pichau.com.br/microfone-dinamico-c...</td>\n",
       "    </tr>\n",
       "    <tr>\n",
       "      <th>0</th>\n",
       "      <td>https://media.pichau.com.br/media/catalog/prod...</td>\n",
       "      <td></td>\n",
       "      <td></td>\n",
       "      <td>https://www.pichau.com.br/microfone-logitech-r...</td>\n",
       "    </tr>\n",
       "    <tr>\n",
       "      <th>0</th>\n",
       "      <td>https://media.pichau.com.br/media/catalog/prod...</td>\n",
       "      <td></td>\n",
       "      <td></td>\n",
       "      <td>https://www.pichau.com.br/microfone-condensado...</td>\n",
       "    </tr>\n",
       "    <tr>\n",
       "      <th>0</th>\n",
       "      <td>https://media.pichau.com.br/media/catalog/prod...</td>\n",
       "      <td></td>\n",
       "      <td></td>\n",
       "      <td>https://www.pichau.com.br/microfone-condensado...</td>\n",
       "    </tr>\n",
       "    <tr>\n",
       "      <th>0</th>\n",
       "      <td>https://media.pichau.com.br/media/catalog/prod...</td>\n",
       "      <td></td>\n",
       "      <td></td>\n",
       "      <td>https://www.pichau.com.br/microfone-trust-rudo...</td>\n",
       "    </tr>\n",
       "    <tr>\n",
       "      <th>0</th>\n",
       "      <td>https://media.pichau.com.br/media/catalog/prod...</td>\n",
       "      <td></td>\n",
       "      <td></td>\n",
       "      <td>https://www.pichau.com.br/microfone-cougar-scr...</td>\n",
       "    </tr>\n",
       "    <tr>\n",
       "      <th>0</th>\n",
       "      <td>https://media.pichau.com.br/media/catalog/prod...</td>\n",
       "      <td></td>\n",
       "      <td></td>\n",
       "      <td>https://www.pichau.com.br/microfone-hyperx-qua...</td>\n",
       "    </tr>\n",
       "    <tr>\n",
       "      <th>0</th>\n",
       "      <td>https://media.pichau.com.br/media/catalog/prod...</td>\n",
       "      <td></td>\n",
       "      <td></td>\n",
       "      <td>https://www.pichau.com.br/microfone-hyperx-sol...</td>\n",
       "    </tr>\n",
       "    <tr>\n",
       "      <th>0</th>\n",
       "      <td>https://media.pichau.com.br/media/catalog/prod...</td>\n",
       "      <td></td>\n",
       "      <td></td>\n",
       "      <td>https://www.pichau.com.br/microfone-zalman-mic...</td>\n",
       "    </tr>\n",
       "    <tr>\n",
       "      <th>0</th>\n",
       "      <td>https://media.pichau.com.br/media/catalog/prod...</td>\n",
       "      <td></td>\n",
       "      <td></td>\n",
       "      <td>https://www.pichau.com.br/microfone-de-lapela-...</td>\n",
       "    </tr>\n",
       "    <tr>\n",
       "      <th>0</th>\n",
       "      <td>https://media.pichau.com.br/media/catalog/prod...</td>\n",
       "      <td></td>\n",
       "      <td></td>\n",
       "      <td>https://www.pichau.com.br/microfone-gamer-t-da...</td>\n",
       "    </tr>\n",
       "    <tr>\n",
       "      <th>0</th>\n",
       "      <td>https://media.pichau.com.br/media/catalog/prod...</td>\n",
       "      <td></td>\n",
       "      <td></td>\n",
       "      <td>https://www.pichau.com.br/microfone-audio-tech...</td>\n",
       "    </tr>\n",
       "    <tr>\n",
       "      <th>0</th>\n",
       "      <td>https://media.pichau.com.br/media/catalog/prod...</td>\n",
       "      <td></td>\n",
       "      <td></td>\n",
       "      <td>https://www.pichau.com.br/microfone-pichau-iza...</td>\n",
       "    </tr>\n",
       "    <tr>\n",
       "      <th>0</th>\n",
       "      <td>https://media.pichau.com.br/media/catalog/prod...</td>\n",
       "      <td></td>\n",
       "      <td></td>\n",
       "      <td>https://www.pichau.com.br/microfone-mancer-hor...</td>\n",
       "    </tr>\n",
       "    <tr>\n",
       "      <th>0</th>\n",
       "      <td>https://media.pichau.com.br/media/catalog/prod...</td>\n",
       "      <td></td>\n",
       "      <td></td>\n",
       "      <td>https://www.pichau.com.br/microfone-hyperx-sol...</td>\n",
       "    </tr>\n",
       "    <tr>\n",
       "      <th>0</th>\n",
       "      <td>https://media.pichau.com.br/media/catalog/prod...</td>\n",
       "      <td></td>\n",
       "      <td></td>\n",
       "      <td>https://www.pichau.com.br/microfone-hyperx-duo...</td>\n",
       "    </tr>\n",
       "    <tr>\n",
       "      <th>0</th>\n",
       "      <td>https://media.pichau.com.br/media/catalog/prod...</td>\n",
       "      <td>R$ 153,99</td>\n",
       "      <td>de R$ 211,75 por:</td>\n",
       "      <td>https://www.pichau.com.br/microfone-trust-gxt-...</td>\n",
       "    </tr>\n",
       "    <tr>\n",
       "      <th>0</th>\n",
       "      <td>https://media.pichau.com.br/media/catalog/prod...</td>\n",
       "      <td>R$ 99,99</td>\n",
       "      <td>de R$ 129,40 por:</td>\n",
       "      <td>https://www.pichau.com.br/microfone-trust-made...</td>\n",
       "    </tr>\n",
       "    <tr>\n",
       "      <th>0</th>\n",
       "      <td>https://media.pichau.com.br/media/catalog/prod...</td>\n",
       "      <td>R$ 379,90</td>\n",
       "      <td></td>\n",
       "      <td>https://www.pichau.com.br/microfone-redragon-b...</td>\n",
       "    </tr>\n",
       "    <tr>\n",
       "      <th>0</th>\n",
       "      <td>https://media.pichau.com.br/media/catalog/prod...</td>\n",
       "      <td>R$ 649,90</td>\n",
       "      <td></td>\n",
       "      <td>https://www.pichau.com.br/microfone-razer-seir...</td>\n",
       "    </tr>\n",
       "  </tbody>\n",
       "</table>\n",
       "</div>"
      ],
      "text/plain": [
       "                                  url_imagem_produto preco_a_vista  \\\n",
       "0  https://media.pichau.com.br/media/catalog/prod...                 \n",
       "0  https://media.pichau.com.br/media/catalog/prod...                 \n",
       "0  https://media.pichau.com.br/media/catalog/prod...                 \n",
       "0  https://media.pichau.com.br/media/catalog/prod...                 \n",
       "0  https://media.pichau.com.br/media/catalog/prod...                 \n",
       "0  https://media.pichau.com.br/media/catalog/prod...                 \n",
       "0  https://media.pichau.com.br/media/catalog/prod...                 \n",
       "0  https://media.pichau.com.br/media/catalog/prod...                 \n",
       "0  https://media.pichau.com.br/media/catalog/prod...                 \n",
       "0  https://media.pichau.com.br/media/catalog/prod...                 \n",
       "0  https://media.pichau.com.br/media/catalog/prod...                 \n",
       "0  https://media.pichau.com.br/media/catalog/prod...                 \n",
       "0  https://media.pichau.com.br/media/catalog/prod...                 \n",
       "0  https://media.pichau.com.br/media/catalog/prod...                 \n",
       "0  https://media.pichau.com.br/media/catalog/prod...                 \n",
       "0  https://media.pichau.com.br/media/catalog/prod...                 \n",
       "0  https://media.pichau.com.br/media/catalog/prod...                 \n",
       "0  https://media.pichau.com.br/media/catalog/prod...                 \n",
       "0  https://media.pichau.com.br/media/catalog/prod...                 \n",
       "0  https://media.pichau.com.br/media/catalog/prod...                 \n",
       "0  https://media.pichau.com.br/media/catalog/prod...                 \n",
       "0  https://media.pichau.com.br/media/catalog/prod...                 \n",
       "0  https://media.pichau.com.br/media/catalog/prod...                 \n",
       "0  https://media.pichau.com.br/media/catalog/prod...                 \n",
       "0  https://media.pichau.com.br/media/catalog/prod...                 \n",
       "0  https://media.pichau.com.br/media/catalog/prod...                 \n",
       "0  https://media.pichau.com.br/media/catalog/prod...                 \n",
       "0  https://media.pichau.com.br/media/catalog/prod...                 \n",
       "0  https://media.pichau.com.br/media/catalog/prod...                 \n",
       "0  https://media.pichau.com.br/media/catalog/prod...                 \n",
       "0  https://media.pichau.com.br/media/catalog/prod...                 \n",
       "0  https://media.pichau.com.br/media/catalog/prod...                 \n",
       "0  https://media.pichau.com.br/media/catalog/prod...     R$ 153,99   \n",
       "0  https://media.pichau.com.br/media/catalog/prod...      R$ 99,99   \n",
       "0  https://media.pichau.com.br/media/catalog/prod...     R$ 379,90   \n",
       "0  https://media.pichau.com.br/media/catalog/prod...     R$ 649,90   \n",
       "\n",
       "       preco_inicial                                        url_produto  \n",
       "0                     https://www.pichau.com.br/microfone-havit-game...  \n",
       "0                     https://www.pichau.com.br/microfone-condensado...  \n",
       "0                     https://www.pichau.com.br/microfone-akg-ultra-...  \n",
       "0                     https://www.pichau.com.br/microfone-razer-seir...  \n",
       "0                     https://www.pichau.com.br/microfone-trust-gxt-...  \n",
       "0                     https://www.pichau.com.br/microfone-condensado...  \n",
       "0                     https://www.pichau.com.br/microfone-audio-tech...  \n",
       "0                     https://www.pichau.com.br/microfone-audio-tech...  \n",
       "0                     https://www.pichau.com.br/microfone-audio-tech...  \n",
       "0                     https://www.pichau.com.br/microfone-trust-gxt-...  \n",
       "0                     https://www.pichau.com.br/microfone-audio-tech...  \n",
       "0                     https://www.pichau.com.br/microfone-audio-tech...  \n",
       "0                     https://www.pichau.com.br/microfone-audio-tech...  \n",
       "0                     https://www.pichau.com.br/microfone-audio-tech...  \n",
       "0                     https://www.pichau.com.br/microfone-condensado...  \n",
       "0                     https://www.pichau.com.br/microfone-condensado...  \n",
       "0                     https://www.pichau.com.br/microfone-dinamico-c...  \n",
       "0                     https://www.pichau.com.br/microfone-logitech-r...  \n",
       "0                     https://www.pichau.com.br/microfone-condensado...  \n",
       "0                     https://www.pichau.com.br/microfone-condensado...  \n",
       "0                     https://www.pichau.com.br/microfone-trust-rudo...  \n",
       "0                     https://www.pichau.com.br/microfone-cougar-scr...  \n",
       "0                     https://www.pichau.com.br/microfone-hyperx-qua...  \n",
       "0                     https://www.pichau.com.br/microfone-hyperx-sol...  \n",
       "0                     https://www.pichau.com.br/microfone-zalman-mic...  \n",
       "0                     https://www.pichau.com.br/microfone-de-lapela-...  \n",
       "0                     https://www.pichau.com.br/microfone-gamer-t-da...  \n",
       "0                     https://www.pichau.com.br/microfone-audio-tech...  \n",
       "0                     https://www.pichau.com.br/microfone-pichau-iza...  \n",
       "0                     https://www.pichau.com.br/microfone-mancer-hor...  \n",
       "0                     https://www.pichau.com.br/microfone-hyperx-sol...  \n",
       "0                     https://www.pichau.com.br/microfone-hyperx-duo...  \n",
       "0  de R$ 211,75 por:  https://www.pichau.com.br/microfone-trust-gxt-...  \n",
       "0  de R$ 129,40 por:  https://www.pichau.com.br/microfone-trust-made...  \n",
       "0                     https://www.pichau.com.br/microfone-redragon-b...  \n",
       "0                     https://www.pichau.com.br/microfone-razer-seir...  "
      ]
     },
     "execution_count": 295,
     "metadata": {},
     "output_type": "execute_result"
    }
   ],
   "source": [
    "df"
   ]
  },
  {
   "cell_type": "code",
   "execution_count": null,
   "id": "6f35cbea",
   "metadata": {},
   "outputs": [],
   "source": []
  }
 ],
 "metadata": {
  "kernelspec": {
   "display_name": "Python 3 (ipykernel)",
   "language": "python",
   "name": "python3"
  },
  "language_info": {
   "codemirror_mode": {
    "name": "ipython",
    "version": 3
   },
   "file_extension": ".py",
   "mimetype": "text/x-python",
   "name": "python",
   "nbconvert_exporter": "python",
   "pygments_lexer": "ipython3",
   "version": "3.9.12"
  },
  "toc": {
   "base_numbering": 1,
   "nav_menu": {},
   "number_sections": true,
   "sideBar": true,
   "skip_h1_title": false,
   "title_cell": "Table of Contents",
   "title_sidebar": "Contents",
   "toc_cell": false,
   "toc_position": {
    "height": "calc(100% - 180px)",
    "left": "10px",
    "top": "150px",
    "width": "465.554px"
   },
   "toc_section_display": true,
   "toc_window_display": true
  }
 },
 "nbformat": 4,
 "nbformat_minor": 5
}
