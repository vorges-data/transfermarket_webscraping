{
 "cells": [
  {
   "cell_type": "markdown",
   "id": "a30e2f8a-f49c-4778-bb88-4031ef8d89dc",
   "metadata": {},
   "source": [
    "# Selenium"
   ]
  },
  {
   "cell_type": "code",
   "execution_count": 71,
   "id": "fe114b4e-3632-405c-9aaa-083e391fbb53",
   "metadata": {},
   "outputs": [],
   "source": [
    "from selenium import webdriver\n",
    "from selenium.webdriver.chrome.service import Service\n",
    "from webdriver_manager.chrome import ChromeDriverManager\n",
    "from selenium.webdriver.common.by import By\n",
    "from selenium.webdriver.support.ui import WebDriverWait\n",
    "from selenium.webdriver.support import expected_conditions as EC"
   ]
  },
  {
   "cell_type": "code",
   "execution_count": 72,
   "id": "78846111-d125-420e-8724-740ae4f32040",
   "metadata": {},
   "outputs": [],
   "source": [
    "from selenium.webdriver.chrome.options import Options\n",
    "\n",
    "options = Options()\n",
    "options.add_experimental_option(\"excludeSwitches\", [\"enable-automation\"])\n",
    "options.add_argument(\"--disable-blink-features=AutomationControlled\")\n",
    "options.add_argument(\"user-agent=Mozilla/5.0 (Windows NT 10.0; Win64; x64) AppleWebKit/537.36 (KHTML, like Gecko) Chrome/91.0.4472.124 Safari/537.36\")\n",
    "\n",
    "driver = webdriver.Chrome(service=Service(ChromeDriverManager().install()), options=options)\n",
    "\n",
    "\n"
   ]
  },
  {
   "cell_type": "code",
   "execution_count": 73,
   "id": "5e6b9228-c9f0-49f2-a065-38889bcc7960",
   "metadata": {},
   "outputs": [],
   "source": [
    "driver.get(\"https://www.pichau.com.br/perifericos/webcam\")"
   ]
  },
  {
   "cell_type": "code",
   "execution_count": 110,
   "id": "02affbb9-6e24-4490-8767-acd14b17a716",
   "metadata": {},
   "outputs": [],
   "source": [
    "# Não esquecer de substituir os espaços da classe por ponto final\n",
    "#driver.implicitly_wait(8)\n",
    "classe_produtos = driver.find_element(By.CLASS_NAME, 'MuiGrid-root.jss37.MuiGrid-container.MuiGrid-spacing-xs-3')"
   ]
  },
  {
   "cell_type": "code",
   "execution_count": 111,
   "id": "661d604c-4332-4ecd-a675-3af2125c4cb5",
   "metadata": {},
   "outputs": [
    {
     "data": {
      "text/plain": [
       "<selenium.webdriver.remote.webelement.WebElement (session=\"e7fe5655522f1a09b5f05df1cde3e1dc\", element=\"FB0C101B41D3ED4716A25A18EAC0A618_element_143\")>"
      ]
     },
     "execution_count": 111,
     "metadata": {},
     "output_type": "execute_result"
    }
   ],
   "source": [
    "classe_produtos.find_element(By.CLASS_NAME, 'MuiTypography-root.jss78.jss79.MuiTypography-h6')\n",
    "   "
   ]
  },
  {
   "cell_type": "code",
   "execution_count": 112,
   "id": "1d345273-61e3-4841-911a-de08a0391dd3",
   "metadata": {},
   "outputs": [
    {
     "data": {
      "text/plain": [
       "'Webcam BlueCase BWEBUHD-01, UHD, USB, Preto, BWEBUHD01CASE'"
      ]
     },
     "execution_count": 112,
     "metadata": {},
     "output_type": "execute_result"
    }
   ],
   "source": [
    "classe_produtos.find_element(By.CLASS_NAME, 'MuiTypography-root.jss78.jss79.MuiTypography-h6').text"
   ]
  },
  {
   "cell_type": "code",
   "execution_count": 113,
   "id": "161da26b-e66b-45f6-bb1f-46b48bafa570",
   "metadata": {},
   "outputs": [
    {
     "data": {
      "text/plain": [
       "[<selenium.webdriver.remote.webelement.WebElement (session=\"e7fe5655522f1a09b5f05df1cde3e1dc\", element=\"FB0C101B41D3ED4716A25A18EAC0A618_element_143\")>,\n",
       " <selenium.webdriver.remote.webelement.WebElement (session=\"e7fe5655522f1a09b5f05df1cde3e1dc\", element=\"FB0C101B41D3ED4716A25A18EAC0A618_element_144\")>,\n",
       " <selenium.webdriver.remote.webelement.WebElement (session=\"e7fe5655522f1a09b5f05df1cde3e1dc\", element=\"FB0C101B41D3ED4716A25A18EAC0A618_element_145\")>,\n",
       " <selenium.webdriver.remote.webelement.WebElement (session=\"e7fe5655522f1a09b5f05df1cde3e1dc\", element=\"FB0C101B41D3ED4716A25A18EAC0A618_element_146\")>,\n",
       " <selenium.webdriver.remote.webelement.WebElement (session=\"e7fe5655522f1a09b5f05df1cde3e1dc\", element=\"FB0C101B41D3ED4716A25A18EAC0A618_element_147\")>,\n",
       " <selenium.webdriver.remote.webelement.WebElement (session=\"e7fe5655522f1a09b5f05df1cde3e1dc\", element=\"FB0C101B41D3ED4716A25A18EAC0A618_element_148\")>,\n",
       " <selenium.webdriver.remote.webelement.WebElement (session=\"e7fe5655522f1a09b5f05df1cde3e1dc\", element=\"FB0C101B41D3ED4716A25A18EAC0A618_element_149\")>,\n",
       " <selenium.webdriver.remote.webelement.WebElement (session=\"e7fe5655522f1a09b5f05df1cde3e1dc\", element=\"FB0C101B41D3ED4716A25A18EAC0A618_element_150\")>,\n",
       " <selenium.webdriver.remote.webelement.WebElement (session=\"e7fe5655522f1a09b5f05df1cde3e1dc\", element=\"FB0C101B41D3ED4716A25A18EAC0A618_element_151\")>,\n",
       " <selenium.webdriver.remote.webelement.WebElement (session=\"e7fe5655522f1a09b5f05df1cde3e1dc\", element=\"FB0C101B41D3ED4716A25A18EAC0A618_element_152\")>,\n",
       " <selenium.webdriver.remote.webelement.WebElement (session=\"e7fe5655522f1a09b5f05df1cde3e1dc\", element=\"FB0C101B41D3ED4716A25A18EAC0A618_element_153\")>,\n",
       " <selenium.webdriver.remote.webelement.WebElement (session=\"e7fe5655522f1a09b5f05df1cde3e1dc\", element=\"FB0C101B41D3ED4716A25A18EAC0A618_element_154\")>,\n",
       " <selenium.webdriver.remote.webelement.WebElement (session=\"e7fe5655522f1a09b5f05df1cde3e1dc\", element=\"FB0C101B41D3ED4716A25A18EAC0A618_element_155\")>,\n",
       " <selenium.webdriver.remote.webelement.WebElement (session=\"e7fe5655522f1a09b5f05df1cde3e1dc\", element=\"FB0C101B41D3ED4716A25A18EAC0A618_element_156\")>,\n",
       " <selenium.webdriver.remote.webelement.WebElement (session=\"e7fe5655522f1a09b5f05df1cde3e1dc\", element=\"FB0C101B41D3ED4716A25A18EAC0A618_element_157\")>,\n",
       " <selenium.webdriver.remote.webelement.WebElement (session=\"e7fe5655522f1a09b5f05df1cde3e1dc\", element=\"FB0C101B41D3ED4716A25A18EAC0A618_element_158\")>,\n",
       " <selenium.webdriver.remote.webelement.WebElement (session=\"e7fe5655522f1a09b5f05df1cde3e1dc\", element=\"FB0C101B41D3ED4716A25A18EAC0A618_element_159\")>,\n",
       " <selenium.webdriver.remote.webelement.WebElement (session=\"e7fe5655522f1a09b5f05df1cde3e1dc\", element=\"FB0C101B41D3ED4716A25A18EAC0A618_element_160\")>,\n",
       " <selenium.webdriver.remote.webelement.WebElement (session=\"e7fe5655522f1a09b5f05df1cde3e1dc\", element=\"FB0C101B41D3ED4716A25A18EAC0A618_element_161\")>,\n",
       " <selenium.webdriver.remote.webelement.WebElement (session=\"e7fe5655522f1a09b5f05df1cde3e1dc\", element=\"FB0C101B41D3ED4716A25A18EAC0A618_element_162\")>,\n",
       " <selenium.webdriver.remote.webelement.WebElement (session=\"e7fe5655522f1a09b5f05df1cde3e1dc\", element=\"FB0C101B41D3ED4716A25A18EAC0A618_element_163\")>,\n",
       " <selenium.webdriver.remote.webelement.WebElement (session=\"e7fe5655522f1a09b5f05df1cde3e1dc\", element=\"FB0C101B41D3ED4716A25A18EAC0A618_element_164\")>,\n",
       " <selenium.webdriver.remote.webelement.WebElement (session=\"e7fe5655522f1a09b5f05df1cde3e1dc\", element=\"FB0C101B41D3ED4716A25A18EAC0A618_element_165\")>,\n",
       " <selenium.webdriver.remote.webelement.WebElement (session=\"e7fe5655522f1a09b5f05df1cde3e1dc\", element=\"FB0C101B41D3ED4716A25A18EAC0A618_element_166\")>,\n",
       " <selenium.webdriver.remote.webelement.WebElement (session=\"e7fe5655522f1a09b5f05df1cde3e1dc\", element=\"FB0C101B41D3ED4716A25A18EAC0A618_element_167\")>,\n",
       " <selenium.webdriver.remote.webelement.WebElement (session=\"e7fe5655522f1a09b5f05df1cde3e1dc\", element=\"FB0C101B41D3ED4716A25A18EAC0A618_element_168\")>,\n",
       " <selenium.webdriver.remote.webelement.WebElement (session=\"e7fe5655522f1a09b5f05df1cde3e1dc\", element=\"FB0C101B41D3ED4716A25A18EAC0A618_element_169\")>,\n",
       " <selenium.webdriver.remote.webelement.WebElement (session=\"e7fe5655522f1a09b5f05df1cde3e1dc\", element=\"FB0C101B41D3ED4716A25A18EAC0A618_element_170\")>,\n",
       " <selenium.webdriver.remote.webelement.WebElement (session=\"e7fe5655522f1a09b5f05df1cde3e1dc\", element=\"FB0C101B41D3ED4716A25A18EAC0A618_element_171\")>,\n",
       " <selenium.webdriver.remote.webelement.WebElement (session=\"e7fe5655522f1a09b5f05df1cde3e1dc\", element=\"FB0C101B41D3ED4716A25A18EAC0A618_element_172\")>,\n",
       " <selenium.webdriver.remote.webelement.WebElement (session=\"e7fe5655522f1a09b5f05df1cde3e1dc\", element=\"FB0C101B41D3ED4716A25A18EAC0A618_element_173\")>,\n",
       " <selenium.webdriver.remote.webelement.WebElement (session=\"e7fe5655522f1a09b5f05df1cde3e1dc\", element=\"FB0C101B41D3ED4716A25A18EAC0A618_element_174\")>,\n",
       " <selenium.webdriver.remote.webelement.WebElement (session=\"e7fe5655522f1a09b5f05df1cde3e1dc\", element=\"FB0C101B41D3ED4716A25A18EAC0A618_element_175\")>,\n",
       " <selenium.webdriver.remote.webelement.WebElement (session=\"e7fe5655522f1a09b5f05df1cde3e1dc\", element=\"FB0C101B41D3ED4716A25A18EAC0A618_element_176\")>,\n",
       " <selenium.webdriver.remote.webelement.WebElement (session=\"e7fe5655522f1a09b5f05df1cde3e1dc\", element=\"FB0C101B41D3ED4716A25A18EAC0A618_element_177\")>,\n",
       " <selenium.webdriver.remote.webelement.WebElement (session=\"e7fe5655522f1a09b5f05df1cde3e1dc\", element=\"FB0C101B41D3ED4716A25A18EAC0A618_element_178\")>]"
      ]
     },
     "execution_count": 113,
     "metadata": {},
     "output_type": "execute_result"
    }
   ],
   "source": [
    "# Outros elementos\n",
    "classe_produtos.find_elements(By.CLASS_NAME, 'MuiTypography-root.jss78.jss79.MuiTypography-h6')"
   ]
  },
  {
   "cell_type": "markdown",
   "id": "faff9e7c-bf5e-432b-88a4-869bce986118",
   "metadata": {},
   "source": [
    "### Nome do Produto"
   ]
  },
  {
   "cell_type": "code",
   "execution_count": 90,
   "id": "630f51f7-a97e-476d-911c-ba9e270c5643",
   "metadata": {},
   "outputs": [
    {
     "name": "stdout",
     "output_type": "stream",
     "text": [
      "Webcam BlueCase BWEBUHD-01, UHD, USB, Preto, BWEBUHD01CASE\n",
      "Webcam Rapoo C260, FHD 1080p, USB, Microfone Integrado, RA021\n",
      "Webcam Microsoft, 1080p, USB, Preto, 8L3-00001\n",
      "Webcam Razer Kiyo X, FHD 1080p, USB, Preta, RZ19-04170100-R3U1\n",
      "Webcam Logitech Brio 300, FHD 1080p, USB-C, Rosa, 960-001446\n",
      "Webcam Logitech Brio 300, FHD 1080p, USB-C, Branco, 960-001440\n",
      "Webcam Logitech Brio 300, FHD 1080p, USB-C, Preto, 960-001413\n",
      "Camera AIO Cougar Cyclops, RGB, Com Mic, USB-C, Preto, CGR-CAM3-RWB-01\n",
      "Webcam Streamplify CAM, 1080p, 60 FPS, USB, Preta, CAM-FHD-2M60-BK\n",
      "Webcam Logitech Brio 500, FHD 1080p, USB-C, Branca, 960-001426\n",
      "Webcam Logitech Brio 500, FHD 1080p, USB-C, Rose, 960-001418\n",
      "Webcam PcYes Raza, HD 720P, Preto, HD-02-35464\n",
      "Webcam Pichau Indus, 2K, USB, Preto, PG-INDUS-BL01\n",
      "Webcam Pichau Volans, 1080p, USB, Preto, PG-VLNS-BL01\n",
      "Webcam Mancer Koldun, 1080p, USB, RGB, MCR-KLDN-RGB\n",
      "Webcam TGT HMS70, 720p, USB, Preto, TGT-HMS70-BL01\n",
      "Webcam Multi WC051, 480p, USB, Preta, WC051\n",
      "Webcam Trust Taxon, QHD 2K, USB, Preta, T24228\n",
      "Webcam Trust Spotlight Pro Com Led e Microfone Embutido Preto, 16428\n",
      "Webcam Logitech Brio 4K Pro HDR Rightlight 3, 960-001178\n",
      "Webcam Logitech StreamCam Plus Full HD 1080p Preta, 960-001280\n",
      "WebCam Trust Tyro Full HD 1080P Preto, T23637\n",
      "Webcam Razer Kiyo com Iluminação, RZ19-02320100-R3U1\n",
      "Webcam Logitech C925E 1080p Preto, 960-001075\n",
      "Webcam Razer Stargazer, RZ20-01800100-R3U1\n",
      "Webcam Microsoft WTB-00004 Lifecam NX-3000 1.3MP com Microfone - Box\n",
      "Webcam Multi Night Vision USB 2.0 WC045 - BOX\n",
      "Webcam Force Line 5 Mega Pixel com Microfone e Corpo Flexível Black, 5455 - Box\n",
      "WebCam A4Tech 16.0Megapixel C/ Microfone PK-810G\n",
      "WebCam A4Tech 16MP Full HD 1080p c/ Microfone Preta/Prata, PK-920H\n",
      "Webcam NewLink Magnetic USB, WC203 - BOX\n",
      "Webcam Logitech C920e, Full HD, 1080p 30FPS, USB, Preta, 960-001401\n",
      "Webcam Redragon Streaming Fobos, HD 720p, USB, GW600-1\n",
      "WebCam Rapoo C200, HD 720p, USB, RA015\n",
      "Webcam Logitech Brio 505, FHD 1080p, USB-C, Grafite, 960-001515\n",
      "Webcam Creative Live CAM Sync V2, FHD, 1080P, USB, Preto, 06VF088000002\n"
     ]
    }
   ],
   "source": [
    "# Looping\n",
    "driver.implicitly_wait(10)\n",
    "for nome_produto in classe_produtos.find_elements(By.CLASS_NAME, 'MuiTypography-root.jss78.jss79.MuiTypography-h6'):\n",
    "    print(nome_produto.text)"
   ]
  },
  {
   "cell_type": "markdown",
   "id": "ebdf0b96-29df-4d72-9fbc-9a56e59ee18a",
   "metadata": {},
   "source": [
    "### Preço Inicial"
   ]
  },
  {
   "cell_type": "code",
   "execution_count": 91,
   "id": "640e1162-7538-46bd-ade0-c4587687af79",
   "metadata": {},
   "outputs": [
    {
     "name": "stdout",
     "output_type": "stream",
     "text": [
      "de R$ 152,93 por:\n",
      "de R$ 199,99 por:\n",
      "de R$ 435,18 por:\n",
      "de R$ 1.129,29 por:\n",
      "de R$ 505,76 por:\n",
      "de R$ 505,76 por:\n",
      "de R$ 505,76 por:\n",
      "de R$ 647,05 por:\n",
      "de R$ 858,71 por:\n",
      "de R$ 858,71 por:\n",
      "de R$ 152,82 por:\n",
      "de R$ 588,12 por:\n",
      "de R$ 423,38 por:\n",
      "de R$ 482,24 por:\n",
      "de R$ 152,82 por:\n",
      "de R$ 42,34 por:\n",
      "de R$ 117,64 por:\n",
      "de R$ 1.764,59 por:\n",
      "de R$ 1.576,35 por:\n",
      "de R$ 188,22 por:\n",
      "de R$ 1.164,69 por:\n",
      "de R$ 602,15 por:\n"
     ]
    }
   ],
   "source": [
    "driver.implicitly_wait(10)\n",
    "for preco_inicial in classe_produtos.find_elements(By.CLASS_NAME, 'jss90'):\n",
    "    print(preco_inicial.text)"
   ]
  },
  {
   "cell_type": "markdown",
   "id": "57af3fb0-ceb8-42d8-96a4-0ed8619a47bf",
   "metadata": {},
   "source": [
    "### Preço com desconto (à vista)"
   ]
  },
  {
   "cell_type": "code",
   "execution_count": 92,
   "id": "e78eddd8-6d69-4c33-9bd2-7510149ad202",
   "metadata": {},
   "outputs": [
    {
     "name": "stdout",
     "output_type": "stream",
     "text": [
      "R$ 109,99\n",
      "R$ 149,99\n",
      "R$ 309,99\n",
      "R$ 899,99\n",
      "R$ 289,99\n",
      "R$ 289,99\n",
      "R$ 289,99\n",
      "R$ 1.499,90\n",
      "R$ 429,99\n",
      "R$ 549,99\n",
      "R$ 549,99\n",
      "R$ 109,99\n",
      "R$ 324,99\n",
      "R$ 191,99\n",
      "R$ 289,99\n",
      "R$ 69,99\n",
      "R$ 27,99\n",
      "R$ 369,99\n",
      "R$ 69,99\n",
      "R$ 1.299,99\n",
      "R$ 899,99\n",
      "R$ 139,99\n",
      "R$ 849,99\n",
      "R$ 399,99\n"
     ]
    }
   ],
   "source": [
    "driver.implicitly_wait(10)\n",
    "for preco_desconto in classe_produtos.find_elements(By.CLASS_NAME, 'jss81'):\n",
    "    print(preco_desconto.text)"
   ]
  },
  {
   "cell_type": "markdown",
   "id": "2b9ec187-fab7-4444-9d6b-d866de3ba624",
   "metadata": {},
   "source": [
    "### Preço sem desconto"
   ]
  },
  {
   "cell_type": "code",
   "execution_count": 93,
   "id": "240ad361-616c-4eb1-9aa7-53eb92fdecb2",
   "metadata": {},
   "outputs": [
    {
     "name": "stdout",
     "output_type": "stream",
     "text": [
      "R$ 129,40\n",
      "R$ 176,46\n",
      "R$ 364,69\n",
      "R$ 1.058,81\n",
      "R$ 341,17\n",
      "R$ 341,16\n",
      "R$ 341,16\n",
      "R$ 1.764,59\n",
      "R$ 505,87\n",
      "R$ 647,05\n",
      "R$ 647,05\n",
      "R$ 129,40\n",
      "R$ 382,34\n",
      "R$ 225,87\n",
      "R$ 341,17\n",
      "R$ 82,34\n",
      "R$ 32,93\n",
      "R$ 435,28\n",
      "R$ 82,34\n",
      "R$ 1.529,40\n",
      "R$ 1.058,81\n",
      "R$ 164,69\n",
      "R$ 999,99\n",
      "R$ 470,58\n"
     ]
    }
   ],
   "source": [
    "driver.implicitly_wait(10)\n",
    "for preco_sem_desconto in classe_produtos.find_elements(By.CLASS_NAME, 'jss108'):\n",
    "    print(preco_sem_desconto.text)"
   ]
  },
  {
   "cell_type": "markdown",
   "id": "7aed6393-d812-4712-bfe0-389088677fa8",
   "metadata": {},
   "source": [
    "### Parcelamento (texto)"
   ]
  },
  {
   "cell_type": "code",
   "execution_count": 94,
   "id": "255f33a1-2c67-448b-adb5-bb45f7f3162e",
   "metadata": {},
   "outputs": [
    {
     "name": "stdout",
     "output_type": "stream",
     "text": [
      "em até 10x de R$ 12,94\n",
      "sem juros no cartão\n",
      "em até 12x de R$ 14,71\n",
      "sem juros no cartão\n",
      "em até 12x de R$ 30,39\n",
      "sem juros no cartão\n",
      "em até 12x de R$ 88,23\n",
      "sem juros no cartão\n",
      "em até 12x de R$ 28,43\n",
      "sem juros no cartão\n",
      "em até 12x de R$ 28,43\n",
      "sem juros no cartão\n",
      "em até 12x de R$ 28,43\n",
      "sem juros no cartão\n",
      "em até 12x de R$ 147,05\n",
      "sem juros no cartão\n",
      "em até 12x de R$ 42,16\n",
      "sem juros no cartão\n",
      "em até 12x de R$ 53,92\n",
      "sem juros no cartão\n",
      "em até 12x de R$ 53,92\n",
      "sem juros no cartão\n",
      "em até 10x de R$ 12,94\n",
      "sem juros no cartão\n",
      "em até 12x de R$ 31,86\n",
      "sem juros no cartão\n",
      "em até 12x de R$ 18,82\n",
      "sem juros no cartão\n",
      "em até 12x de R$ 28,43\n",
      "sem juros no cartão\n",
      "em até 6x de R$ 13,72\n",
      "sem juros no cartão\n",
      "em até 2x de R$ 16,47\n",
      "sem juros no cartão\n",
      "em até 12x de R$ 36,27\n",
      "sem juros no cartão\n",
      "em até 6x de R$ 13,72\n",
      "sem juros no cartão\n",
      "em até 12x de R$ 127,45\n",
      "sem juros no cartão\n",
      "em até 12x de R$ 88,23\n",
      "sem juros no cartão\n",
      "em até 12x de R$ 13,72\n",
      "sem juros no cartão\n",
      "em até 12x de R$ 83,33\n",
      "sem juros no cartão\n",
      "em até 12x de R$ 39,22\n",
      "sem juros no cartão\n"
     ]
    }
   ],
   "source": [
    "driver.implicitly_wait(10)\n",
    "for parcela in classe_produtos.find_elements(By.CLASS_NAME, 'jss110.jss111'):\n",
    "    print(parcela.text)"
   ]
  },
  {
   "cell_type": "markdown",
   "id": "5c9d50b0-a057-4e49-b6b8-7ef9ac56abdb",
   "metadata": {},
   "source": [
    "### Imagem do Produto"
   ]
  },
  {
   "cell_type": "code",
   "execution_count": 126,
   "id": "60d7c9f1-80ed-45f1-aa0a-383d29b77ff3",
   "metadata": {},
   "outputs": [
    {
     "name": "stdout",
     "output_type": "stream",
     "text": [
      "https://media.pichau.com.br/media/catalog/product/cache/ef72d3c27864510e5d4c0ce69bade259/b/w/bwebuhd01case1.jpg\n",
      "https://media.pichau.com.br/media/catalog/product/cache/ef72d3c27864510e5d4c0ce69bade259/r/a/ra0213.jpg\n",
      "https://media.pichau.com.br/media/catalog/product/cache/ef72d3c27864510e5d4c0ce69bade259/8/l/8l3-00001.jpg\n"
     ]
    }
   ],
   "source": [
    "driver.implicitly_wait(10)\n",
    "for img in classe_produtos.find_elements(By.CLASS_NAME, 'jss63'):\n",
    "    print(img.get_attribute('src'))"
   ]
  },
  {
   "cell_type": "markdown",
   "id": "e2c31857-ae6c-42f5-9a37-d4a1568152ca",
   "metadata": {},
   "source": [
    "### Capturando todos os dados de uma vez"
   ]
  },
  {
   "cell_type": "code",
   "execution_count": 74,
   "id": "c0f8ebb3-dc87-45cb-80d6-c326e21c000b",
   "metadata": {},
   "outputs": [],
   "source": [
    "#driver.implicitly_wait(8)\n",
    "classe_produtos = driver.find_element(By.CLASS_NAME, 'MuiGrid-root.jss37.MuiGrid-container.MuiGrid-spacing-xs-3')"
   ]
  },
  {
   "cell_type": "code",
   "execution_count": 115,
   "id": "49da70da-c48c-453b-8122-7f6f32d2ffc3",
   "metadata": {},
   "outputs": [],
   "source": [
    "produtos = classe_produtos.find_elements(By.CLASS_NAME,'MuiGrid-root.MuiGrid-item.MuiGrid-grid-xs-6.MuiGrid-grid-sm-6.MuiGrid-grid-md-4.MuiGrid-grid-lg-3.MuiGrid-grid-xl-2')"
   ]
  },
  {
   "cell_type": "code",
   "execution_count": 128,
   "id": "960ccbf9-e783-4aa1-b871-ced416411803",
   "metadata": {},
   "outputs": [
    {
     "name": "stdout",
     "output_type": "stream",
     "text": [
      "https://media.pichau.com.br/media/catalog/product/cache/ef72d3c27864510e5d4c0ce69bade259/b/w/bwebuhd01case1.jpg\n",
      "https://media.pichau.com.br/media/catalog/product/cache/ef72d3c27864510e5d4c0ce69bade259/r/a/ra0213.jpg\n",
      "https://media.pichau.com.br/media/catalog/product/cache/ef72d3c27864510e5d4c0ce69bade259/8/l/8l3-00001.jpg\n"
     ]
    },
    {
     "ename": "NoSuchElementException",
     "evalue": "Message: no such element: Unable to locate element: {\"method\":\"css selector\",\"selector\":\".jss63\"}\n  (Session info: chrome=121.0.6167.85); For documentation on this error, please visit: https://www.selenium.dev/documentation/webdriver/troubleshooting/errors#no-such-element-exception\nStacktrace:\n#0 0x563272c0dd93 <unknown>\n#1 0x5632728f1337 <unknown>\n#2 0x56327293cd60 <unknown>\n#3 0x56327293ce51 <unknown>\n#4 0x563272931156 <unknown>\n#5 0x56327295f46d <unknown>\n#6 0x563272931028 <unknown>\n#7 0x56327295f60e <unknown>\n#8 0x56327297e12d <unknown>\n#9 0x56327295f1e3 <unknown>\n#10 0x56327292f135 <unknown>\n#11 0x56327293013e <unknown>\n#12 0x563272bd1e4b <unknown>\n#13 0x563272bd5dfa <unknown>\n#14 0x563272bbe6d5 <unknown>\n#15 0x563272bd6a6f <unknown>\n#16 0x563272ba269f <unknown>\n#17 0x563272bfb098 <unknown>\n#18 0x563272bfb262 <unknown>\n#19 0x563272c0cf34 <unknown>\n#20 0x7f2df0694ac3 <unknown>\n",
     "output_type": "error",
     "traceback": [
      "\u001b[0;31m---------------------------------------------------------------------------\u001b[0m",
      "\u001b[0;31mNoSuchElementException\u001b[0m                    Traceback (most recent call last)",
      "Cell \u001b[0;32mIn[128], line 5\u001b[0m\n\u001b[1;32m      1\u001b[0m dict_produtos \u001b[38;5;241m=\u001b[39m {}\n\u001b[1;32m      2\u001b[0m \u001b[38;5;28;01mfor\u001b[39;00m produto \u001b[38;5;129;01min\u001b[39;00m produtos:\n\u001b[1;32m      3\u001b[0m \n\u001b[1;32m      4\u001b[0m     \u001b[38;5;66;03m#imagem\u001b[39;00m\n\u001b[0;32m----> 5\u001b[0m     dict_produtos[\u001b[38;5;124m'\u001b[39m\u001b[38;5;124murl_imagem\u001b[39m\u001b[38;5;124m'\u001b[39m] \u001b[38;5;241m=\u001b[39m \u001b[38;5;28mprint\u001b[39m(\u001b[43mproduto\u001b[49m\u001b[38;5;241;43m.\u001b[39;49m\u001b[43mfind_element\u001b[49m\u001b[43m(\u001b[49m\u001b[43mBy\u001b[49m\u001b[38;5;241;43m.\u001b[39;49m\u001b[43mCLASS_NAME\u001b[49m\u001b[43m,\u001b[49m\u001b[38;5;124;43m'\u001b[39;49m\u001b[38;5;124;43mjss63\u001b[39;49m\u001b[38;5;124;43m'\u001b[39;49m\u001b[43m)\u001b[49m\u001b[38;5;241m.\u001b[39mget_attribute(\u001b[38;5;124m'\u001b[39m\u001b[38;5;124msrc\u001b[39m\u001b[38;5;124m'\u001b[39m))\n\u001b[1;32m      7\u001b[0m     \u001b[38;5;66;03m#nome_produto\u001b[39;00m\n\u001b[1;32m      8\u001b[0m     dict_produtos[\u001b[38;5;124m'\u001b[39m\u001b[38;5;124mnome_produto\u001b[39m\u001b[38;5;124m'\u001b[39m] \u001b[38;5;241m=\u001b[39m produto\u001b[38;5;241m.\u001b[39mfind_element(By\u001b[38;5;241m.\u001b[39mCLASS_NAME, \u001b[38;5;124m'\u001b[39m\u001b[38;5;124mMuiTypography-root.jss78.jss79.MuiTypography-h6\u001b[39m\u001b[38;5;124m'\u001b[39m)\u001b[38;5;241m.\u001b[39mtext\n",
      "File \u001b[0;32m~/repos/pod_academy/web_scraping/pod_academy_webscraping/lib/python3.10/site-packages/selenium/webdriver/remote/webelement.py:417\u001b[0m, in \u001b[0;36mWebElement.find_element\u001b[0;34m(self, by, value)\u001b[0m\n\u001b[1;32m    414\u001b[0m     by \u001b[38;5;241m=\u001b[39m By\u001b[38;5;241m.\u001b[39mCSS_SELECTOR\n\u001b[1;32m    415\u001b[0m     value \u001b[38;5;241m=\u001b[39m \u001b[38;5;124mf\u001b[39m\u001b[38;5;124m'\u001b[39m\u001b[38;5;124m[name=\u001b[39m\u001b[38;5;124m\"\u001b[39m\u001b[38;5;132;01m{\u001b[39;00mvalue\u001b[38;5;132;01m}\u001b[39;00m\u001b[38;5;124m\"\u001b[39m\u001b[38;5;124m]\u001b[39m\u001b[38;5;124m'\u001b[39m\n\u001b[0;32m--> 417\u001b[0m \u001b[38;5;28;01mreturn\u001b[39;00m \u001b[38;5;28;43mself\u001b[39;49m\u001b[38;5;241;43m.\u001b[39;49m\u001b[43m_execute\u001b[49m\u001b[43m(\u001b[49m\u001b[43mCommand\u001b[49m\u001b[38;5;241;43m.\u001b[39;49m\u001b[43mFIND_CHILD_ELEMENT\u001b[49m\u001b[43m,\u001b[49m\u001b[43m \u001b[49m\u001b[43m{\u001b[49m\u001b[38;5;124;43m\"\u001b[39;49m\u001b[38;5;124;43musing\u001b[39;49m\u001b[38;5;124;43m\"\u001b[39;49m\u001b[43m:\u001b[49m\u001b[43m \u001b[49m\u001b[43mby\u001b[49m\u001b[43m,\u001b[49m\u001b[43m \u001b[49m\u001b[38;5;124;43m\"\u001b[39;49m\u001b[38;5;124;43mvalue\u001b[39;49m\u001b[38;5;124;43m\"\u001b[39;49m\u001b[43m:\u001b[49m\u001b[43m \u001b[49m\u001b[43mvalue\u001b[49m\u001b[43m}\u001b[49m\u001b[43m)\u001b[49m[\u001b[38;5;124m\"\u001b[39m\u001b[38;5;124mvalue\u001b[39m\u001b[38;5;124m\"\u001b[39m]\n",
      "File \u001b[0;32m~/repos/pod_academy/web_scraping/pod_academy_webscraping/lib/python3.10/site-packages/selenium/webdriver/remote/webelement.py:395\u001b[0m, in \u001b[0;36mWebElement._execute\u001b[0;34m(self, command, params)\u001b[0m\n\u001b[1;32m    393\u001b[0m     params \u001b[38;5;241m=\u001b[39m {}\n\u001b[1;32m    394\u001b[0m params[\u001b[38;5;124m\"\u001b[39m\u001b[38;5;124mid\u001b[39m\u001b[38;5;124m\"\u001b[39m] \u001b[38;5;241m=\u001b[39m \u001b[38;5;28mself\u001b[39m\u001b[38;5;241m.\u001b[39m_id\n\u001b[0;32m--> 395\u001b[0m \u001b[38;5;28;01mreturn\u001b[39;00m \u001b[38;5;28;43mself\u001b[39;49m\u001b[38;5;241;43m.\u001b[39;49m\u001b[43m_parent\u001b[49m\u001b[38;5;241;43m.\u001b[39;49m\u001b[43mexecute\u001b[49m\u001b[43m(\u001b[49m\u001b[43mcommand\u001b[49m\u001b[43m,\u001b[49m\u001b[43m \u001b[49m\u001b[43mparams\u001b[49m\u001b[43m)\u001b[49m\n",
      "File \u001b[0;32m~/repos/pod_academy/web_scraping/pod_academy_webscraping/lib/python3.10/site-packages/selenium/webdriver/remote/webdriver.py:347\u001b[0m, in \u001b[0;36mWebDriver.execute\u001b[0;34m(self, driver_command, params)\u001b[0m\n\u001b[1;32m    345\u001b[0m response \u001b[38;5;241m=\u001b[39m \u001b[38;5;28mself\u001b[39m\u001b[38;5;241m.\u001b[39mcommand_executor\u001b[38;5;241m.\u001b[39mexecute(driver_command, params)\n\u001b[1;32m    346\u001b[0m \u001b[38;5;28;01mif\u001b[39;00m response:\n\u001b[0;32m--> 347\u001b[0m     \u001b[38;5;28;43mself\u001b[39;49m\u001b[38;5;241;43m.\u001b[39;49m\u001b[43merror_handler\u001b[49m\u001b[38;5;241;43m.\u001b[39;49m\u001b[43mcheck_response\u001b[49m\u001b[43m(\u001b[49m\u001b[43mresponse\u001b[49m\u001b[43m)\u001b[49m\n\u001b[1;32m    348\u001b[0m     response[\u001b[38;5;124m\"\u001b[39m\u001b[38;5;124mvalue\u001b[39m\u001b[38;5;124m\"\u001b[39m] \u001b[38;5;241m=\u001b[39m \u001b[38;5;28mself\u001b[39m\u001b[38;5;241m.\u001b[39m_unwrap_value(response\u001b[38;5;241m.\u001b[39mget(\u001b[38;5;124m\"\u001b[39m\u001b[38;5;124mvalue\u001b[39m\u001b[38;5;124m\"\u001b[39m, \u001b[38;5;28;01mNone\u001b[39;00m))\n\u001b[1;32m    349\u001b[0m     \u001b[38;5;28;01mreturn\u001b[39;00m response\n",
      "File \u001b[0;32m~/repos/pod_academy/web_scraping/pod_academy_webscraping/lib/python3.10/site-packages/selenium/webdriver/remote/errorhandler.py:229\u001b[0m, in \u001b[0;36mErrorHandler.check_response\u001b[0;34m(self, response)\u001b[0m\n\u001b[1;32m    227\u001b[0m         alert_text \u001b[38;5;241m=\u001b[39m value[\u001b[38;5;124m\"\u001b[39m\u001b[38;5;124malert\u001b[39m\u001b[38;5;124m\"\u001b[39m]\u001b[38;5;241m.\u001b[39mget(\u001b[38;5;124m\"\u001b[39m\u001b[38;5;124mtext\u001b[39m\u001b[38;5;124m\"\u001b[39m)\n\u001b[1;32m    228\u001b[0m     \u001b[38;5;28;01mraise\u001b[39;00m exception_class(message, screen, stacktrace, alert_text)  \u001b[38;5;66;03m# type: ignore[call-arg]  # mypy is not smart enough here\u001b[39;00m\n\u001b[0;32m--> 229\u001b[0m \u001b[38;5;28;01mraise\u001b[39;00m exception_class(message, screen, stacktrace)\n",
      "\u001b[0;31mNoSuchElementException\u001b[0m: Message: no such element: Unable to locate element: {\"method\":\"css selector\",\"selector\":\".jss63\"}\n  (Session info: chrome=121.0.6167.85); For documentation on this error, please visit: https://www.selenium.dev/documentation/webdriver/troubleshooting/errors#no-such-element-exception\nStacktrace:\n#0 0x563272c0dd93 <unknown>\n#1 0x5632728f1337 <unknown>\n#2 0x56327293cd60 <unknown>\n#3 0x56327293ce51 <unknown>\n#4 0x563272931156 <unknown>\n#5 0x56327295f46d <unknown>\n#6 0x563272931028 <unknown>\n#7 0x56327295f60e <unknown>\n#8 0x56327297e12d <unknown>\n#9 0x56327295f1e3 <unknown>\n#10 0x56327292f135 <unknown>\n#11 0x56327293013e <unknown>\n#12 0x563272bd1e4b <unknown>\n#13 0x563272bd5dfa <unknown>\n#14 0x563272bbe6d5 <unknown>\n#15 0x563272bd6a6f <unknown>\n#16 0x563272ba269f <unknown>\n#17 0x563272bfb098 <unknown>\n#18 0x563272bfb262 <unknown>\n#19 0x563272c0cf34 <unknown>\n#20 0x7f2df0694ac3 <unknown>\n"
     ]
    }
   ],
   "source": [
    "dict_produtos = {}\n",
    "for produto in produtos:\n",
    "\n",
    "    #imagem\n",
    "    dict_produtos['url_imagem'] = print(produto.find_element(By.CLASS_NAME,'jss63').get_attribute('src'))\n",
    "\n",
    "    #nome_produto\n",
    "    dict_produtos['nome_produto'] = produto.find_element(By.CLASS_NAME, 'MuiTypography-root.jss78.jss79.MuiTypography-h6').text"
   ]
  },
  {
   "cell_type": "code",
   "execution_count": 129,
   "id": "093a62e2-5334-47bd-ad7f-00285dff7dfb",
   "metadata": {},
   "outputs": [
    {
     "data": {
      "text/plain": [
       "{'url_imagem': None,\n",
       " 'nome_produto': 'Webcam Microsoft, 1080p, USB, Preto, 8L3-00001'}"
      ]
     },
     "execution_count": 129,
     "metadata": {},
     "output_type": "execute_result"
    }
   ],
   "source": [
    "dict_produtos"
   ]
  },
  {
   "cell_type": "code",
   "execution_count": null,
   "id": "3d0ad86a-792a-4d78-9f60-96d5f4977a16",
   "metadata": {},
   "outputs": [],
   "source": []
  }
 ],
 "metadata": {
  "kernelspec": {
   "display_name": "Python 3 (ipykernel)",
   "language": "python",
   "name": "python3"
  },
  "language_info": {
   "codemirror_mode": {
    "name": "ipython",
    "version": 3
   },
   "file_extension": ".py",
   "mimetype": "text/x-python",
   "name": "python",
   "nbconvert_exporter": "python",
   "pygments_lexer": "ipython3",
   "version": "3.10.12"
  }
 },
 "nbformat": 4,
 "nbformat_minor": 5
}
